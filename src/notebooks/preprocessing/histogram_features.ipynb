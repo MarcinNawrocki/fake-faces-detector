{
 "cells": [
  {
   "cell_type": "code",
   "execution_count": 1,
   "metadata": {},
   "outputs": [],
   "source": [
    "import typing as t\n",
    "import os\n",
    "import sys \n",
    "\n",
    "import numpy as np \n",
    "import pandas as pd\n",
    "import matplotlib.pyplot as plt \n",
    "from scipy.ndimage.filters import convolve\n",
    "from scipy.stats import ks_2samp\n",
    "\n",
    "# add src to path\n",
    "sys.path.append('../..')\n",
    "from utils.db_helper import get_image_data\n",
    "from utils.color_space_operations import get_difference_img_gen, calculate_difference_image"
   ]
  },
  {
   "cell_type": "code",
   "execution_count": 2,
   "metadata": {},
   "outputs": [],
   "source": [
    "GRAYSCALE=False\n",
    "base_save_path=base_save_path = os.path.join(\"..\", \"..\", \"..\", \"exp\", \"Histograms\")\n"
   ]
  },
  {
   "cell_type": "code",
   "execution_count": 7,
   "metadata": {},
   "outputs": [],
   "source": [
    "SOURCE_DIR_STYLE = R\"..\\..\\..\\classification_db\\fake\"\n",
    "SOURCE_DIR_FFHQ = R\"..\\..\\..\\classification_db\\real\"\n",
    "\n",
    "if (not os.path.exists(SOURCE_DIR_FFHQ)) or (not os.path.exists(SOURCE_DIR_STYLE)):\n",
    "    raise \"Paths not exists\""
   ]
  },
  {
   "cell_type": "code",
   "execution_count": 4,
   "metadata": {},
   "outputs": [],
   "source": [
    "def hist_peek_point(np_img: np.ndarray, bins=256, hist_range=(0,255), channels=9)-> t.Tuple[float, int]:\n",
    "    peek_points = []\n",
    "    for colorspace in range(channels):\n",
    "        np_hist, bins = np.histogram(np_img[:,:,colorspace], density=True, bins=bins, range=hist_range)\n",
    "        y = np_hist.max()\n",
    "        idx = np.argwhere(np_hist==y)\n",
    "        if len(idx)>1:\n",
    "            idx = int(idx[-1])\n",
    "        else:\n",
    "            idx = int(idx)\n",
    "        x = int(bins[idx])\n",
    "\n",
    "        peek_points.append((x,y))\n",
    "    return peek_points"
   ]
  },
  {
   "cell_type": "code",
   "execution_count": 5,
   "metadata": {},
   "outputs": [],
   "source": [
    "def peek_points_from_diff_dataset(dataset_gen: t.Generator[np.ndarray, None, None], bins=511, max_number_of_images=10, grayscale=False)-> t.Tuple[t.List[float], t.List[int]]:\n",
    "    print(\"Processing database...\")\n",
    "    peek_points = []\n",
    "    for np_img in dataset_gen:\n",
    "        x = hist_peek_point(np_img)\n",
    "        peek_points.append(x)\n",
    "    return peek_points"
   ]
  },
  {
   "cell_type": "markdown",
   "metadata": {},
   "source": [
    "# Peek points"
   ]
  },
  {
   "cell_type": "code",
   "execution_count": 6,
   "metadata": {},
   "outputs": [],
   "source": [
    "color_components = (\"R\", \"G\", \"B\", \"H\", \"S\", \"V\", \"Y\", \"Cb\", \"Cr\")\n",
    "categories = ['real', 'fake']\n",
    "GRAYSCALE=False\n",
    "# kernel = \"diff\"\n",
    "kernel = \"grad\""
   ]
  },
  {
   "cell_type": "code",
   "execution_count": null,
   "metadata": {},
   "outputs": [],
   "source": [
    "ffhq_gen = get_image_data(SOURCE_DIR_FFHQ, type='float', grayscale=False, max_number_of_images=100)\n",
    "style_gen = get_image_data(SOURCE_DIR_STYLE, type='float', grayscale=False, max_number_of_images=100)\n",
    "\n",
    "FFHQ_peek_points = peek_points_from_diff_dataset(get_difference_img_gen(ffhq_gen, kernel=kernel),  max_number_of_images=10, grayscale=GRAYSCALE)\n",
    "Style_peek_points = peek_points_from_diff_dataset(get_difference_img_gen(style_gen, kernel=kernel), max_number_of_images=10, grayscale=GRAYSCALE)"
   ]
  },
  {
   "cell_type": "code",
   "execution_count": null,
   "metadata": {},
   "outputs": [],
   "source": [
    "np_FFHQ_peek_points = np.asarray(FFHQ_peek_points)\n",
    "np_Style_peek_points = np.asarray(Style_peek_points)"
   ]
  },
  {
   "cell_type": "code",
   "execution_count": null,
   "metadata": {},
   "outputs": [],
   "source": [
    "fig, axs = plt.subplots(ncols=3, nrows=3, sharey=True, figsize=(20,12))\n",
    "fig.suptitle(f'{kernel} histogram peek points comparision')\n",
    "plt.subplots_adjust(hspace=0.5)\n",
    "\n",
    "for colorspace in range(len(color_components)):\n",
    "    axs[int(colorspace/3),colorspace%3].scatter(np_FFHQ_peek_points[:,colorspace,0], np_FFHQ_peek_points[:,colorspace,1], color='blue', label=categories[0])\n",
    "    axs[int(colorspace/3),colorspace%3].scatter(np_Style_peek_points[:,colorspace,0], np_Style_peek_points[:,colorspace,1], color='orange', label=categories[1])\n",
    "    axs[int(colorspace/3),colorspace%3].legend(['real', 'fake'])\n",
    "    axs[int(colorspace/3),colorspace%3].set_title(color_components[colorspace])\n",
    "\n",
    "plt.show()\n",
    "savepath = os.path.join(base_save_path, f\"Peek_point_comparision_{kernel}.png\")\n",
    "# fig.savefig(savepath)"
   ]
  },
  {
   "cell_type": "code",
   "execution_count": null,
   "metadata": {},
   "outputs": [],
   "source": [
    "fig, axs = plt.subplots(ncols=3, nrows=3, sharey=True, figsize=(20,12))\n",
    "fig.suptitle(f'{kernel} histogram peek points comparision')\n",
    "plt.subplots_adjust(hspace=0.5)\n",
    "\n",
    "for colorspace in range(len(color_components)):\n",
    "    axs[int(colorspace/3),colorspace%3].scatter(range(100), np_FFHQ_peek_points[:,colorspace,1], color='blue', label=categories[0])\n",
    "    axs[int(colorspace/3),colorspace%3].scatter(range(100), np_Style_peek_points[:,colorspace,1], color='orange', label=categories[1])\n",
    "    axs[int(colorspace/3),colorspace%3].legend(['real', 'fake'])\n",
    "    axs[int(colorspace/3),colorspace%3].set_title(color_components[colorspace])\n",
    "\n",
    "plt.show()\n",
    "savepath = os.path.join(base_save_path, f\"Peek_point_comparision_{kernel}_alt.png\")\n",
    "# fig.savefig(savepath)"
   ]
  },
  {
   "cell_type": "markdown",
   "metadata": {},
   "source": [
    "## Kolmogorov-Smirnoff test for color componenets"
   ]
  },
  {
   "cell_type": "code",
   "execution_count": null,
   "metadata": {},
   "outputs": [],
   "source": [
    "save_path = os.path.join(base_save_path, \"peek_points_diff+kstest.csv\")"
   ]
  },
  {
   "cell_type": "code",
   "execution_count": null,
   "metadata": {},
   "outputs": [],
   "source": [
    "results = []\n",
    "for colorspace in range(len(color_components)):\n",
    "    x_ks_test =  ks_2samp(np_FFHQ_peek_points[:,colorspace, 0], np_Style_peek_points[:,colorspace, 0])\n",
    "    y_ks_test =  ks_2samp(np_FFHQ_peek_points[:,colorspace, 1], np_Style_peek_points[:,colorspace, 1])\n",
    "    results.append((color_components[colorspace], x_ks_test, y_ks_test))\n"
   ]
  },
  {
   "cell_type": "code",
   "execution_count": null,
   "metadata": {},
   "outputs": [],
   "source": [
    "# statistic ks_test\n",
    "df_results = pd.DataFrame(results, columns=[\"Color_component\", \"X\", \"Y\"])\n",
    "# df_results.to_csv(save_path)\n",
    "df_results"
   ]
  },
  {
   "cell_type": "code",
   "execution_count": null,
   "metadata": {},
   "outputs": [],
   "source": []
  }
 ],
 "metadata": {
  "interpreter": {
   "hash": "0991d9f816f3ae08431cbfe77283594d685f9351f97c7a8199c52bebed5a8c9f"
  },
  "kernelspec": {
   "display_name": "Python 3.7.9 64-bit ('TF_gpu': conda)",
   "name": "python3"
  },
  "language_info": {
   "codemirror_mode": {
    "name": "ipython",
    "version": 3
   },
   "file_extension": ".py",
   "mimetype": "text/x-python",
   "name": "python",
   "nbconvert_exporter": "python",
   "pygments_lexer": "ipython3",
   "version": "3.7.9"
  },
  "orig_nbformat": 2
 },
 "nbformat": 4,
 "nbformat_minor": 2
}
