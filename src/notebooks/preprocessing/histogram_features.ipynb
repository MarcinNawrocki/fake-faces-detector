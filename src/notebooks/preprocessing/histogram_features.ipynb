{
 "metadata": {
  "language_info": {
   "codemirror_mode": {
    "name": "ipython",
    "version": 3
   },
   "file_extension": ".py",
   "mimetype": "text/x-python",
   "name": "python",
   "nbconvert_exporter": "python",
   "pygments_lexer": "ipython3",
   "version": "3.7.9-final"
  },
  "orig_nbformat": 2,
  "kernelspec": {
   "name": "python3",
   "display_name": "Python 3.7.9 64-bit ('TF_gpu': conda)",
   "metadata": {
    "interpreter": {
     "hash": "0991d9f816f3ae08431cbfe77283594d685f9351f97c7a8199c52bebed5a8c9f"
    }
   }
  }
 },
 "nbformat": 4,
 "nbformat_minor": 2,
 "cells": [
  {
   "cell_type": "code",
   "execution_count": null,
   "metadata": {},
   "outputs": [],
   "source": [
    "import typing as t\n",
    "\n",
    "import numpy as np \n",
    "import matplotlib.pyplot as plt \n",
    "from scipy.ndimage.filters import convolve\n",
    "\n",
    "# add src to path\n",
    "sys.path.append('../..')\n",
    "from utils.db_helper import get_image_data"
   ]
  },
  {
   "cell_type": "code",
   "execution_count": null,
   "metadata": {},
   "outputs": [],
   "source": [
    "GRAYSCALE=True\n",
    "base_save_path=base_save_path = os.path.join(\"..\", \"..\", \"..\", \"exp\", \"Comatrix\")\n"
   ]
  },
  {
   "cell_type": "code",
   "execution_count": null,
   "metadata": {},
   "outputs": [],
   "source": [
    "SOURCE_DIR_V1 = \"C:/database/StyleGanv1\"\n",
    "SOURCE_DIR_V2 = \"C:/database/StyleGanv2\"\n",
    "SOURCE_DIR_FFHQ = \"C:/database/FFHQ\""
   ]
  },
  {
   "cell_type": "code",
   "execution_count": null,
   "metadata": {},
   "outputs": [],
   "source": [
    "def calculate_difference_image(np_img: np.ndarray)-> np.ndarray:\n",
    "    \"\"\"\n",
    "    np_img must be int not float\n",
    "    \"\"\"\n",
    "    np_filter = np.array((1,-1)).reshape(1,2)\n",
    "    np_img = np_img.astype(np.int16)\n",
    "    np_diff_img = np.empty(np_img.shape, dtype=np.int16)\n",
    "    if len(np_img.shape) == 3:\n",
    "        for i in range(np_img.shape[-1]):\n",
    "            np_diff_img[:,:,i] = convolve(np_img[:,:,i], np_filter)\n",
    "    elif len(np_img.shape) == 2:\n",
    "        np_diff_img = convolve(np_img, np_filter)\n",
    "    else:\n",
    "        raise ValueError('Bad shape of the image')\n",
    "    return np_diff_img"
   ]
  },
  {
   "cell_type": "code",
   "execution_count": null,
   "metadata": {},
   "outputs": [],
   "source": [
    "def hist_peek_point(img: np.ndarray, bins=511, hist_range=(-255,256))-> t.Tuple[float, int]:\n",
    "    hist, bins = np.histogram(img, density=True, bins=bins, range=hist_range)\n",
    "    y = hist.max()\n",
    "    idx = int(np.argwhere(hist==y))\n",
    "    x = int(bins[idx])\n",
    "    return x, y"
   ]
  },
  {
   "cell_type": "code",
   "execution_count": null,
   "metadata": {},
   "outputs": [],
   "source": [
    "def avg_hist_from_diff_img(src_path: str, max_number_of_images=10, bins=511, grayscale=False)-> t.Tuple[np.ndarray, range]:\n",
    "    print(\"Loading dataset...\")\n",
    "    hist_range = (-255,256)  #ToDo automatic generation based on bins\n",
    "    dataset_gen = get_image_data(src_path, type='int', grayscale=grayscale)\n",
    "    print(\"Processing database...\")\n",
    "    number_of_images = 0\n",
    "    np_avg_hist = np.zeros((bins,), dtype=np.float64)\n",
    "    for img in dataset_gen:\n",
    "        diff_img = calculate_difference_image(img)\n",
    "        hist, _ = np.histogram(diff_img, density=True, bins=bins, range=hist_range)\n",
    "        np_avg_hist += hist\n",
    "        number_of_images += 1\n",
    "        if np_avg_hist.max() > 0.95*np.finfo(np_avg_hist.dtype).max:\n",
    "            raise ValueError(\"Dataset to large\")\n",
    "            break\n",
    "        elif number_of_images == max_number_of_images:\n",
    "            print(\"Finish calcluating avg histogram\")\n",
    "            break\n",
    "    return np_avg_hist / number_of_images, range(hist_range[0], hist_range[1])\n"
   ]
  },
  {
   "cell_type": "code",
   "execution_count": null,
   "metadata": {},
   "outputs": [],
   "source": [
    "def peek_points_from_diff_dataset(src_path: str, bins=511, max_number_of_images=10, grayscale=False)-> t.Tuple[t.List[float], t.List[int]]:\n",
    "    print(\"Loading dataset...\")\n",
    "    dataset_gen = get_image_data(src_path, type='int', max_number_of_images=max_number_of_images, grayscale=grayscale)\n",
    "    print(\"Processing database...\")\n",
    "    peek_points_x, peek_points_y = [], []\n",
    "    for img in dataset_gen:\n",
    "        diff_img = calculate_difference_image(img)\n",
    "        x, y = hist_peek_point(diff_img)\n",
    "        peek_points_x.append(x)\n",
    "        peek_points_y.append(y)\n",
    "    return peek_points_x, peek_points_y"
   ]
  },
  {
   "source": [
    "# Peek points"
   ],
   "cell_type": "markdown",
   "metadata": {}
  },
  {
   "cell_type": "code",
   "execution_count": null,
   "metadata": {},
   "outputs": [],
   "source": [
    "_, FFHQ_peek_points = peek_points_from_diff_dataset(SOURCE_DIR_FFHQ, max_number_of_images=1000, grayscale=GRAYSCALE)\n",
    "_, Stylev1_peek_points = peek_points_from_diff_dataset(SOURCE_DIR_V1, max_number_of_images=1000, grayscale=GRAYSCALE)\n",
    "_, Stylev2_peek_points = peek_points_from_diff_dataset(SOURCE_DIR_V2, max_number_of_images=1000, grayscale=GRAYSCALE)"
   ]
  },
  {
   "cell_type": "code",
   "execution_count": null,
   "metadata": {},
   "outputs": [],
   "source": [
    "x = len(FFHQ_peek_points)\n",
    "fig = plt.figure(figsize=(15,15))\n",
    "ax1 = fig.add_subplot(111)\n",
    "\n",
    "ax1.scatter(range(x), FFHQ_peek_points, color='blue', label='FFHQ')\n",
    "ax1.scatter(range(x), Stylev1_peek_points, color='orange', label='StyleV1')\n",
    "ax1.scatter(range(x), Stylev2_peek_points,  color='green', label='StyleV2')\n",
    "fig.suptitle('Diff histogram peek points comparision')\n",
    "plt.legend(loc='upper left')\n",
    "plt.show()\n",
    "#fig.savefig('../../../exp/Histograms/Peek_points_comparision_v2.png')"
   ]
  },
  {
   "source": [
    "# Histograms"
   ],
   "cell_type": "markdown",
   "metadata": {}
  },
  {
   "cell_type": "code",
   "execution_count": null,
   "metadata": {},
   "outputs": [],
   "source": [
    "np_ffhq_avg_hist, bins = avg_hist_from_diff_img(SOURCE_DIR_FFHQ, max_number_of_images=1000, grayscale=GRAYSCALE)\n",
    "np_style1_avg_hist, bins = avg_hist_from_diff_img(SOURCE_DIR_V1, max_number_of_images=1000, grayscale=GRAYSCALE)\n",
    "np_style2_avg_hist, bins = avg_hist_from_diff_img(SOURCE_DIR_V2, max_number_of_images=1000, grayscale=GRAYSCALE)\n",
    "\n",
    "fig, axs = plt.subplots(ncols=3, sharey=True, figsize=(15,7))\n",
    "fig.suptitle('Comparision of average histograms from difference images')\n",
    "axs[0].plot(list(bins), np_ffhq_avg_hist)\n",
    "axs[0].set_title('FFHQ')\n",
    "axs[1].plot(list(bins), np_style1_avg_hist, color=\"orange\")\n",
    "axs[1].set_title('StyleGanV1')\n",
    "axs[2].plot(list(bins), np_style2_avg_hist, color=\"green\")\n",
    "axs[2].set_title('StyleGanV2')\n",
    "#fig.savefig('../../../exp/Histograms/Avg_comparision.png')"
   ]
  },
  {
   "cell_type": "code",
   "execution_count": null,
   "metadata": {},
   "outputs": [],
   "source": []
  }
 ]
}