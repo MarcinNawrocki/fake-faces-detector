{
 "metadata": {
  "language_info": {
   "codemirror_mode": {
    "name": "ipython",
    "version": 3
   },
   "file_extension": ".py",
   "mimetype": "text/x-python",
   "name": "python",
   "nbconvert_exporter": "python",
   "pygments_lexer": "ipython3",
   "version": "3.7.9"
  },
  "orig_nbformat": 2,
  "kernelspec": {
   "name": "python3",
   "display_name": "Python 3.7.9 64-bit ('TF_gpu': conda)"
  },
  "interpreter": {
   "hash": "0991d9f816f3ae08431cbfe77283594d685f9351f97c7a8199c52bebed5a8c9f"
  }
 },
 "nbformat": 4,
 "nbformat_minor": 2,
 "cells": [
  {
   "cell_type": "code",
   "execution_count": null,
   "source": [
    "import typing as t\r\n",
    "import os\r\n",
    "import sys \r\n",
    "\r\n",
    "import numpy as np \r\n",
    "import pandas as pd\r\n",
    "import matplotlib.pyplot as plt \r\n",
    "from scipy.ndimage.filters import convolve\r\n",
    "from scipy.stats import ks_2samp\r\n",
    "\r\n",
    "# add src to path\r\n",
    "sys.path.append('../..')\r\n",
    "from utils.db_helper import get_image_data\r\n",
    "from utils.color_space_operations import get_difference_img_gen, calculate_difference_image"
   ],
   "outputs": [],
   "metadata": {}
  },
  {
   "cell_type": "code",
   "execution_count": null,
   "source": [
    "GRAYSCALE=False\r\n",
    "base_save_path=base_save_path = os.path.join(\"..\", \"..\", \"..\", \"exp\", \"Histograms\")\r\n"
   ],
   "outputs": [],
   "metadata": {}
  },
  {
   "cell_type": "code",
   "execution_count": null,
   "source": [
    "SOURCE_DIR_STYLE = R\"F:\\master-thesis-databases\\classification_db\\fake\"\r\n",
    "SOURCE_DIR_FFHQ = R\"F:\\master-thesis-databases\\classification_db\\real\""
   ],
   "outputs": [],
   "metadata": {}
  },
  {
   "cell_type": "code",
   "execution_count": null,
   "source": [
    "def hist_peek_point(np_img: np.ndarray, bins=256, hist_range=(0,255), channels=9)-> t.Tuple[float, int]:\r\n",
    "    peek_points = []\r\n",
    "    for colorspace in range(channels):\r\n",
    "        np_hist, bins = np.histogram(np_img[:,:,colorspace], density=True, bins=bins, range=hist_range)\r\n",
    "        y = np_hist.max()\r\n",
    "        idx = np.argwhere(np_hist==y)\r\n",
    "        if len(idx)>1:\r\n",
    "            idx = int(idx[-1])\r\n",
    "        else:\r\n",
    "            idx = int(idx)\r\n",
    "        x = int(bins[idx])\r\n",
    "\r\n",
    "        peek_points.append((x,y))\r\n",
    "    return peek_points"
   ],
   "outputs": [],
   "metadata": {}
  },
  {
   "cell_type": "code",
   "execution_count": null,
   "source": [
    "def peek_points_from_diff_dataset(dataset_gen: t.Generator[np.ndarray, None, None], bins=511, max_number_of_images=10, grayscale=False)-> t.Tuple[t.List[float], t.List[int]]:\r\n",
    "    print(\"Processing database...\")\r\n",
    "    peek_points = []\r\n",
    "    for np_img in dataset_gen:\r\n",
    "        x = hist_peek_point(np_img)\r\n",
    "        peek_points.append(x)\r\n",
    "    return peek_points"
   ],
   "outputs": [],
   "metadata": {}
  },
  {
   "cell_type": "markdown",
   "source": [
    "# Peek points"
   ],
   "metadata": {}
  },
  {
   "cell_type": "code",
   "execution_count": null,
   "source": [
    "color_components = (\"R\", \"G\", \"B\", \"H\", \"S\", \"V\", \"Y\", \"Cb\", \"Cr\")\r\n",
    "categories = ['real', 'fake']\r\n",
    "GRAYSCALE=False\r\n",
    "# kernel = \"diff\"\r\n",
    "kernel = \"grad\""
   ],
   "outputs": [],
   "metadata": {}
  },
  {
   "cell_type": "code",
   "execution_count": null,
   "source": [
    "ffhq_gen = get_image_data(SOURCE_DIR_FFHQ, type='float', grayscale=False, max_number_of_images=100)\r\n",
    "style_gen = get_image_data(SOURCE_DIR_STYLE, type='float', grayscale=False, max_number_of_images=100)\r\n",
    "\r\n",
    "FFHQ_peek_points = peek_points_from_diff_dataset(get_difference_img_gen(ffhq_gen, kernel=kernel),  max_number_of_images=10, grayscale=GRAYSCALE)\r\n",
    "Style_peek_points = peek_points_from_diff_dataset(get_difference_img_gen(style_gen, kernel=kernel), max_number_of_images=10, grayscale=GRAYSCALE)"
   ],
   "outputs": [],
   "metadata": {}
  },
  {
   "cell_type": "code",
   "execution_count": null,
   "source": [
    "np_FFHQ_peek_points = np.asarray(FFHQ_peek_points)\r\n",
    "np_Style_peek_points = np.asarray(Style_peek_points)"
   ],
   "outputs": [],
   "metadata": {}
  },
  {
   "cell_type": "code",
   "execution_count": null,
   "source": [
    "fig, axs = plt.subplots(ncols=3, nrows=3, sharey=True, figsize=(20,12))\r\n",
    "fig.suptitle(f'{kernel} histogram peek points comparision')\r\n",
    "plt.subplots_adjust(hspace=0.5)\r\n",
    "\r\n",
    "for colorspace in range(len(color_components)):\r\n",
    "    axs[int(colorspace/3),colorspace%3].scatter(np_FFHQ_peek_points[:,colorspace,0], np_FFHQ_peek_points[:,colorspace,1], color='blue', label=categories[0])\r\n",
    "    axs[int(colorspace/3),colorspace%3].scatter(np_Style_peek_points[:,colorspace,0], np_Style_peek_points[:,colorspace,1], color='orange', label=categories[1])\r\n",
    "    axs[int(colorspace/3),colorspace%3].legend(['real', 'fake'])\r\n",
    "    axs[int(colorspace/3),colorspace%3].set_title(color_components[colorspace])\r\n",
    "\r\n",
    "plt.show()\r\n",
    "savepath = os.path.join(base_save_path, f\"Peek_point_comparision_{kernel}.png\")\r\n",
    "# fig.savefig(savepath)"
   ],
   "outputs": [],
   "metadata": {}
  },
  {
   "cell_type": "code",
   "execution_count": null,
   "source": [
    "fig, axs = plt.subplots(ncols=3, nrows=3, sharey=True, figsize=(20,12))\r\n",
    "fig.suptitle(f'{kernel} histogram peek points comparision')\r\n",
    "plt.subplots_adjust(hspace=0.5)\r\n",
    "\r\n",
    "for colorspace in range(len(color_components)):\r\n",
    "    axs[int(colorspace/3),colorspace%3].scatter(range(100), np_FFHQ_peek_points[:,colorspace,1], color='blue', label=categories[0])\r\n",
    "    axs[int(colorspace/3),colorspace%3].scatter(range(100), np_Style_peek_points[:,colorspace,1], color='orange', label=categories[1])\r\n",
    "    axs[int(colorspace/3),colorspace%3].legend(['real', 'fake'])\r\n",
    "    axs[int(colorspace/3),colorspace%3].set_title(color_components[colorspace])\r\n",
    "\r\n",
    "plt.show()\r\n",
    "savepath = os.path.join(base_save_path, f\"Peek_point_comparision_{kernel}_alt.png\")\r\n",
    "# fig.savefig(savepath)"
   ],
   "outputs": [],
   "metadata": {}
  },
  {
   "cell_type": "markdown",
   "source": [
    "## Kolmogorov-Smirnoff test for color componenets"
   ],
   "metadata": {}
  },
  {
   "cell_type": "code",
   "execution_count": null,
   "source": [
    "save_path = os.path.join(base_save_path, \"peek_points_diff+kstest.csv\")"
   ],
   "outputs": [],
   "metadata": {}
  },
  {
   "cell_type": "code",
   "execution_count": null,
   "source": [
    "results = []\r\n",
    "for colorspace in range(len(color_components)):\r\n",
    "    x_ks_test =  ks_2samp(np_FFHQ_peek_points[:,colorspace, 0], np_Style_peek_points[:,colorspace, 0])\r\n",
    "    y_ks_test =  ks_2samp(np_FFHQ_peek_points[:,colorspace, 1], np_Style_peek_points[:,colorspace, 1])\r\n",
    "    results.append((color_components[colorspace], x_ks_test, y_ks_test))\r\n"
   ],
   "outputs": [],
   "metadata": {}
  },
  {
   "cell_type": "code",
   "execution_count": null,
   "source": [
    "# statistic ks_test\r\n",
    "df_results = pd.DataFrame(results, columns=[\"Color_component\", \"X\", \"Y\"])\r\n",
    "# df_results.to_csv(save_path)\r\n",
    "df_results"
   ],
   "outputs": [],
   "metadata": {}
  },
  {
   "cell_type": "code",
   "execution_count": null,
   "source": [],
   "outputs": [],
   "metadata": {}
  }
 ]
}