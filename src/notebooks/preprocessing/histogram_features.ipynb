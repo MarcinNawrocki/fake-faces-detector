{
 "metadata": {
  "language_info": {
   "codemirror_mode": {
    "name": "ipython",
    "version": 3
   },
   "file_extension": ".py",
   "mimetype": "text/x-python",
   "name": "python",
   "nbconvert_exporter": "python",
   "pygments_lexer": "ipython3",
   "version": "3.7.9"
  },
  "orig_nbformat": 2,
  "kernelspec": {
   "name": "python3",
   "display_name": "Python 3.7.9 64-bit ('TF_gpu': conda)"
  },
  "interpreter": {
   "hash": "0991d9f816f3ae08431cbfe77283594d685f9351f97c7a8199c52bebed5a8c9f"
  }
 },
 "nbformat": 4,
 "nbformat_minor": 2,
 "cells": [
  {
   "cell_type": "code",
   "execution_count": null,
   "metadata": {},
   "outputs": [],
   "source": [
    "import typing as t\n",
    "\n",
    "import numpy as np \n",
    "import pandas as pd\n",
    "import matplotlib.pyplot as plt \n",
    "from scipy.ndimage.filters import convolve\n",
    "from scipy.stats import ks_2samp\n",
    "\n",
    "# add src to path\n",
    "sys.path.append('../..')\n",
    "from utils.db_helper import get_image_data\n",
    "from utils.color_space_operations import get_difference_img_gen, calculate_difference_image"
   ]
  },
  {
   "cell_type": "code",
   "execution_count": null,
   "metadata": {},
   "outputs": [],
   "source": [
    "GRAYSCALE=False\n",
    "base_save_path=base_save_path = os.path.join(\"..\", \"..\", \"..\", \"exp\", \"Histograms\")\n"
   ]
  },
  {
   "cell_type": "code",
   "execution_count": null,
   "metadata": {},
   "outputs": [],
   "source": [
    "SOURCE_DIR_STYLE = R\"F:\\master-thesis-databases\\classification_db\\fake\"\n",
    "SOURCE_DIR_FFHQ = R\"F:\\master-thesis-databases\\classification_db\\real\""
   ]
  },
  {
   "cell_type": "code",
   "execution_count": null,
   "metadata": {},
   "outputs": [],
   "source": [
    "def hist_peek_point(np_img: np.ndarray, bins=256, hist_range=(0,255), channels=9)-> t.Tuple[float, int]:\n",
    "    peek_points = []\n",
    "    for colorspace in range(channels):\n",
    "        np_hist, bins = np.histogram(np_img[:,:,colorspace], density=True, bins=bins, range=hist_range)\n",
    "        y = np_hist.max()\n",
    "        idx = np.argwhere(np_hist==y)\n",
    "        if len(idx)>1:\n",
    "            idx = int(idx[0])\n",
    "        else:\n",
    "            idx = int(idx)\n",
    "            \n",
    "        x = int(bins[idx])\n",
    "        peek_points.append((x,y))\n",
    "    return peek_points"
   ]
  },
  {
   "cell_type": "code",
   "execution_count": null,
   "metadata": {},
   "outputs": [],
   "source": [
    "def peek_points_from_diff_dataset(dataset_gen: t.Generator[np.ndarray, None, None], bins=511, max_number_of_images=10, grayscale=False)-> t.Tuple[t.List[float], t.List[int]]:\n",
    "    print(\"Processing database...\")\n",
    "    peek_points, peek_points_y = [], []\n",
    "    for np_img in dataset_gen:\n",
    "        x = hist_peek_point(np_img)\n",
    "        peek_points.append(x)\n",
    "    return peek_points"
   ]
  },
  {
   "source": [
    "# Peek points"
   ],
   "cell_type": "markdown",
   "metadata": {}
  },
  {
   "cell_type": "code",
   "execution_count": null,
   "metadata": {},
   "outputs": [],
   "source": [
    "color_components = (\"R\", \"G\", \"B\", \"H\", \"S\", \"V\", \"Y\", \"Cb\", \"Cr\")\n",
    "categories = ['real', 'fake']\n",
    "GRAYSCALE=False"
   ]
  },
  {
   "cell_type": "code",
   "execution_count": null,
   "metadata": {},
   "outputs": [],
   "source": [
    "ffhq_gen = get_image_data(SOURCE_DIR_FFHQ, type='float', grayscale=False, max_number_of_images=100)\n",
    "style_gen = get_image_data(SOURCE_DIR_STYLE, type='float', grayscale=False, max_number_of_images=100)\n",
    "\n",
    "FFHQ_peek_points = peek_points_from_diff_dataset(get_difference_img_gen(ffhq_gen), max_number_of_images=100, grayscale=GRAYSCALE)\n",
    "Style_peek_points = peek_points_from_diff_dataset(get_difference_img_gen(style_gen), max_number_of_images=100, grayscale=GRAYSCALE)"
   ]
  },
  {
   "cell_type": "code",
   "execution_count": null,
   "metadata": {},
   "outputs": [],
   "source": [
    "np_FFHQ_peek_points = np.asarray(FFHQ_peek_points)\n",
    "np_Style_peek_points = np.asarray(Style_peek_points)"
   ]
  },
  {
   "cell_type": "code",
   "execution_count": null,
   "metadata": {},
   "outputs": [],
   "source": [
    "for colorspace in range(len(color_components)):\n",
    "    fig = plt.figure(figsize=(15,15))\n",
    "    ax1 = fig.add_subplot(111)\n",
    "\n",
    "    ax1.scatter(np_FFHQ_peek_points[:,colorspace,0], np_FFHQ_peek_points[:,colorspace,1], color='blue', label=categories[0])\n",
    "    ax1.scatter(np_Style_peek_points[:,colorspace,0], np_Style_peek_points[:,colorspace,1], color='orange', label=categories[1])\n",
    "    fig.suptitle(f'Diff histogram peek points comparision for color: {color_components[colorspace]}')\n",
    "    plt.legend(loc='upper left')\n",
    "    plt.show()\n",
    "#fig.savefig('../../../exp/Histograms/Peek_points_comparision_v2.png')"
   ]
  },
  {
   "source": [
    "## Kolmogorov-Smirnoff test for color componenets"
   ],
   "cell_type": "markdown",
   "metadata": {}
  },
  {
   "cell_type": "code",
   "execution_count": null,
   "metadata": {},
   "outputs": [],
   "source": [
    "save_path = os.path.join(base_save_path, \"peek_points_diff+kstest.csv\")"
   ]
  },
  {
   "cell_type": "code",
   "execution_count": null,
   "metadata": {},
   "outputs": [],
   "source": [
    "results = []\n",
    "for colorspace in range(len(color_components)):\n",
    "    x_ks_test =  ks_2samp(np_FFHQ_peek_points[:,colorspace, 0], np_Style_peek_points[:,colorspace, 0])\n",
    "    y_ks_test =  ks_2samp(np_FFHQ_peek_points[:,colorspace, 1], np_Style_peek_points[:,colorspace, 1])\n",
    "    results.append((color_components[colorspace], x_ks_test, y_ks_test))\n"
   ]
  },
  {
   "cell_type": "code",
   "execution_count": null,
   "metadata": {},
   "outputs": [],
   "source": [
    "df_results = pd.DataFrame(results, columns=[\"Color_component\", \"X\", \"Y\"])\n",
    "# df_results.to_csv(save_path)\n",
    "df_results"
   ]
  },
  {
   "cell_type": "code",
   "execution_count": null,
   "metadata": {},
   "outputs": [],
   "source": [
    "\n"
   ]
  },
  {
   "cell_type": "code",
   "execution_count": null,
   "metadata": {},
   "outputs": [],
   "source": []
  }
 ]
}