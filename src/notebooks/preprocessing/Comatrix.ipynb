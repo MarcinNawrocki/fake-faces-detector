{
 "cells": [
  {
   "cell_type": "code",
   "execution_count": null,
   "id": "through-studio",
   "metadata": {},
   "outputs": [],
   "source": [
    "import os\n",
    "import sys \n",
    "import typing as t\n",
    "from PIL import Image\n",
    "\n",
    "import numpy as np\n",
    "import matplotlib.pyplot as plt\n",
    "plt.rcParams.update({'figure.max_open_warning': 0})\n",
    "from skimage.feature import greycomatrix\n",
    "\n",
    "# add src to path\n",
    "sys.path.append('../..')\n",
    "from utils.db_helper import get_image_data"
   ]
  },
  {
   "cell_type": "code",
   "execution_count": null,
   "id": "architectural-march",
   "metadata": {},
   "outputs": [],
   "source": [
    "SOURCE_DIR_V1 = \"C:/database/StyleGanv1\"\n",
    "SOURCE_DIR_V2 = \"C:/database/StyleGanv2\"\n",
    "SOURCE_DIR_FFHQ = \"C:/database/FFHQ\""
   ]
  },
  {
   "cell_type": "code",
   "execution_count": null,
   "metadata": {},
   "outputs": [],
   "source": [
    "GRAYSCALE=False\n",
    "base_save_path = os.path.join(\"..\", \"..\", \"..\", \"exp\", \"Comatrix\")\n",
    "DISTANCES = [1,2,3,4,5,6,7,8,9,10]\n",
    "ANGLES = [0, np.pi/4, np.pi/2, 3*np.pi/4]"
   ]
  },
  {
   "cell_type": "code",
   "execution_count": null,
   "id": "multiple-albania",
   "metadata": {},
   "outputs": [],
   "source": [
    "def comatrix_from_image(np_img: np.ndarray, distances: t.List[int], angles: t.List[float])-> np.ndarray:\n",
    "    np_comatrix = np.empty(np_img.shape+(len(distances),len(angles)))\n",
    "    if len(np_img.shape) == 3:\n",
    "        for i in range(np_img.shape[-1]):\n",
    "            np_comatrix[:,:,i] = greycomatrix(np_img[:,:,i], distances, angles)\n",
    "    elif len(np_img.shape) == 2:\n",
    "       np_comatrix = greycomatrix(np_img, distances, angles)\n",
    "    else:\n",
    "        raise ValueError('Bad shape of the image')\n",
    "    return np_comatrix"
   ]
  },
  {
   "cell_type": "code",
   "execution_count": null,
   "id": "brief-trash",
   "metadata": {},
   "outputs": [],
   "source": [
    "def comatrix_from_dataset(src_path: str, distances: t.List[int], angles: t.List[float], grayscale=False)-> np.ndarray:\n",
    "    print(\"Loading dataset...\")\n",
    "    dataset_gen = get_image_data(src_path, type='int', grayscale=grayscale)\n",
    "    final_type = np.float64\n",
    "    print(\"Processing database...\")\n",
    "    np_comatrix_dataset = np.zeros(next(dataset_gen).shape+(len(distances),len(angles)), \n",
    "                                   dtype=final_type)\n",
    "    number_of_images = 0\n",
    "    for np_image in dataset_gen:\n",
    "        np_tmp_comatrix = comatrix_from_image(np_image, distances, angles)\n",
    "        np_comatrix_dataset += np_tmp_comatrix\n",
    "        number_of_images +=1\n",
    "        if number_of_images % 100 == 0:\n",
    "            print(f\"Image number: {number_of_images}\")\n",
    "        elif np_comatrix_dataset.max() > 0.95*np.finfo(final_type).max:\n",
    "            raise ValueError(\"Dataset to large, datatype overflow\")\n",
    "            break\n",
    "    print (f\"{number_of_images} processed from path: {src_path}\")\n",
    "    return np_comatrix_dataset / number_of_images"
   ]
  },
  {
   "cell_type": "code",
   "execution_count": null,
   "id": "iraqi-allah",
   "metadata": {},
   "outputs": [],
   "source": [
    "# def display_comatrix(np_comatrix_dataset: np.ndarray):\n",
    "np_comatrix_ffhq = comatrix_from_dataset(SOURCE_DIR_FFHQ, DISTANCES, ANGLES, grayscale=GRAYSCALE)\n",
    "np_comatrix_style1 = comatrix_from_dataset(SOURCE_DIR_V1, DISTANCES, ANGLES, grayscale=GRAYSCALE)\n",
    "np_comatrix_style2 = comatrix_from_dataset(SOURCE_DIR_V2, DISTANCES, ANGLES, grayscale=GRAYSCALE)"
   ]
  },
  {
   "cell_type": "code",
   "execution_count": null,
   "metadata": {},
   "outputs": [],
   "source": [
    "datasets = {\n",
    "    'ffhq': np_comatrix_ffhq,\n",
    "    'StyleGanv1': np_comatrix_style1,\n",
    "    'StyleGanv2': np_comatrix_style2\n",
    "}\n",
    "\n",
    "if GRAYSCALE:\n",
    "    color_channels = {\n",
    "    \"0\": 'Gray',\n",
    "    }\n",
    "else:\n",
    "    color_channels = {\n",
    "        \"0\": 'R',\n",
    "        \"1\": 'G',\n",
    "        '2': 'B'\n",
    "    }"
   ]
  },
  {
   "cell_type": "code",
   "execution_count": null,
   "metadata": {},
   "outputs": [],
   "source": [
    "i=0\n",
    "for distance in DISTANCES:\n",
    "    j=0\n",
    "    for angle in ANGLES:\n",
    "        fig, axs = plt.subplots(nrows=3, ncols=len(color_channels), figsize=(15,15))\n",
    "        fig.suptitle(f'Comatrixes for distance: {distance} and angle: {angle} rads')\n",
    "        row=0\n",
    "        for name, dataset in datasets.items():\n",
    "            if len(color_channels) > 1:\n",
    "                for col in range(len(color_channels)):\n",
    "                    axs[row,col].imshow(dataset[:,:,col,i,j])\n",
    "                    axs[row,col].set_title(f\"{name}_{color_channels[str(col)]}\")\n",
    "            else:\n",
    "                    axs[row].imshow(dataset[:,:,i,j])\n",
    "                    axs[row].set_title(f\"{name}\")\n",
    "            row+=1\n",
    "        #saving image\n",
    "        directory = 'Grayscale' if GRAYSCALE else 'RGB'\n",
    "        filename=f\"{distance}_{angle}.png\"\n",
    "        save_path = os.path.join(base_save_path, directory, filename)\n",
    "        #print(save_path)\n",
    "        fig.savefig(save_path)\n",
    "        j+=1\n",
    "    i+=1"
   ]
  }
 ],
 "metadata": {
  "kernelspec": {
   "display_name": "TF_gpu",
   "language": "python",
   "name": "tf_gpu"
  },
  "language_info": {
   "codemirror_mode": {
    "name": "ipython",
    "version": 3
   },
   "file_extension": ".py",
   "mimetype": "text/x-python",
   "name": "python",
   "nbconvert_exporter": "python",
   "pygments_lexer": "ipython3",
   "version": "3.7.9-final"
  }
 },
 "nbformat": 4,
 "nbformat_minor": 5
}