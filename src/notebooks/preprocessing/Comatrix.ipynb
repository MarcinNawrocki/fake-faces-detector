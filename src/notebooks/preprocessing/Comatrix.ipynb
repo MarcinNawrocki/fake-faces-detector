{
 "cells": [
  {
   "cell_type": "code",
   "execution_count": null,
   "id": "through-studio",
   "metadata": {},
   "outputs": [],
   "source": [
    "import os\n",
    "import sys \n",
    "import typing as t\n",
    "from PIL import Image\n",
    "\n",
    "import numpy as np\n",
    "import matplotlib.pyplot as plt\n",
    "plt.rcParams.update({'figure.max_open_warning': 0})\n",
    "from skimage.feature import greycomatrix\n",
    "from skimage.color import rgb2hsv, rgb2ycbcr\n",
    "\n",
    "# add src to path\n",
    "sys.path.append('../..')\n",
    "from utils.db_helper import get_image_data\n",
    "# from utils.color_space_operations import all_colorspaces_from_rgb"
   ]
  },
  {
   "cell_type": "code",
   "execution_count": null,
   "id": "architectural-march",
   "metadata": {},
   "outputs": [],
   "source": [
    "SOURCE_DIR_STYLE = R\"F:\\master-thesis-databases\\classification_db\\fake\"\n",
    "SOURCE_DIR_FFHQ = R\"F:\\master-thesis-databases\\classification_db\\real\""
   ]
  },
  {
   "cell_type": "code",
   "execution_count": null,
   "metadata": {},
   "outputs": [],
   "source": [
    "GRAYSCALE=False\n",
    "base_save_path = os.path.join(\"..\", \"..\", \"..\", \"exp\", \"Comatrix\")\n",
    "DISTANCES = [1,2]\n",
    "ANGLES = [0, np.pi/4, np.pi/2, 3*np.pi/4]"
   ]
  },
  {
   "cell_type": "code",
   "execution_count": null,
   "id": "multiple-albania",
   "metadata": {},
   "outputs": [],
   "source": [
    "def comatrix_from_image(np_img: np.ndarray, distances: t.List[int], angles: t.List[float])-> np.ndarray:\n",
    "    if len(np_img.shape) == 3:\n",
    "         np_comatrix = np.empty((256,256,np_img.shape[-1],len(distances),len(angles)))\n",
    "        for i in range(np_img.shape[-1]):\n",
    "            np_comatrix[:,:,i] = greycomatrix(np_img[:,:,i], distances, angles)\n",
    "    else:\n",
    "        raise ValueError('Image array must have 3 dimensions')\n",
    "    return np_comatrix"
   ]
  },
  {
   "cell_type": "code",
   "execution_count": null,
   "id": "brief-trash",
   "metadata": {},
   "outputs": [],
   "source": [
    "def comatrix_from_dataset(src_path: str, distances: t.List[int], angles: t.List[float], grayscale=False)-> np.ndarray:\n",
    "    print(\"Loading dataset...\")\n",
    "    dataset_gen = get_image_data(src_path, type='int', grayscale=grayscale)\n",
    "    final_type = np.float64\n",
    "    print(\"Processing database...\")\n",
    "    np_comatrix_dataset = np.zeros((256,256,9,len(distances),len(angles)), \n",
    "                                   dtype=final_type)\n",
    "    number_of_images = 0\n",
    "    for np_image in dataset_gen:\n",
    "        np_image = all_colorspaces_from_rgb(np_image, type='int')\n",
    "        np_tmp_comatrix = comatrix_from_image(np_image, distances, angles)\n",
    "        np_comatrix_dataset += np_tmp_comatrix\n",
    "        number_of_images +=1\n",
    "        if number_of_images % 100 == 0:\n",
    "            print(f\"Image number: {number_of_images}\")\n",
    "        elif np_comatrix_dataset.max() > 0.95*np.finfo(final_type).max:\n",
    "            raise ValueError(\"Dataset to large, datatype overflow\")\n",
    "            break\n",
    "    print (f\"{number_of_images} processed from path: {src_path}\")\n",
    "    return np_comatrix_dataset / number_of_images"
   ]
  },
  {
   "cell_type": "code",
   "execution_count": null,
   "id": "iraqi-allah",
   "metadata": {
    "tags": []
   },
   "outputs": [],
   "source": [
    "# def display_comatrix(np_comatrix_dataset: np.ndarray):\n",
    "np_comatrix_ffhq = comatrix_from_dataset(SOURCE_DIR_FFHQ, DISTANCES, ANGLES, grayscale=False)\n",
    "np_comatrix_style = comatrix_from_dataset(SOURCE_DIR_STYLE, DISTANCES, ANGLES, grayscale=GRAYSCALE)"
   ]
  },
  {
   "cell_type": "code",
   "execution_count": null,
   "metadata": {},
   "outputs": [],
   "source": [
    "datasets = {\n",
    "    'real': np_comatrix_ffhq,\n",
    "    'fake': np_comatrix_style\n",
    "}\n",
    "\n",
    "color_componenets = (\"R\", \"G\", \"B\", \"H\", \"S\", \"V\", \"Y\", \"Cb\", \"Cr\")\n",
    "\n",
    "if GRAYSCALE:\n",
    "    color_channels = {\n",
    "    \"0\": 'Gray',\n",
    "    }\n",
    "else:\n",
    "    color_channels = {\n",
    "        \"0\": 'R',\n",
    "        \"1\": 'G',\n",
    "        '2': 'B',\n",
    "        '3': 'H',\n",
    "        '4': 'S',\n",
    "        '5': 'V',\n",
    "        '6': 'Y',\n",
    "        '7': 'Cb',\n",
    "        '8': 'Cr'\n",
    "    }"
   ]
  },
  {
   "cell_type": "code",
   "execution_count": null,
   "metadata": {},
   "outputs": [],
   "source": [
    "i=0\n",
    "for distance in DISTANCES:\n",
    "    j=0\n",
    "    for angle in ANGLES:\n",
    "        fig, axs = plt.subplots(nrows=int(len(datasets)*len(color_channels)/3), ncols=3, figsize=(15,15))\n",
    "        fig.suptitle(f'Comatrixes for distance: {distance} and angle: {angle} rads')\n",
    "        plt.subplots_adjust(hspace=0.5)\n",
    "        row=0\n",
    "        dataset_nr=0\n",
    "        for name, dataset in datasets.items():\n",
    "            # if len(color_channels) > 1:\n",
    "            for col in range(len(color_channels)):\n",
    "                if col%3 == 0 and col>0:\n",
    "                    row+=1\n",
    "                axs[row+dataset_nr,col%3].imshow(dataset[:,:,col,i,j])\n",
    "                axs[row+dataset_nr,col%3].set_title(f\"{name}_{color_channels[str(col)]}\")\n",
    "            dataset_nr+=1\n",
    "            # else:\n",
    "            #         axs[row].imshow(dataset[:,:,i,j])\n",
    "            #         axs[row].set_title(f\"{name}\")\n",
    "            #row+=1\n",
    "        #saving image\n",
    "        #directory = 'Grayscale' if GRAYSCALE else 'Colors'\n",
    "        filename = f\"{distance}_{angle}.png\"\n",
    "        save_path = os.path.join(base_save_path, filename)\n",
    "        #plt.show()\n",
    "        fig.savefig(save_path)\n",
    "        j+=1\n",
    "    i+=1"
   ]
  },
  {
   "cell_type": "code",
   "execution_count": null,
   "metadata": {},
   "outputs": [],
   "source": []
  }
 ],
 "metadata": {
  "kernelspec": {
   "name": "tf_gpu",
   "display_name": "Python 3.7.9 64-bit ('TF_gpu': conda)"
  },
  "language_info": {
   "codemirror_mode": {
    "name": "ipython",
    "version": 3
   },
   "file_extension": ".py",
   "mimetype": "text/x-python",
   "name": "python",
   "nbconvert_exporter": "python",
   "pygments_lexer": "ipython3",
   "version": "3.7.9"
  }
 },
 "nbformat": 4,
 "nbformat_minor": 5
}