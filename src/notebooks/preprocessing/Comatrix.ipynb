{
 "cells": [
  {
   "cell_type": "code",
   "execution_count": null,
   "id": "through-studio",
   "metadata": {},
   "outputs": [],
   "source": [
    "import sys \n",
    "import typing as t\n",
    "from collections import namedtuple\n",
    "\n",
    "import numpy as np\n",
    "import pandas as pd\n",
    "import matplotlib.pyplot as plt\n",
    "plt.rcParams.update({'figure.max_open_warning': 0})\n",
    "from skimage.feature import greycomatrix, greycoprops\n",
    "from scipy.stats import ks_2samp\n",
    "\n",
    "# add src to path\n",
    "sys.path.append('../..')\n",
    "from utils.db_helper import get_image_data\n",
    "from utils.color_space_operations import all_colorspaces_from_rgb, comatrix_from_image"
   ]
  },
  {
   "cell_type": "code",
   "execution_count": null,
   "id": "architectural-march",
   "metadata": {},
   "outputs": [],
   "source": [
    "SOURCE_DIR_STYLE = R\"F:\\master-thesis-databases\\classification_db\\fake\"\n",
    "SOURCE_DIR_FFHQ = R\"F:\\master-thesis-databases\\classification_db\\real\"\n"
   ]
  },
  {
   "cell_type": "code",
   "execution_count": null,
   "metadata": {},
   "outputs": [],
   "source": [
    "GRAYSCALE=False\n",
    "base_save_path = os.path.join(\"..\", \"..\", \"..\", \"exp\", \"Comatrix\")\n",
    "DISTANCES = [1,2]\n",
    "ANGLES = [0, np.pi/4, np.pi/2, 3*np.pi/4]\n"
   ]
  },
  {
   "cell_type": "code",
   "execution_count": null,
   "id": "multiple-albania",
   "metadata": {},
   "outputs": [],
   "source": [
    "# def comatrix_from_image(np_img: np.ndarray, distances: t.List[int], angles: t.List[float])-> np.ndarray:\n",
    "#     if len(np_img.shape) == 3:\n",
    "#          np_comatrix = np.empty((256,256,np_img.shape[-1],len(distances),len(angles)))\n",
    "#          for i in range(np_img.shape[-1]):\n",
    "#             np_comatrix[:,:,i] = greycomatrix(np_img[:,:,i], distances, angles)\n",
    "#     else:\n",
    "#         raise ValueError('Image array must have 3 dimensions')\n",
    "#     return np_comatrix"
   ]
  },
  {
   "cell_type": "code",
   "execution_count": null,
   "id": "brief-trash",
   "metadata": {},
   "outputs": [],
   "source": [
    "def comatrix_from_dataset(src_path: str, distances: t.List[int], angles: t.List[float], grayscale=False)-> np.ndarray:\n",
    "    print(\"Loading dataset...\")\n",
    "    dataset_gen = get_image_data(src_path, type='int', grayscale=grayscale, max_number_of_images=100)\n",
    "    final_type = np.float64\n",
    "    print(\"Processing database...\")\n",
    "    np_comatrix_dataset = np.zeros((256,256,9,len(distances),len(angles)), \n",
    "                                   dtype=final_type)\n",
    "    number_of_images = 0\n",
    "    for np_image in dataset_gen:\n",
    "        np_image = all_colorspaces_from_rgb(np_image, type='int')\n",
    "        np_tmp_comatrix = comatrix_from_image(np_image, distances, angles)\n",
    "        np_comatrix_dataset += np_tmp_comatrix\n",
    "        number_of_images +=1\n",
    "        if number_of_images % 100 == 0:\n",
    "            print(f\"Image number: {number_of_images}\")\n",
    "        elif np_comatrix_dataset.max() > 0.95*np.finfo(final_type).max:\n",
    "            raise ValueError(\"Dataset to large, datatype overflow\")\n",
    "            break\n",
    "    print (f\"{number_of_images} processed from path: {src_path}\")\n",
    "    return np_comatrix_dataset / number_of_images"
   ]
  },
  {
   "cell_type": "code",
   "execution_count": null,
   "id": "iraqi-allah",
   "metadata": {
    "tags": []
   },
   "outputs": [],
   "source": [
    "# generate comatrixes\n",
    "np_comatrix_ffhq = comatrix_from_dataset(SOURCE_DIR_FFHQ, DISTANCES, ANGLES, grayscale=GRAYSCALE)\n",
    "np_comatrix_style = comatrix_from_dataset(SOURCE_DIR_STYLE, DISTANCES, ANGLES, grayscale=GRAYSCALE)"
   ]
  },
  {
   "source": [
    "## Comatrix"
   ],
   "cell_type": "markdown",
   "metadata": {}
  },
  {
   "cell_type": "code",
   "execution_count": null,
   "metadata": {},
   "outputs": [],
   "source": [
    "if GRAYSCALE:\n",
    "    color_channels = {\n",
    "    \"0\": 'Gray',\n",
    "    }\n",
    "else:\n",
    "    color_channels = {\n",
    "        \"0\": 'R',\n",
    "        \"1\": 'G',\n",
    "        '2': 'B',\n",
    "        '3': 'H',\n",
    "        '4': 'S',\n",
    "        '5': 'V',\n",
    "        '6': 'Y',\n",
    "        '7': 'Cb',\n",
    "        '8': 'Cr'\n",
    "    }\n",
    "    \n",
    "datasets = {\n",
    "    'real': np_comatrix_ffhq,\n",
    "    'fake': np_comatrix_style\n",
    "}"
   ]
  },
  {
   "source": [
    "### Plot comatrixes"
   ],
   "cell_type": "markdown",
   "metadata": {}
  },
  {
   "cell_type": "code",
   "execution_count": null,
   "metadata": {},
   "outputs": [],
   "source": [
    "i=0\n",
    "for distance in DISTANCES:\n",
    "    j=0\n",
    "    for angle in ANGLES:\n",
    "        fig, axs = plt.subplots(nrows=int(len(datasets)*len(color_channels)/3), ncols=3, figsize=(15,15))\n",
    "        fig.suptitle(f'Comatrixes for distance: {distance} and angle: {angle} rads')\n",
    "        plt.subplots_adjust(hspace=0.5)\n",
    "        row=0\n",
    "        dataset_nr=0\n",
    "        for name, dataset in datasets.items():\n",
    "            # if len(color_channels) > 1:\n",
    "            for col in range(len(color_channels)):\n",
    "                if col%3 == 0 and col>0:\n",
    "                    row+=1\n",
    "                axs[row+dataset_nr,col%3].imshow(dataset[:,:,col,i,j])\n",
    "                axs[row+dataset_nr,col%3].set_title(f\"{name}_{color_channels[str(col)]}\")\n",
    "            dataset_nr+=1\n",
    "            \n",
    "        #saving image\n",
    "        filename = f\"{distance}_{angle}.png\"\n",
    "        save_path = os.path.join(base_save_path, filename)\n",
    "        plt.show()\n",
    "        #fig.savefig(save_path)\n",
    "        j+=1\n",
    "    i+=1"
   ]
  },
  {
   "source": [
    "# Greycoprops"
   ],
   "cell_type": "markdown",
   "metadata": {}
  },
  {
   "source": [
    "## Based on avg comatrix from datasets"
   ],
   "cell_type": "markdown",
   "metadata": {}
  },
  {
   "cell_type": "code",
   "execution_count": null,
   "metadata": {},
   "outputs": [],
   "source": [
    "save_path = os.path.join(base_save_path, \"greycoprops.csv\")\n",
    "greycoprops_properties = (\"contrast\", \"dissimilarity\", \"homogeneity\", \"ASM\", \"energy\", \"correlation\")\n",
    "df_metrics = pd.DataFrame(columns=['Property', 'Color', 'Color_number', 'Angle', 'Distance', 'Value_fake', 'Value_real', 'Diff_Value'])"
   ]
  },
  {
   "cell_type": "code",
   "execution_count": null,
   "metadata": {},
   "outputs": [],
   "source": [
    "index=0\n",
    "for prop in greycoprops_properties:\n",
    "    for i in range(len(color_channels)):\n",
    "        result_real = greycoprops(np_comatrix_ffhq[:,:,i,:,:], prop=prop)\n",
    "        result_fake = greycoprops(np_comatrix_style[:,:,i,:,:], prop=prop)\n",
    "        diff = np.abs((result_real-result_fake)/(result_real+result_fake))\n",
    "        dist, angle = np.unravel_index(np.argmax(diff), diff.shape)\n",
    "        df_metrics.loc[index] = [prop, color_channels[str(i)], i, ANGLES[angle], DISTANCES[dist], result_real[dist, angle], result_fake[dist, angle], np.max(diff)]\n",
    "        index+=1"
   ]
  },
  {
   "cell_type": "code",
   "execution_count": null,
   "metadata": {},
   "outputs": [],
   "source": [
    "df_metrics = df_metrics.sort_values('Diff_Value', ascending=False)\n",
    "#df_metrics.to_csv(save_path)\n",
    "df_metrics.head()"
   ]
  },
  {
   "source": [
    "## Compare values of greycoprops for single images"
   ],
   "cell_type": "markdown",
   "metadata": {}
  },
  {
   "cell_type": "code",
   "execution_count": null,
   "metadata": {},
   "outputs": [],
   "source": [
    "rows_to_analyze = 4\n",
    "number_of_images = 100\n",
    "save_path = os.path.join(base_save_path, \"greycoprops_scatter_with_outliers.png\")"
   ]
  },
  {
   "cell_type": "code",
   "execution_count": null,
   "metadata": {},
   "outputs": [],
   "source": [
    "ffhq_gen = get_image_data(SOURCE_DIR_FFHQ, type='int', grayscale=False, max_number_of_images=number_of_images)\n",
    "style_gen = get_image_data(SOURCE_DIR_STYLE, type='int', grayscale=False, max_number_of_images=number_of_images)"
   ]
  },
  {
   "cell_type": "code",
   "execution_count": null,
   "metadata": {},
   "outputs": [],
   "source": [
    "def greycoprops_from_image(np_img: np.ndarray, distances: t.List[int], angles: t.List[float], prop: str):\n",
    "    from skimage.feature import greycoprops\n",
    "    np_comatrix = comatrix_from_image(np_img, distances, angles)\n",
    "    if len(np_img.shape) == 3:\n",
    "        np_result = np.empty((np_img.shape[-1], len(distances), len(angles)))\n",
    "        for i in range(np_img.shape[-1]):\n",
    "            np_result[i] = greycoprops(np_comatrix[:,:,i,:,:], prop=prop)\n",
    "    else:\n",
    "        raise ValueError (\"Image shape not supported\")\n",
    "\n",
    "    return np_result"
   ]
  },
  {
   "cell_type": "code",
   "execution_count": null,
   "metadata": {},
   "outputs": [],
   "source": [
    "def get_greycoprops_from_dataset(src_path: str, distance: t.List[int], angle: t.List[float], color: int, prop: str, number_of_images):\n",
    "    dataset_gen = get_image_data(SOURCE_DIR_FFHQ, type='int', grayscale=False, max_number_of_images=number_of_images)\n",
    "    results = []\n",
    "    distance = [distance] if type(distance) is not list else distance\n",
    "    angle = [angle] if type(angle) is not list else angle\n",
    "    for np_img in dataset_gen:\n",
    "        np_all_img = all_colorspaces_from_rgb(np_img, type='int')\n",
    "        greycoprop = greycoprops_from_image(np_all_img, distance, angle, prop=prop)[color,0,0]\n",
    "        results.append(greycoprop)\n",
    "    return results"
   ]
  },
  {
   "cell_type": "code",
   "execution_count": null,
   "metadata": {},
   "outputs": [],
   "source": [
    "def delete_max_outliers(np_array: np.ndarray, percentage=0.90)-> np.ndarray:\n",
    "    np_result = np.sort(np_array)[::-1]\n",
    "    trim_threshold = int(percentage*np_result.size)\n",
    "    np_result = np_result[:trim_threshold]\n",
    "    np.random.shuffle(np_result)\n",
    "    return np_result"
   ]
  },
  {
   "cell_type": "code",
   "execution_count": null,
   "metadata": {},
   "outputs": [],
   "source": [
    "# calculate greycoprops properties for both real and fake dataset\n",
    "real = df_metrics[:rows_to_analyze].apply(lambda x: get_greycoprops_from_dataset(ffhq_gen, x['Distance'], x['Angle'], x['Color_number'], x['Property'], number_of_images), axis=1)\n",
    "fake = df_metrics[:rows_to_analyze].apply(lambda x: get_greycoprops_from_dataset(style_gen, x['Distance'], x['Angle'], x['Color_number'], x['Property'], number_of_images), axis=1)"
   ]
  },
  {
   "cell_type": "code",
   "execution_count": null,
   "metadata": {},
   "outputs": [],
   "source": [
    "x = range(int(number_of_images))\n",
    "fig, axs = plt.subplots(nrows=2, ncols=2, figsize=(15,7))\n",
    "fig.suptitle(\"Greycoprops from datasets as plot\")\n",
    "for i in range(rows_to_analyze):\n",
    "    axs[int(i/2), i%2].scatter(x,delete_max_outliers(real.values[i], percentage=1.0))\n",
    "    axs[int(i/2), i%2].scatter(x,delete_max_outliers(fake.values[i], percentage=1.0))\n",
    "    axs[int(i/2), i%2].legend(['real', 'fake'])\n",
    "    row = df_metrics.loc[real.keys()[i]]\n",
    "    axs[int(i/2), i%2].set_title(f\"Property: {row['Property']}, Distance: {row['Distance']}, Angle: {row['Angle']}, Color: {row['Color']}\")\n",
    "plt.savefig(save_path)"
   ]
  },
  {
   "source": [
    "## Kolmogorov-Smirnoff test"
   ],
   "cell_type": "markdown",
   "metadata": {}
  },
  {
   "cell_type": "code",
   "execution_count": null,
   "metadata": {},
   "outputs": [],
   "source": [
    "save_path = os.path.join(base_save_path, \"greycoprops+kstest.csv\")"
   ]
  },
  {
   "cell_type": "code",
   "execution_count": null,
   "metadata": {},
   "outputs": [],
   "source": [
    "# conduct Kormognov-Smirnoff\n",
    "np_results = np.empty((rows_to_analyze, 2))\n",
    "for i in range(rows_to_analyze):\n",
    "    single_ks_test =  ks_2samp(real.iloc[i], fake.iloc[i])\n",
    "    metrics_row = df_metrics.loc[real.keys()[i]]\n",
    "    np_results[i] = single_ks_test"
   ]
  },
  {
   "cell_type": "code",
   "execution_count": null,
   "metadata": {},
   "outputs": [],
   "source": [
    "# add to datagram with results and \n",
    "df_results = df_metrics.iloc[:rows_to_analyze]\n",
    "df_results.insert(len(df_metrics.columns), \"Statistics\",np_results[:,0])\n",
    "df_results.insert(len(df_metrics.columns), \"pValue\",np_results[:,1])\n",
    "df_results.to_csv(save_path)\n",
    "df_results"
   ]
  }
 ],
 "metadata": {
  "kernelspec": {
   "name": "python3",
   "display_name": "Python 3.7.9 64-bit ('TF_gpu': conda)"
  },
  "language_info": {
   "codemirror_mode": {
    "name": "ipython",
    "version": 3
   },
   "file_extension": ".py",
   "mimetype": "text/x-python",
   "name": "python",
   "nbconvert_exporter": "python",
   "pygments_lexer": "ipython3",
   "version": "3.7.9"
  },
  "interpreter": {
   "hash": "0991d9f816f3ae08431cbfe77283594d685f9351f97c7a8199c52bebed5a8c9f"
  }
 },
 "nbformat": 4,
 "nbformat_minor": 5
}