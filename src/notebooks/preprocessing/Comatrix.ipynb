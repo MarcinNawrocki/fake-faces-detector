{
 "cells": [
  {
   "cell_type": "code",
   "execution_count": 127,
   "id": "through-studio",
   "metadata": {},
   "outputs": [],
   "source": [
    "import sys \n",
    "import typing as t\n",
    "from collections import namedtuple\n",
    "\n",
    "import numpy as np\n",
    "import pandas as pd\n",
    "import matplotlib.pyplot as plt\n",
    "plt.rcParams.update({'figure.max_open_warning': 0})\n",
    "from skimage.feature import greycomatrix, greycoprops\n",
    "\n",
    "# add src to path\n",
    "sys.path.append('../..')\n",
    "from utils.db_helper import get_image_data\n",
    "from utils.color_space_operations import all_colorspaces_from_rgb\n",
    "# from utils.color_space_operations import all_colorspaces_from_rgb"
   ]
  },
  {
   "cell_type": "code",
   "execution_count": null,
   "id": "architectural-march",
   "metadata": {},
   "outputs": [],
   "source": [
    "SOURCE_DIR_STYLE = R\"F:\\master-thesis-databases\\classification_db\\fake\"\n",
    "SOURCE_DIR_FFHQ = R\"F:\\master-thesis-databases\\classification_db\\real\"\n",
    "datasets = {\n",
    "    'real': np_comatrix_ffhq,\n",
    "    'fake': np_comatrix_style\n",
    "}"
   ]
  },
  {
   "cell_type": "code",
   "execution_count": null,
   "metadata": {},
   "outputs": [],
   "source": [
    "GRAYSCALE=False\n",
    "base_save_path = os.path.join(\"..\", \"..\", \"..\", \"exp\", \"Comatrix\")\n",
    "DISTANCES = [1,2]\n",
    "ANGLES = [0, np.pi/4, np.pi/2, 3*np.pi/4]\n"
   ]
  },
  {
   "cell_type": "code",
   "execution_count": null,
   "id": "multiple-albania",
   "metadata": {},
   "outputs": [],
   "source": [
    "def comatrix_from_image(np_img: np.ndarray, distances: t.List[int], angles: t.List[float])-> np.ndarray:\n",
    "    if len(np_img.shape) == 3:\n",
    "         np_comatrix = np.empty((256,256,np_img.shape[-1],len(distances),len(angles)))\n",
    "         for i in range(np_img.shape[-1]):\n",
    "            np_comatrix[:,:,i] = greycomatrix(np_img[:,:,i], distances, angles)\n",
    "    else:\n",
    "        raise ValueError('Image array must have 3 dimensions')\n",
    "    return np_comatrix"
   ]
  },
  {
   "cell_type": "code",
   "execution_count": null,
   "id": "brief-trash",
   "metadata": {},
   "outputs": [],
   "source": [
    "def comatrix_from_dataset(src_path: str, distances: t.List[int], angles: t.List[float], grayscale=False)-> np.ndarray:\n",
    "    print(\"Loading dataset...\")\n",
    "    dataset_gen = get_image_data(src_path, type='int', grayscale=grayscale, max_number_of_images=1000)\n",
    "    final_type = np.float64\n",
    "    print(\"Processing database...\")\n",
    "    np_comatrix_dataset = np.zeros((256,256,9,len(distances),len(angles)), \n",
    "                                   dtype=final_type)\n",
    "    number_of_images = 0\n",
    "    for np_image in dataset_gen:\n",
    "        np_image = all_colorspaces_from_rgb(np_image, type='int')\n",
    "        np_tmp_comatrix = comatrix_from_image(np_image, distances, angles)\n",
    "        np_comatrix_dataset += np_tmp_comatrix\n",
    "        number_of_images +=1\n",
    "        if number_of_images % 100 == 0:\n",
    "            print(f\"Image number: {number_of_images}\")\n",
    "        elif np_comatrix_dataset.max() > 0.95*np.finfo(final_type).max:\n",
    "            raise ValueError(\"Dataset to large, datatype overflow\")\n",
    "            break\n",
    "    print (f\"{number_of_images} processed from path: {src_path}\")\n",
    "    return np_comatrix_dataset / number_of_images"
   ]
  },
  {
   "cell_type": "code",
   "execution_count": null,
   "id": "iraqi-allah",
   "metadata": {
    "tags": []
   },
   "outputs": [],
   "source": [
    "# def display_comatrix(np_comatrix_dataset: np.ndarray):\n",
    "np_comatrix_ffhq = comatrix_from_dataset(SOURCE_DIR_FFHQ, DISTANCES, ANGLES, grayscale=False)\n",
    "np_comatrix_style = comatrix_from_dataset(SOURCE_DIR_STYLE, DISTANCES, ANGLES, grayscale=GRAYSCALE)"
   ]
  },
  {
   "source": [
    "## Comatrix"
   ],
   "cell_type": "markdown",
   "metadata": {}
  },
  {
   "cell_type": "code",
   "execution_count": null,
   "metadata": {},
   "outputs": [],
   "source": [
    "if GRAYSCALE:\n",
    "    color_channels = {\n",
    "    \"0\": 'Gray',\n",
    "    }\n",
    "else:\n",
    "    color_channels = {\n",
    "        \"0\": 'R',\n",
    "        \"1\": 'G',\n",
    "        '2': 'B',\n",
    "        '3': 'H',\n",
    "        '4': 'S',\n",
    "        '5': 'V',\n",
    "        '6': 'Y',\n",
    "        '7': 'Cb',\n",
    "        '8': 'Cr'\n",
    "    }"
   ]
  },
  {
   "cell_type": "code",
   "execution_count": null,
   "metadata": {},
   "outputs": [],
   "source": [
    "i=0\n",
    "for distance in DISTANCES:\n",
    "    j=0\n",
    "    for angle in ANGLES:\n",
    "        fig, axs = plt.subplots(nrows=int(len(datasets)*len(color_channels)/3), ncols=3, figsize=(15,15))\n",
    "        fig.suptitle(f'Comatrixes for distance: {distance} and angle: {angle} rads')\n",
    "        plt.subplots_adjust(hspace=0.5)\n",
    "        row=0\n",
    "        dataset_nr=0\n",
    "        for name, dataset in datasets.items():\n",
    "            # if len(color_channels) > 1:\n",
    "            for col in range(len(color_channels)):\n",
    "                if col%3 == 0 and col>0:\n",
    "                    row+=1\n",
    "                axs[row+dataset_nr,col%3].imshow(dataset[:,:,col,i,j])\n",
    "                axs[row+dataset_nr,col%3].set_title(f\"{name}_{color_channels[str(col)]}\")\n",
    "            dataset_nr+=1\n",
    "            \n",
    "        #saving image\n",
    "        #directory = 'Grayscale' if GRAYSCALE else 'Colors'\n",
    "        filename = f\"{distance}_{angle}.png\"\n",
    "        save_path = os.path.join(base_save_path, filename)\n",
    "        plt.show()\n",
    "        #fig.savefig(save_path)\n",
    "        j+=1\n",
    "    i+=1"
   ]
  },
  {
   "source": [
    "# Greycoprops"
   ],
   "cell_type": "markdown",
   "metadata": {}
  },
  {
   "source": [
    "## Based on avg comatrix from datasets"
   ],
   "cell_type": "markdown",
   "metadata": {}
  },
  {
   "cell_type": "code",
   "execution_count": null,
   "metadata": {},
   "outputs": [],
   "source": [
    "save_path = os.path.join(base_save_path, \"greycoprops.csv\")\n",
    "greycoprops_properties = (\"contrast\", \"dissimilarity\", \"homogeneity\", \"ASM\", \"energy\", \"correlation\")\n",
    "df = pd.DataFrame(columns=['Property', 'Color', 'Angle', 'Distance', 'Value_fake', 'Value_real', 'Diff_Value'])"
   ]
  },
  {
   "cell_type": "code",
   "execution_count": null,
   "metadata": {},
   "outputs": [],
   "source": [
    "index=0\n",
    "for prop in greycoprops_properties:\n",
    "    print(f\"Result for {prop}\")\n",
    "    for i in range(len(color_channels)):\n",
    "        result_real = greycoprops(np_comatrix_ffhq[:,:,i,:,:], prop=prop)\n",
    "        result_fake = greycoprops(np_comatrix_style[:,:,i,:,:], prop=prop)\n",
    "        diff = np.abs((result_real-result_fake)/(result_real+result_fake))\n",
    "        dist, angle = np.unravel_index(np.argmax(diff), diff.shape)\n",
    "        print(f\"Color: {color_channels[str(i)]}, Distance: {DISTANCES[dist]}, Angle: {ANGLES[angle]}, Value: {np.max(diff)}\")\n",
    "        df.loc[index] = [prop, color_channels[str(i)], ANGLES[angle], DISTANCES[dist], result_real[dist, angle], result_fake[dist, angle], np.max(diff)]\n",
    "        index+=1"
   ]
  },
  {
   "cell_type": "code",
   "execution_count": 129,
   "metadata": {},
   "outputs": [
    {
     "output_type": "execute_result",
     "data": {
      "text/plain": [
       "    Property Color     Angle Distance  Value_fake  Value_real  Diff_Value\n",
       "31       ASM     S  0.000000        2    0.000501    0.000228    0.374756\n",
       "7   contrast    Cb  1.570796        2    8.340733    4.708125    0.278385\n",
       "8   contrast    Cr  1.570796        2   11.247328    6.666144    0.255740\n",
       "4   contrast     S  1.570796        1  237.847547  142.915376    0.249321"
      ],
      "text/html": "<div>\n<style scoped>\n    .dataframe tbody tr th:only-of-type {\n        vertical-align: middle;\n    }\n\n    .dataframe tbody tr th {\n        vertical-align: top;\n    }\n\n    .dataframe thead th {\n        text-align: right;\n    }\n</style>\n<table border=\"1\" class=\"dataframe\">\n  <thead>\n    <tr style=\"text-align: right;\">\n      <th></th>\n      <th>Property</th>\n      <th>Color</th>\n      <th>Angle</th>\n      <th>Distance</th>\n      <th>Value_fake</th>\n      <th>Value_real</th>\n      <th>Diff_Value</th>\n    </tr>\n  </thead>\n  <tbody>\n    <tr>\n      <th>31</th>\n      <td>ASM</td>\n      <td>S</td>\n      <td>0.000000</td>\n      <td>2</td>\n      <td>0.000501</td>\n      <td>0.000228</td>\n      <td>0.374756</td>\n    </tr>\n    <tr>\n      <th>7</th>\n      <td>contrast</td>\n      <td>Cb</td>\n      <td>1.570796</td>\n      <td>2</td>\n      <td>8.340733</td>\n      <td>4.708125</td>\n      <td>0.278385</td>\n    </tr>\n    <tr>\n      <th>8</th>\n      <td>contrast</td>\n      <td>Cr</td>\n      <td>1.570796</td>\n      <td>2</td>\n      <td>11.247328</td>\n      <td>6.666144</td>\n      <td>0.255740</td>\n    </tr>\n    <tr>\n      <th>4</th>\n      <td>contrast</td>\n      <td>S</td>\n      <td>1.570796</td>\n      <td>1</td>\n      <td>237.847547</td>\n      <td>142.915376</td>\n      <td>0.249321</td>\n    </tr>\n  </tbody>\n</table>\n</div>"
     },
     "metadata": {},
     "execution_count": 129
    }
   ],
   "source": [
    "df = df.sort_values('Diff_Value', ascending=False)\n",
    "#df.to_csv(save_path)\n",
    "df[:4]"
   ]
  },
  {
   "cell_type": "code",
   "execution_count": 95,
   "metadata": {},
   "outputs": [],
   "source": [
    "def greycoprops_from_image(np_img: np.ndarray, distances: t.List[int], angles: t.List[float], prop: str):\n",
    "    from skimage.feature import greycoprops\n",
    "    np_comatrix = comatrix_from_image(np_img, distances, angles)\n",
    "    if len(np_img.shape) == 3:\n",
    "        np_result = np.empty((np_img.shape[-1], len(distances), len(angles)))\n",
    "        for i in range(np_img.shape[-1]):\n",
    "            np_result[i] = greycoprops(np_comatrix[:,:,i,:,:], prop=prop)\n",
    "    else:\n",
    "        raise ValueError (\"Image shape not supported\")\n",
    "\n",
    "    return np_result"
   ]
  },
  {
   "source": [
    "## Compare values of greycoprops for single images"
   ],
   "cell_type": "markdown",
   "metadata": {}
  },
  {
   "cell_type": "code",
   "execution_count": 130,
   "metadata": {},
   "outputs": [
    {
     "output_type": "execute_result",
     "data": {
      "text/plain": [
       "    Property Color     Angle Distance  Value_fake  Value_real  Diff_Value\n",
       "31       ASM     S  0.000000        2    0.000501    0.000228    0.374756\n",
       "7   contrast    Cb  1.570796        2    8.340733    4.708125    0.278385\n",
       "8   contrast    Cr  1.570796        2   11.247328    6.666144    0.255740\n",
       "4   contrast     S  1.570796        1  237.847547  142.915376    0.249321"
      ],
      "text/html": "<div>\n<style scoped>\n    .dataframe tbody tr th:only-of-type {\n        vertical-align: middle;\n    }\n\n    .dataframe tbody tr th {\n        vertical-align: top;\n    }\n\n    .dataframe thead th {\n        text-align: right;\n    }\n</style>\n<table border=\"1\" class=\"dataframe\">\n  <thead>\n    <tr style=\"text-align: right;\">\n      <th></th>\n      <th>Property</th>\n      <th>Color</th>\n      <th>Angle</th>\n      <th>Distance</th>\n      <th>Value_fake</th>\n      <th>Value_real</th>\n      <th>Diff_Value</th>\n    </tr>\n  </thead>\n  <tbody>\n    <tr>\n      <th>31</th>\n      <td>ASM</td>\n      <td>S</td>\n      <td>0.000000</td>\n      <td>2</td>\n      <td>0.000501</td>\n      <td>0.000228</td>\n      <td>0.374756</td>\n    </tr>\n    <tr>\n      <th>7</th>\n      <td>contrast</td>\n      <td>Cb</td>\n      <td>1.570796</td>\n      <td>2</td>\n      <td>8.340733</td>\n      <td>4.708125</td>\n      <td>0.278385</td>\n    </tr>\n    <tr>\n      <th>8</th>\n      <td>contrast</td>\n      <td>Cr</td>\n      <td>1.570796</td>\n      <td>2</td>\n      <td>11.247328</td>\n      <td>6.666144</td>\n      <td>0.255740</td>\n    </tr>\n    <tr>\n      <th>4</th>\n      <td>contrast</td>\n      <td>S</td>\n      <td>1.570796</td>\n      <td>1</td>\n      <td>237.847547</td>\n      <td>142.915376</td>\n      <td>0.249321</td>\n    </tr>\n  </tbody>\n</table>\n</div>"
     },
     "metadata": {},
     "execution_count": 130
    }
   ],
   "source": [
    "df"
   ]
  },
  {
   "cell_type": "code",
   "execution_count": 166,
   "metadata": {},
   "outputs": [],
   "source": [
    "angle = [1.570796]\n",
    "distance = [1]\n",
    "color = 4 \n",
    "prop = 'contrast'\n",
    "number_of_images = 100"
   ]
  },
  {
   "cell_type": "code",
   "execution_count": 167,
   "metadata": {},
   "outputs": [],
   "source": [
    "ffhq_gen = get_image_data(SOURCE_DIR_FFHQ, type='int', grayscale=False, max_number_of_images=number_of_images)\n",
    "style_gen = get_image_data(SOURCE_DIR_STYLE, type='int', grayscale=False, max_number_of_images=number_of_images)"
   ]
  },
  {
   "cell_type": "code",
   "execution_count": 168,
   "metadata": {},
   "outputs": [
    {
     "output_type": "stream",
     "name": "stdout",
     "text": [
      "len: 100\n"
     ]
    }
   ],
   "source": [
    "results1 = []\n",
    "for np_img in ffhq_gen:\n",
    "    np_all_img = all_colorspaces_from_rgb(np_img, type='int')\n",
    "    greycoprop = greycoprops_from_image(np_all_img, distance, angle, prop=prop)[color,0,0]\n",
    "    results1.append(greycoprop)"
   ]
  },
  {
   "cell_type": "code",
   "execution_count": 169,
   "metadata": {},
   "outputs": [
    {
     "output_type": "stream",
     "name": "stdout",
     "text": [
      "len: 100\n"
     ]
    }
   ],
   "source": [
    "results2 = []\n",
    "for np_img in style_gen:\n",
    "    np_all_img = all_colorspaces_from_rgb(np_img, type='int')\n",
    "    greycoprop = greycoprops_from_image(np_all_img, distance, angle, prop=prop)[color,0,0]\n",
    "    results2.append(greycoprop)"
   ]
  },
  {
   "cell_type": "code",
   "execution_count": 171,
   "metadata": {},
   "outputs": [
    {
     "output_type": "execute_result",
     "data": {
      "text/plain": [
       "[<matplotlib.lines.Line2D at 0x1efacc4d348>]"
      ]
     },
     "metadata": {},
     "execution_count": 171
    },
    {
     "output_type": "display_data",
     "data": {
      "text/plain": "<Figure size 432x288 with 1 Axes>",
      "image/svg+xml": "<?xml version=\"1.0\" encoding=\"utf-8\" standalone=\"no\"?>\r\n<!DOCTYPE svg PUBLIC \"-//W3C//DTD SVG 1.1//EN\"\r\n  \"http://www.w3.org/Graphics/SVG/1.1/DTD/svg11.dtd\">\r\n<!-- Created with matplotlib (https://matplotlib.org/) -->\r\n<svg height=\"251.638579pt\" version=\"1.1\" viewBox=\"0 0 381.65 251.638579\" width=\"381.65pt\" xmlns=\"http://www.w3.org/2000/svg\" xmlns:xlink=\"http://www.w3.org/1999/xlink\">\r\n <metadata>\r\n  <rdf:RDF xmlns:cc=\"http://creativecommons.org/ns#\" xmlns:dc=\"http://purl.org/dc/elements/1.1/\" xmlns:rdf=\"http://www.w3.org/1999/02/22-rdf-syntax-ns#\">\r\n   <cc:Work>\r\n    <dc:type rdf:resource=\"http://purl.org/dc/dcmitype/StillImage\"/>\r\n    <dc:date>2021-05-06T12:31:21.539365</dc:date>\r\n    <dc:format>image/svg+xml</dc:format>\r\n    <dc:creator>\r\n     <cc:Agent>\r\n      <dc:title>Matplotlib v3.3.4, https://matplotlib.org/</dc:title>\r\n     </cc:Agent>\r\n    </dc:creator>\r\n   </cc:Work>\r\n  </rdf:RDF>\r\n </metadata>\r\n <defs>\r\n  <style type=\"text/css\">*{stroke-linecap:butt;stroke-linejoin:round;}</style>\r\n </defs>\r\n <g id=\"figure_1\">\r\n  <g id=\"patch_1\">\r\n   <path d=\"M -0 251.638579 \r\nL 381.65 251.638579 \r\nL 381.65 0 \r\nL -0 0 \r\nz\r\n\" style=\"fill:none;\"/>\r\n  </g>\r\n  <g id=\"axes_1\">\r\n   <g id=\"patch_2\">\r\n    <path d=\"M 39.65 227.760454 \r\nL 374.45 227.760454 \r\nL 374.45 10.320454 \r\nL 39.65 10.320454 \r\nz\r\n\" style=\"fill:#ffffff;\"/>\r\n   </g>\r\n   <g id=\"matplotlib.axis_1\">\r\n    <g id=\"xtick_1\">\r\n     <g id=\"line2d_1\">\r\n      <defs>\r\n       <path d=\"M 0 0 \r\nL 0 3.5 \r\n\" id=\"m8aad1f222a\" style=\"stroke:#000000;stroke-width:0.8;\"/>\r\n      </defs>\r\n      <g>\r\n       <use style=\"stroke:#000000;stroke-width:0.8;\" x=\"54.868182\" xlink:href=\"#m8aad1f222a\" y=\"227.760454\"/>\r\n      </g>\r\n     </g>\r\n     <g id=\"text_1\">\r\n      <!-- 0 -->\r\n      <g transform=\"translate(51.686932 242.358892)scale(0.1 -0.1)\">\r\n       <defs>\r\n        <path d=\"M 31.78125 66.40625 \r\nQ 24.171875 66.40625 20.328125 58.90625 \r\nQ 16.5 51.421875 16.5 36.375 \r\nQ 16.5 21.390625 20.328125 13.890625 \r\nQ 24.171875 6.390625 31.78125 6.390625 \r\nQ 39.453125 6.390625 43.28125 13.890625 \r\nQ 47.125 21.390625 47.125 36.375 \r\nQ 47.125 51.421875 43.28125 58.90625 \r\nQ 39.453125 66.40625 31.78125 66.40625 \r\nz\r\nM 31.78125 74.21875 \r\nQ 44.046875 74.21875 50.515625 64.515625 \r\nQ 56.984375 54.828125 56.984375 36.375 \r\nQ 56.984375 17.96875 50.515625 8.265625 \r\nQ 44.046875 -1.421875 31.78125 -1.421875 \r\nQ 19.53125 -1.421875 13.0625 8.265625 \r\nQ 6.59375 17.96875 6.59375 36.375 \r\nQ 6.59375 54.828125 13.0625 64.515625 \r\nQ 19.53125 74.21875 31.78125 74.21875 \r\nz\r\n\" id=\"DejaVuSans-48\"/>\r\n       </defs>\r\n       <use xlink:href=\"#DejaVuSans-48\"/>\r\n      </g>\r\n     </g>\r\n    </g>\r\n    <g id=\"xtick_2\">\r\n     <g id=\"line2d_2\">\r\n      <g>\r\n       <use style=\"stroke:#000000;stroke-width:0.8;\" x=\"116.355785\" xlink:href=\"#m8aad1f222a\" y=\"227.760454\"/>\r\n      </g>\r\n     </g>\r\n     <g id=\"text_2\">\r\n      <!-- 20 -->\r\n      <g transform=\"translate(109.993285 242.358892)scale(0.1 -0.1)\">\r\n       <defs>\r\n        <path d=\"M 19.1875 8.296875 \r\nL 53.609375 8.296875 \r\nL 53.609375 0 \r\nL 7.328125 0 \r\nL 7.328125 8.296875 \r\nQ 12.9375 14.109375 22.625 23.890625 \r\nQ 32.328125 33.6875 34.8125 36.53125 \r\nQ 39.546875 41.84375 41.421875 45.53125 \r\nQ 43.3125 49.21875 43.3125 52.78125 \r\nQ 43.3125 58.59375 39.234375 62.25 \r\nQ 35.15625 65.921875 28.609375 65.921875 \r\nQ 23.96875 65.921875 18.8125 64.3125 \r\nQ 13.671875 62.703125 7.8125 59.421875 \r\nL 7.8125 69.390625 \r\nQ 13.765625 71.78125 18.9375 73 \r\nQ 24.125 74.21875 28.421875 74.21875 \r\nQ 39.75 74.21875 46.484375 68.546875 \r\nQ 53.21875 62.890625 53.21875 53.421875 \r\nQ 53.21875 48.921875 51.53125 44.890625 \r\nQ 49.859375 40.875 45.40625 35.40625 \r\nQ 44.1875 33.984375 37.640625 27.21875 \r\nQ 31.109375 20.453125 19.1875 8.296875 \r\nz\r\n\" id=\"DejaVuSans-50\"/>\r\n       </defs>\r\n       <use xlink:href=\"#DejaVuSans-50\"/>\r\n       <use x=\"63.623047\" xlink:href=\"#DejaVuSans-48\"/>\r\n      </g>\r\n     </g>\r\n    </g>\r\n    <g id=\"xtick_3\">\r\n     <g id=\"line2d_3\">\r\n      <g>\r\n       <use style=\"stroke:#000000;stroke-width:0.8;\" x=\"177.843388\" xlink:href=\"#m8aad1f222a\" y=\"227.760454\"/>\r\n      </g>\r\n     </g>\r\n     <g id=\"text_3\">\r\n      <!-- 40 -->\r\n      <g transform=\"translate(171.480888 242.358892)scale(0.1 -0.1)\">\r\n       <defs>\r\n        <path d=\"M 37.796875 64.3125 \r\nL 12.890625 25.390625 \r\nL 37.796875 25.390625 \r\nz\r\nM 35.203125 72.90625 \r\nL 47.609375 72.90625 \r\nL 47.609375 25.390625 \r\nL 58.015625 25.390625 \r\nL 58.015625 17.1875 \r\nL 47.609375 17.1875 \r\nL 47.609375 0 \r\nL 37.796875 0 \r\nL 37.796875 17.1875 \r\nL 4.890625 17.1875 \r\nL 4.890625 26.703125 \r\nz\r\n\" id=\"DejaVuSans-52\"/>\r\n       </defs>\r\n       <use xlink:href=\"#DejaVuSans-52\"/>\r\n       <use x=\"63.623047\" xlink:href=\"#DejaVuSans-48\"/>\r\n      </g>\r\n     </g>\r\n    </g>\r\n    <g id=\"xtick_4\">\r\n     <g id=\"line2d_4\">\r\n      <g>\r\n       <use style=\"stroke:#000000;stroke-width:0.8;\" x=\"239.330992\" xlink:href=\"#m8aad1f222a\" y=\"227.760454\"/>\r\n      </g>\r\n     </g>\r\n     <g id=\"text_4\">\r\n      <!-- 60 -->\r\n      <g transform=\"translate(232.968492 242.358892)scale(0.1 -0.1)\">\r\n       <defs>\r\n        <path d=\"M 33.015625 40.375 \r\nQ 26.375 40.375 22.484375 35.828125 \r\nQ 18.609375 31.296875 18.609375 23.390625 \r\nQ 18.609375 15.53125 22.484375 10.953125 \r\nQ 26.375 6.390625 33.015625 6.390625 \r\nQ 39.65625 6.390625 43.53125 10.953125 \r\nQ 47.40625 15.53125 47.40625 23.390625 \r\nQ 47.40625 31.296875 43.53125 35.828125 \r\nQ 39.65625 40.375 33.015625 40.375 \r\nz\r\nM 52.59375 71.296875 \r\nL 52.59375 62.3125 \r\nQ 48.875 64.0625 45.09375 64.984375 \r\nQ 41.3125 65.921875 37.59375 65.921875 \r\nQ 27.828125 65.921875 22.671875 59.328125 \r\nQ 17.53125 52.734375 16.796875 39.40625 \r\nQ 19.671875 43.65625 24.015625 45.921875 \r\nQ 28.375 48.1875 33.59375 48.1875 \r\nQ 44.578125 48.1875 50.953125 41.515625 \r\nQ 57.328125 34.859375 57.328125 23.390625 \r\nQ 57.328125 12.15625 50.6875 5.359375 \r\nQ 44.046875 -1.421875 33.015625 -1.421875 \r\nQ 20.359375 -1.421875 13.671875 8.265625 \r\nQ 6.984375 17.96875 6.984375 36.375 \r\nQ 6.984375 53.65625 15.1875 63.9375 \r\nQ 23.390625 74.21875 37.203125 74.21875 \r\nQ 40.921875 74.21875 44.703125 73.484375 \r\nQ 48.484375 72.75 52.59375 71.296875 \r\nz\r\n\" id=\"DejaVuSans-54\"/>\r\n       </defs>\r\n       <use xlink:href=\"#DejaVuSans-54\"/>\r\n       <use x=\"63.623047\" xlink:href=\"#DejaVuSans-48\"/>\r\n      </g>\r\n     </g>\r\n    </g>\r\n    <g id=\"xtick_5\">\r\n     <g id=\"line2d_5\">\r\n      <g>\r\n       <use style=\"stroke:#000000;stroke-width:0.8;\" x=\"300.818595\" xlink:href=\"#m8aad1f222a\" y=\"227.760454\"/>\r\n      </g>\r\n     </g>\r\n     <g id=\"text_5\">\r\n      <!-- 80 -->\r\n      <g transform=\"translate(294.456095 242.358892)scale(0.1 -0.1)\">\r\n       <defs>\r\n        <path d=\"M 31.78125 34.625 \r\nQ 24.75 34.625 20.71875 30.859375 \r\nQ 16.703125 27.09375 16.703125 20.515625 \r\nQ 16.703125 13.921875 20.71875 10.15625 \r\nQ 24.75 6.390625 31.78125 6.390625 \r\nQ 38.8125 6.390625 42.859375 10.171875 \r\nQ 46.921875 13.96875 46.921875 20.515625 \r\nQ 46.921875 27.09375 42.890625 30.859375 \r\nQ 38.875 34.625 31.78125 34.625 \r\nz\r\nM 21.921875 38.8125 \r\nQ 15.578125 40.375 12.03125 44.71875 \r\nQ 8.5 49.078125 8.5 55.328125 \r\nQ 8.5 64.0625 14.71875 69.140625 \r\nQ 20.953125 74.21875 31.78125 74.21875 \r\nQ 42.671875 74.21875 48.875 69.140625 \r\nQ 55.078125 64.0625 55.078125 55.328125 \r\nQ 55.078125 49.078125 51.53125 44.71875 \r\nQ 48 40.375 41.703125 38.8125 \r\nQ 48.828125 37.15625 52.796875 32.3125 \r\nQ 56.78125 27.484375 56.78125 20.515625 \r\nQ 56.78125 9.90625 50.3125 4.234375 \r\nQ 43.84375 -1.421875 31.78125 -1.421875 \r\nQ 19.734375 -1.421875 13.25 4.234375 \r\nQ 6.78125 9.90625 6.78125 20.515625 \r\nQ 6.78125 27.484375 10.78125 32.3125 \r\nQ 14.796875 37.15625 21.921875 38.8125 \r\nz\r\nM 18.3125 54.390625 \r\nQ 18.3125 48.734375 21.84375 45.5625 \r\nQ 25.390625 42.390625 31.78125 42.390625 \r\nQ 38.140625 42.390625 41.71875 45.5625 \r\nQ 45.3125 48.734375 45.3125 54.390625 \r\nQ 45.3125 60.0625 41.71875 63.234375 \r\nQ 38.140625 66.40625 31.78125 66.40625 \r\nQ 25.390625 66.40625 21.84375 63.234375 \r\nQ 18.3125 60.0625 18.3125 54.390625 \r\nz\r\n\" id=\"DejaVuSans-56\"/>\r\n       </defs>\r\n       <use xlink:href=\"#DejaVuSans-56\"/>\r\n       <use x=\"63.623047\" xlink:href=\"#DejaVuSans-48\"/>\r\n      </g>\r\n     </g>\r\n    </g>\r\n    <g id=\"xtick_6\">\r\n     <g id=\"line2d_6\">\r\n      <g>\r\n       <use style=\"stroke:#000000;stroke-width:0.8;\" x=\"362.306198\" xlink:href=\"#m8aad1f222a\" y=\"227.760454\"/>\r\n      </g>\r\n     </g>\r\n     <g id=\"text_6\">\r\n      <!-- 100 -->\r\n      <g transform=\"translate(352.762448 242.358892)scale(0.1 -0.1)\">\r\n       <defs>\r\n        <path d=\"M 12.40625 8.296875 \r\nL 28.515625 8.296875 \r\nL 28.515625 63.921875 \r\nL 10.984375 60.40625 \r\nL 10.984375 69.390625 \r\nL 28.421875 72.90625 \r\nL 38.28125 72.90625 \r\nL 38.28125 8.296875 \r\nL 54.390625 8.296875 \r\nL 54.390625 0 \r\nL 12.40625 0 \r\nz\r\n\" id=\"DejaVuSans-49\"/>\r\n       </defs>\r\n       <use xlink:href=\"#DejaVuSans-49\"/>\r\n       <use x=\"63.623047\" xlink:href=\"#DejaVuSans-48\"/>\r\n       <use x=\"127.246094\" xlink:href=\"#DejaVuSans-48\"/>\r\n      </g>\r\n     </g>\r\n    </g>\r\n   </g>\r\n   <g id=\"matplotlib.axis_2\">\r\n    <g id=\"ytick_1\">\r\n     <g id=\"line2d_7\">\r\n      <defs>\r\n       <path d=\"M 0 0 \r\nL -3.5 0 \r\n\" id=\"mf8b08e5a2e\" style=\"stroke:#000000;stroke-width:0.8;\"/>\r\n      </defs>\r\n      <g>\r\n       <use style=\"stroke:#000000;stroke-width:0.8;\" x=\"39.65\" xlink:href=\"#mf8b08e5a2e\" y=\"221.636282\"/>\r\n      </g>\r\n     </g>\r\n     <g id=\"text_7\">\r\n      <!-- 0 -->\r\n      <g transform=\"translate(26.2875 225.435501)scale(0.1 -0.1)\">\r\n       <use xlink:href=\"#DejaVuSans-48\"/>\r\n      </g>\r\n     </g>\r\n    </g>\r\n    <g id=\"ytick_2\">\r\n     <g id=\"line2d_8\">\r\n      <g>\r\n       <use style=\"stroke:#000000;stroke-width:0.8;\" x=\"39.65\" xlink:href=\"#mf8b08e5a2e\" y=\"195.306649\"/>\r\n      </g>\r\n     </g>\r\n     <g id=\"text_8\">\r\n      <!-- 250 -->\r\n      <g transform=\"translate(13.5625 199.105868)scale(0.1 -0.1)\">\r\n       <defs>\r\n        <path d=\"M 10.796875 72.90625 \r\nL 49.515625 72.90625 \r\nL 49.515625 64.59375 \r\nL 19.828125 64.59375 \r\nL 19.828125 46.734375 \r\nQ 21.96875 47.46875 24.109375 47.828125 \r\nQ 26.265625 48.1875 28.421875 48.1875 \r\nQ 40.625 48.1875 47.75 41.5 \r\nQ 54.890625 34.8125 54.890625 23.390625 \r\nQ 54.890625 11.625 47.5625 5.09375 \r\nQ 40.234375 -1.421875 26.90625 -1.421875 \r\nQ 22.3125 -1.421875 17.546875 -0.640625 \r\nQ 12.796875 0.140625 7.71875 1.703125 \r\nL 7.71875 11.625 \r\nQ 12.109375 9.234375 16.796875 8.0625 \r\nQ 21.484375 6.890625 26.703125 6.890625 \r\nQ 35.15625 6.890625 40.078125 11.328125 \r\nQ 45.015625 15.765625 45.015625 23.390625 \r\nQ 45.015625 31 40.078125 35.4375 \r\nQ 35.15625 39.890625 26.703125 39.890625 \r\nQ 22.75 39.890625 18.8125 39.015625 \r\nQ 14.890625 38.140625 10.796875 36.28125 \r\nz\r\n\" id=\"DejaVuSans-53\"/>\r\n       </defs>\r\n       <use xlink:href=\"#DejaVuSans-50\"/>\r\n       <use x=\"63.623047\" xlink:href=\"#DejaVuSans-53\"/>\r\n       <use x=\"127.246094\" xlink:href=\"#DejaVuSans-48\"/>\r\n      </g>\r\n     </g>\r\n    </g>\r\n    <g id=\"ytick_3\">\r\n     <g id=\"line2d_9\">\r\n      <g>\r\n       <use style=\"stroke:#000000;stroke-width:0.8;\" x=\"39.65\" xlink:href=\"#mf8b08e5a2e\" y=\"168.977016\"/>\r\n      </g>\r\n     </g>\r\n     <g id=\"text_9\">\r\n      <!-- 500 -->\r\n      <g transform=\"translate(13.5625 172.776235)scale(0.1 -0.1)\">\r\n       <use xlink:href=\"#DejaVuSans-53\"/>\r\n       <use x=\"63.623047\" xlink:href=\"#DejaVuSans-48\"/>\r\n       <use x=\"127.246094\" xlink:href=\"#DejaVuSans-48\"/>\r\n      </g>\r\n     </g>\r\n    </g>\r\n    <g id=\"ytick_4\">\r\n     <g id=\"line2d_10\">\r\n      <g>\r\n       <use style=\"stroke:#000000;stroke-width:0.8;\" x=\"39.65\" xlink:href=\"#mf8b08e5a2e\" y=\"142.647384\"/>\r\n      </g>\r\n     </g>\r\n     <g id=\"text_10\">\r\n      <!-- 750 -->\r\n      <g transform=\"translate(13.5625 146.446602)scale(0.1 -0.1)\">\r\n       <defs>\r\n        <path d=\"M 8.203125 72.90625 \r\nL 55.078125 72.90625 \r\nL 55.078125 68.703125 \r\nL 28.609375 0 \r\nL 18.3125 0 \r\nL 43.21875 64.59375 \r\nL 8.203125 64.59375 \r\nz\r\n\" id=\"DejaVuSans-55\"/>\r\n       </defs>\r\n       <use xlink:href=\"#DejaVuSans-55\"/>\r\n       <use x=\"63.623047\" xlink:href=\"#DejaVuSans-53\"/>\r\n       <use x=\"127.246094\" xlink:href=\"#DejaVuSans-48\"/>\r\n      </g>\r\n     </g>\r\n    </g>\r\n    <g id=\"ytick_5\">\r\n     <g id=\"line2d_11\">\r\n      <g>\r\n       <use style=\"stroke:#000000;stroke-width:0.8;\" x=\"39.65\" xlink:href=\"#mf8b08e5a2e\" y=\"116.317751\"/>\r\n      </g>\r\n     </g>\r\n     <g id=\"text_11\">\r\n      <!-- 1000 -->\r\n      <g transform=\"translate(7.2 120.116969)scale(0.1 -0.1)\">\r\n       <use xlink:href=\"#DejaVuSans-49\"/>\r\n       <use x=\"63.623047\" xlink:href=\"#DejaVuSans-48\"/>\r\n       <use x=\"127.246094\" xlink:href=\"#DejaVuSans-48\"/>\r\n       <use x=\"190.869141\" xlink:href=\"#DejaVuSans-48\"/>\r\n      </g>\r\n     </g>\r\n    </g>\r\n    <g id=\"ytick_6\">\r\n     <g id=\"line2d_12\">\r\n      <g>\r\n       <use style=\"stroke:#000000;stroke-width:0.8;\" x=\"39.65\" xlink:href=\"#mf8b08e5a2e\" y=\"89.988118\"/>\r\n      </g>\r\n     </g>\r\n     <g id=\"text_12\">\r\n      <!-- 1250 -->\r\n      <g transform=\"translate(7.2 93.787336)scale(0.1 -0.1)\">\r\n       <use xlink:href=\"#DejaVuSans-49\"/>\r\n       <use x=\"63.623047\" xlink:href=\"#DejaVuSans-50\"/>\r\n       <use x=\"127.246094\" xlink:href=\"#DejaVuSans-53\"/>\r\n       <use x=\"190.869141\" xlink:href=\"#DejaVuSans-48\"/>\r\n      </g>\r\n     </g>\r\n    </g>\r\n    <g id=\"ytick_7\">\r\n     <g id=\"line2d_13\">\r\n      <g>\r\n       <use style=\"stroke:#000000;stroke-width:0.8;\" x=\"39.65\" xlink:href=\"#mf8b08e5a2e\" y=\"63.658485\"/>\r\n      </g>\r\n     </g>\r\n     <g id=\"text_13\">\r\n      <!-- 1500 -->\r\n      <g transform=\"translate(7.2 67.457703)scale(0.1 -0.1)\">\r\n       <use xlink:href=\"#DejaVuSans-49\"/>\r\n       <use x=\"63.623047\" xlink:href=\"#DejaVuSans-53\"/>\r\n       <use x=\"127.246094\" xlink:href=\"#DejaVuSans-48\"/>\r\n       <use x=\"190.869141\" xlink:href=\"#DejaVuSans-48\"/>\r\n      </g>\r\n     </g>\r\n    </g>\r\n    <g id=\"ytick_8\">\r\n     <g id=\"line2d_14\">\r\n      <g>\r\n       <use style=\"stroke:#000000;stroke-width:0.8;\" x=\"39.65\" xlink:href=\"#mf8b08e5a2e\" y=\"37.328852\"/>\r\n      </g>\r\n     </g>\r\n     <g id=\"text_14\">\r\n      <!-- 1750 -->\r\n      <g transform=\"translate(7.2 41.12807)scale(0.1 -0.1)\">\r\n       <use xlink:href=\"#DejaVuSans-49\"/>\r\n       <use x=\"63.623047\" xlink:href=\"#DejaVuSans-55\"/>\r\n       <use x=\"127.246094\" xlink:href=\"#DejaVuSans-53\"/>\r\n       <use x=\"190.869141\" xlink:href=\"#DejaVuSans-48\"/>\r\n      </g>\r\n     </g>\r\n    </g>\r\n    <g id=\"ytick_9\">\r\n     <g id=\"line2d_15\">\r\n      <g>\r\n       <use style=\"stroke:#000000;stroke-width:0.8;\" x=\"39.65\" xlink:href=\"#mf8b08e5a2e\" y=\"10.999219\"/>\r\n      </g>\r\n     </g>\r\n     <g id=\"text_15\">\r\n      <!-- 2000 -->\r\n      <g transform=\"translate(7.2 14.798438)scale(0.1 -0.1)\">\r\n       <use xlink:href=\"#DejaVuSans-50\"/>\r\n       <use x=\"63.623047\" xlink:href=\"#DejaVuSans-48\"/>\r\n       <use x=\"127.246094\" xlink:href=\"#DejaVuSans-48\"/>\r\n       <use x=\"190.869141\" xlink:href=\"#DejaVuSans-48\"/>\r\n      </g>\r\n     </g>\r\n    </g>\r\n   </g>\r\n   <g id=\"line2d_16\">\r\n    <path clip-path=\"url(#p984f68a28c)\" d=\"M 54.868182 214.403192 \r\nL 57.942562 196.150402 \r\nL 61.016942 208.923676 \r\nL 64.091322 207.649664 \r\nL 67.165702 212.936909 \r\nL 70.240083 205.98286 \r\nL 73.314463 208.692832 \r\nL 76.388843 211.487983 \r\nL 79.463223 213.366791 \r\nL 82.537603 187.025353 \r\nL 85.611983 215.464871 \r\nL 88.686364 213.588404 \r\nL 91.760744 209.893617 \r\nL 94.835124 103.550718 \r\nL 97.909504 206.383738 \r\nL 100.983884 193.364532 \r\nL 104.058264 108.232852 \r\nL 107.132645 209.491229 \r\nL 110.207025 217.876818 \r\nL 113.281405 175.798256 \r\nL 116.355785 198.665404 \r\nL 119.430165 207.091057 \r\nL 122.504545 204.62113 \r\nL 125.578926 210.376783 \r\nL 128.653306 213.447678 \r\nL 131.727686 163.153564 \r\nL 134.802066 200.625826 \r\nL 137.876446 212.806549 \r\nL 140.950826 210.607316 \r\nL 144.025207 212.561877 \r\nL 147.099587 212.906342 \r\nL 150.173967 179.881554 \r\nL 153.248347 206.290152 \r\nL 156.322727 203.690757 \r\nL 159.397107 206.684225 \r\nL 162.471488 187.328121 \r\nL 165.545868 215.506741 \r\nL 168.620248 199.458141 \r\nL 171.694628 180.840234 \r\nL 174.769008 214.389225 \r\nL 177.843388 210.818188 \r\nL 180.917769 204.988975 \r\nL 183.992149 195.377144 \r\nL 187.066529 193.604151 \r\nL 190.140909 205.550491 \r\nL 193.215289 190.540561 \r\nL 196.289669 217.701593 \r\nL 199.36405 132.296972 \r\nL 202.43843 183.063725 \r\nL 205.51281 213.940232 \r\nL 208.58719 140.370624 \r\nL 211.66157 201.417097 \r\nL 214.73595 209.865354 \r\nL 217.810331 213.326954 \r\nL 220.884711 208.135499 \r\nL 223.959091 207.6099 \r\nL 227.033471 198.900048 \r\nL 230.107851 208.229014 \r\nL 233.182231 180.990809 \r\nL 236.256612 215.181805 \r\nL 239.330992 211.609741 \r\nL 242.405372 66.031832 \r\nL 245.479752 188.241094 \r\nL 248.554132 217.54524 \r\nL 251.628512 211.244603 \r\nL 254.702893 211.247008 \r\nL 257.777273 131.809989 \r\nL 260.851653 207.262033 \r\nL 263.926033 212.95409 \r\nL 267.000413 208.317326 \r\nL 270.074793 207.56461 \r\nL 273.149174 209.024571 \r\nL 276.223554 195.33469 \r\nL 279.297934 138.260148 \r\nL 282.372314 186.351853 \r\nL 285.446694 211.469496 \r\nL 288.521074 180.675324 \r\nL 291.595455 201.537618 \r\nL 294.669835 198.590896 \r\nL 297.744215 195.069114 \r\nL 300.818595 199.042255 \r\nL 303.892975 204.63666 \r\nL 306.967355 209.125868 \r\nL 310.041736 208.370635 \r\nL 313.116116 208.908448 \r\nL 316.190496 211.681747 \r\nL 319.264876 210.605918 \r\nL 322.339256 211.646686 \r\nL 325.413636 208.937937 \r\nL 328.488017 207.097277 \r\nL 331.562397 203.183227 \r\nL 334.636777 187.392519 \r\nL 337.711157 20.204091 \r\nL 340.785537 193.585448 \r\nL 343.859917 173.430583 \r\nL 346.934298 207.708038 \r\nL 350.008678 209.960499 \r\nL 353.083058 195.340938 \r\nL 356.157438 204.676252 \r\nL 359.231818 215.969919 \r\n\" style=\"fill:none;stroke:#1f77b4;stroke-linecap:square;stroke-width:1.5;\"/>\r\n   </g>\r\n   <g id=\"line2d_17\">\r\n    <path clip-path=\"url(#p984f68a28c)\" d=\"M 54.868182 204.985057 \r\nL 57.942562 211.137503 \r\nL 61.016942 214.621932 \r\nL 64.091322 213.504544 \r\nL 67.165702 197.0085 \r\nL 70.240083 215.803446 \r\nL 73.314463 215.247185 \r\nL 76.388843 195.564001 \r\nL 79.463223 214.67443 \r\nL 82.537603 206.998612 \r\nL 85.611983 208.372605 \r\nL 88.686364 207.453733 \r\nL 91.760744 200.394516 \r\nL 94.835124 212.489943 \r\nL 97.909504 210.135088 \r\nL 100.983884 210.046069 \r\nL 104.058264 213.744849 \r\nL 107.132645 212.973698 \r\nL 110.207025 106.28465 \r\nL 113.281405 213.846575 \r\nL 116.355785 213.698058 \r\nL 119.430165 214.362723 \r\nL 122.504545 205.885293 \r\nL 125.578926 214.99256 \r\nL 128.653306 212.03185 \r\nL 131.727686 211.550843 \r\nL 134.802066 198.947286 \r\nL 137.876446 212.871864 \r\nL 140.950826 211.764211 \r\nL 144.025207 217.280886 \r\nL 147.099587 214.826193 \r\nL 150.173967 213.552931 \r\nL 153.248347 216.067022 \r\nL 156.322727 215.510174 \r\nL 159.397107 214.706599 \r\nL 162.471488 213.03707 \r\nL 165.545868 209.54509 \r\nL 168.620248 212.342609 \r\nL 171.694628 209.355801 \r\nL 174.769008 211.262984 \r\nL 177.843388 211.74997 \r\nL 180.917769 209.260355 \r\nL 183.992149 184.962133 \r\nL 187.066529 211.528846 \r\nL 190.140909 213.921812 \r\nL 193.215289 206.939825 \r\nL 196.289669 209.829274 \r\nL 199.36405 214.599083 \r\nL 202.43843 207.977203 \r\nL 205.51281 204.559451 \r\nL 208.58719 210.60065 \r\nL 211.66157 212.299009 \r\nL 214.73595 211.053999 \r\nL 217.810331 208.846856 \r\nL 220.884711 208.016655 \r\nL 223.959091 212.348522 \r\nL 227.033471 212.15177 \r\nL 230.107851 192.145528 \r\nL 233.182231 202.525945 \r\nL 236.256612 207.36726 \r\nL 239.330992 207.631249 \r\nL 242.405372 215.909091 \r\nL 245.479752 207.346252 \r\nL 248.554132 216.280572 \r\nL 251.628512 213.025085 \r\nL 254.702893 208.366162 \r\nL 257.777273 214.714253 \r\nL 260.851653 213.533931 \r\nL 263.926033 215.543331 \r\nL 267.000413 207.135713 \r\nL 270.074793 213.001651 \r\nL 273.149174 209.720756 \r\nL 276.223554 206.11856 \r\nL 279.297934 210.658928 \r\nL 282.372314 212.749344 \r\nL 285.446694 212.106877 \r\nL 288.521074 210.529594 \r\nL 291.595455 211.49445 \r\nL 294.669835 216.75225 \r\nL 297.744215 198.578586 \r\nL 300.818595 213.730059 \r\nL 303.892975 208.513258 \r\nL 306.967355 210.573021 \r\nL 310.041736 208.38505 \r\nL 313.116116 206.504188 \r\nL 316.190496 205.352009 \r\nL 319.264876 215.646015 \r\nL 322.339256 216.238659 \r\nL 325.413636 194.985086 \r\nL 328.488017 193.125692 \r\nL 331.562397 212.12102 \r\nL 334.636777 211.335382 \r\nL 337.711157 212.217775 \r\nL 340.785537 197.63544 \r\nL 343.859917 212.379077 \r\nL 346.934298 211.22137 \r\nL 350.008678 210.620215 \r\nL 353.083058 201.718418 \r\nL 356.157438 211.83767 \r\nL 359.231818 216.243939 \r\n\" style=\"fill:none;stroke:#ff7f0e;stroke-linecap:square;stroke-width:1.5;\"/>\r\n   </g>\r\n   <g id=\"patch_3\">\r\n    <path d=\"M 39.65 227.760454 \r\nL 39.65 10.320454 \r\n\" style=\"fill:none;stroke:#000000;stroke-linecap:square;stroke-linejoin:miter;stroke-width:0.8;\"/>\r\n   </g>\r\n   <g id=\"patch_4\">\r\n    <path d=\"M 374.45 227.760454 \r\nL 374.45 10.320454 \r\n\" style=\"fill:none;stroke:#000000;stroke-linecap:square;stroke-linejoin:miter;stroke-width:0.8;\"/>\r\n   </g>\r\n   <g id=\"patch_5\">\r\n    <path d=\"M 39.65 227.760454 \r\nL 374.45 227.760454 \r\n\" style=\"fill:none;stroke:#000000;stroke-linecap:square;stroke-linejoin:miter;stroke-width:0.8;\"/>\r\n   </g>\r\n   <g id=\"patch_6\">\r\n    <path d=\"M 39.65 10.320454 \r\nL 374.45 10.320454 \r\n\" style=\"fill:none;stroke:#000000;stroke-linecap:square;stroke-linejoin:miter;stroke-width:0.8;\"/>\r\n   </g>\r\n  </g>\r\n </g>\r\n <defs>\r\n  <clipPath id=\"p984f68a28c\">\r\n   <rect height=\"217.44\" width=\"334.8\" x=\"39.65\" y=\"10.320454\"/>\r\n  </clipPath>\r\n </defs>\r\n</svg>\r\n",
      "image/png": "[encoded data removed]"
     },
     "metadata": {
      "needs_background": "light"
     }
    }
   ],
   "source": [
    "plt.plot(range(len(results1)), results1)\n",
    "plt.plot(range(len(results2)), results2)"
   ]
  },
  {
   "cell_type": "code",
   "execution_count": null,
   "metadata": {},
   "outputs": [],
   "source": []
  }
 ],
 "metadata": {
  "kernelspec": {
   "name": "python379jvsc74a57bd00991d9f816f3ae08431cbfe77283594d685f9351f97c7a8199c52bebed5a8c9f",
   "display_name": "Python 3.7.9 64-bit ('TF_gpu': conda)"
  },
  "language_info": {
   "codemirror_mode": {
    "name": "ipython",
    "version": 3
   },
   "file_extension": ".py",
   "mimetype": "text/x-python",
   "name": "python",
   "nbconvert_exporter": "python",
   "pygments_lexer": "ipython3",
   "version": "3.7.9"
  }
 },
 "nbformat": 4,
 "nbformat_minor": 5
}