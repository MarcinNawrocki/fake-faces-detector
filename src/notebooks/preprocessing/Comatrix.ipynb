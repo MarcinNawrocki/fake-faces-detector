{
 "cells": [
  {
   "cell_type": "code",
   "execution_count": null,
   "source": [
    "import sys \r\n",
    "import typing as t\r\n",
    "from collections import namedtuple\r\n",
    "\r\n",
    "import numpy as np\r\n",
    "import pandas as pd\r\n",
    "import matplotlib.pyplot as plt\r\n",
    "plt.rcParams.update({'figure.max_open_warning': 0})\r\n",
    "from skimage.feature import greycomatrix, greycoprops\r\n",
    "from scipy.stats import ks_2samp\r\n",
    "\r\n",
    "# add src to path\r\n",
    "sys.path.append('../..')\r\n",
    "from utils.db_helper import get_image_data\r\n",
    "from utils.color_space_operations import all_colorspaces_from_rgb, comatrix_from_image"
   ],
   "outputs": [],
   "metadata": {}
  },
  {
   "cell_type": "code",
   "execution_count": null,
   "source": [
    "SOURCE_DIR_STYLE = R\"F:\\master-thesis-databases\\classification_db\\fake\"\r\n",
    "SOURCE_DIR_FFHQ = R\"F:\\master-thesis-databases\\classification_db\\real\"\r\n"
   ],
   "outputs": [],
   "metadata": {}
  },
  {
   "cell_type": "code",
   "execution_count": null,
   "source": [
    "GRAYSCALE=False\r\n",
    "base_save_path = os.path.join(\"..\", \"..\", \"..\", \"exp\", \"Comatrix\")\r\n",
    "DISTANCES = [1,2]\r\n",
    "ANGLES = [0, np.pi/4, np.pi/2, 3*np.pi/4]\r\n"
   ],
   "outputs": [],
   "metadata": {}
  },
  {
   "cell_type": "code",
   "execution_count": null,
   "source": [
    "def comatrix_from_dataset(src_path: str, distances: t.List[int], angles: t.List[float], grayscale=False)-> np.ndarray:\r\n",
    "    print(\"Loading dataset...\")\r\n",
    "    dataset_gen = get_image_data(src_path, type='int', grayscale=grayscale, max_number_of_images=1000)\r\n",
    "    final_type = np.float64\r\n",
    "    print(\"Processing database...\")\r\n",
    "    np_comatrix_dataset = np.zeros((256,256,9,len(distances),len(angles)), \r\n",
    "                                   dtype=final_type)\r\n",
    "    number_of_images = 0\r\n",
    "    for np_image in dataset_gen:\r\n",
    "        np_image = all_colorspaces_from_rgb(np_image, type='int')\r\n",
    "        np_tmp_comatrix = comatrix_from_image(np_image, distances, angles)\r\n",
    "        np_comatrix_dataset += np_tmp_comatrix\r\n",
    "        number_of_images +=1\r\n",
    "        if number_of_images % 100 == 0:\r\n",
    "            print(f\"Image number: {number_of_images}\")\r\n",
    "        elif np_comatrix_dataset.max() > 0.95*np.finfo(final_type).max:\r\n",
    "            raise ValueError(\"Dataset to large, datatype overflow\")\r\n",
    "            break\r\n",
    "    print (f\"{number_of_images} processed from path: {src_path}\")\r\n",
    "    return np_comatrix_dataset / number_of_images"
   ],
   "outputs": [],
   "metadata": {}
  },
  {
   "cell_type": "code",
   "execution_count": null,
   "source": [
    "# generate comatrixes\r\n",
    "np_comatrix_ffhq = comatrix_from_dataset(SOURCE_DIR_FFHQ, DISTANCES, ANGLES, grayscale=GRAYSCALE)\r\n",
    "np_comatrix_style = comatrix_from_dataset(SOURCE_DIR_STYLE, DISTANCES, ANGLES, grayscale=GRAYSCALE)"
   ],
   "outputs": [],
   "metadata": {
    "tags": []
   }
  },
  {
   "cell_type": "markdown",
   "source": [
    "## Comatrix"
   ],
   "metadata": {}
  },
  {
   "cell_type": "code",
   "execution_count": null,
   "source": [
    "if GRAYSCALE:\r\n",
    "    color_channels = {\r\n",
    "    \"0\": 'Gray',\r\n",
    "    }\r\n",
    "else:\r\n",
    "    color_channels = {\r\n",
    "        \"0\": 'R',\r\n",
    "        \"1\": 'G',\r\n",
    "        '2': 'B',\r\n",
    "        '3': 'H',\r\n",
    "        '4': 'S',\r\n",
    "        '5': 'V',\r\n",
    "        '6': 'Y',\r\n",
    "        '7': 'Cb',\r\n",
    "        '8': 'Cr'\r\n",
    "    }\r\n",
    "    \r\n",
    "datasets = {\r\n",
    "    'real': np_comatrix_ffhq,\r\n",
    "    'fake': np_comatrix_style\r\n",
    "}"
   ],
   "outputs": [],
   "metadata": {}
  },
  {
   "cell_type": "markdown",
   "source": [
    "### Plot comatrixes"
   ],
   "metadata": {}
  },
  {
   "cell_type": "code",
   "execution_count": null,
   "source": [
    "i=0\r\n",
    "for distance in DISTANCES:\r\n",
    "    j=0\r\n",
    "    for angle in ANGLES:\r\n",
    "        fig, axs = plt.subplots(nrows=int(len(datasets)*len(color_channels)/3), ncols=3, figsize=(15,15))\r\n",
    "        fig.suptitle(f'Comatrixes for distance: {distance} and angle: {angle} rads')\r\n",
    "        plt.subplots_adjust(hspace=0.5)\r\n",
    "        row=0\r\n",
    "        dataset_nr=0\r\n",
    "        for name, dataset in datasets.items():\r\n",
    "            # if len(color_channels) > 1:\r\n",
    "            for col in range(len(color_channels)):\r\n",
    "                if col%3 == 0 and col>0:\r\n",
    "                    row+=1\r\n",
    "                axs[row+dataset_nr,col%3].imshow(dataset[:,:,col,i,j])\r\n",
    "                axs[row+dataset_nr,col%3].set_title(f\"{name}_{color_channels[str(col)]}\")\r\n",
    "            dataset_nr+=1\r\n",
    "            \r\n",
    "        #saving image\r\n",
    "        filename = f\"{distance}_{angle}.png\"\r\n",
    "        save_path = os.path.join(base_save_path, filename)\r\n",
    "        plt.show()\r\n",
    "        #fig.savefig(save_path)\r\n",
    "        j+=1\r\n",
    "    i+=1"
   ],
   "outputs": [],
   "metadata": {}
  },
  {
   "cell_type": "markdown",
   "source": [
    "# Greycoprops"
   ],
   "metadata": {}
  },
  {
   "cell_type": "markdown",
   "source": [
    "## Based on avg comatrix from datasets"
   ],
   "metadata": {}
  },
  {
   "cell_type": "code",
   "execution_count": null,
   "source": [
    "save_path = os.path.join(base_save_path, \"greycoprops.csv\")\r\n",
    "greycoprops_properties = (\"contrast\", \"dissimilarity\", \"homogeneity\", \"ASM\", \"energy\", \"correlation\")\r\n",
    "df_metrics = pd.DataFrame(columns=['Property', 'Color', 'Color_number', 'Angle', 'Distance', 'Value_fake', 'Value_real', 'Diff_Value'])"
   ],
   "outputs": [],
   "metadata": {}
  },
  {
   "cell_type": "code",
   "execution_count": null,
   "source": [
    "index = 0\r\n",
    "for prop in greycoprops_properties:\r\n",
    "    for i in range(len(color_channels)):\r\n",
    "        result_real = greycoprops(np_comatrix_ffhq[:,:,i,:,:], prop=prop)\r\n",
    "        result_fake = greycoprops(np_comatrix_style[:,:,i,:,:], prop=prop)\r\n",
    "        diff = np.abs((result_real-result_fake)/(result_real+result_fake))\r\n",
    "        dist, angle = np.unravel_index(np.argmax(diff), diff.shape)\r\n",
    "        df_metrics.loc[index] = [prop, color_channels[str(i)], i, ANGLES[angle], DISTANCES[dist], result_real[dist, angle], result_fake[dist, angle], np.max(diff)]\r\n",
    "        index+=1"
   ],
   "outputs": [],
   "metadata": {}
  },
  {
   "cell_type": "code",
   "execution_count": null,
   "source": [
    "df_metrics = df_metrics.sort_values('Diff_Value', ascending=False)\r\n",
    "#df_metrics.to_csv(save_path)\r\n",
    "df_metrics.head()"
   ],
   "outputs": [],
   "metadata": {}
  },
  {
   "cell_type": "markdown",
   "source": [
    "## Compare values of greycoprops for single images"
   ],
   "metadata": {}
  },
  {
   "cell_type": "code",
   "execution_count": null,
   "source": [
    "rows_to_analyze = 4\r\n",
    "number_of_images = 1000\r\n",
    "save_path = os.path.join(base_save_path, \"greycoprops_scatter_with_outliers.png\")"
   ],
   "outputs": [],
   "metadata": {}
  },
  {
   "cell_type": "code",
   "execution_count": null,
   "source": [
    "ffhq_gen = get_image_data(SOURCE_DIR_FFHQ, type='int', grayscale=False, max_number_of_images=number_of_images)\r\n",
    "style_gen = get_image_data(SOURCE_DIR_STYLE, type='int', grayscale=False, max_number_of_images=number_of_images)"
   ],
   "outputs": [],
   "metadata": {}
  },
  {
   "cell_type": "code",
   "execution_count": null,
   "source": [
    "def greycoprops_from_image(np_img: np.ndarray, distances: t.List[int], angles: t.List[float], prop: str):\r\n",
    "    from skimage.feature import greycoprops\r\n",
    "    np_comatrix = comatrix_from_image(np_img, distances, angles)\r\n",
    "    if len(np_img.shape) == 3:\r\n",
    "        np_result = np.empty((np_img.shape[-1], len(distances), len(angles)))\r\n",
    "        for i in range(np_img.shape[-1]):\r\n",
    "            np_result[i] = greycoprops(np_comatrix[:,:,i,:,:], prop=prop)\r\n",
    "    else:\r\n",
    "        raise ValueError (\"Image shape not supported\")\r\n",
    "\r\n",
    "    return np_result"
   ],
   "outputs": [],
   "metadata": {}
  },
  {
   "cell_type": "code",
   "execution_count": null,
   "source": [
    "def get_greycoprops_from_dataset(src_path: str, distance: t.List[int], angle: t.List[float], color: int, prop: str, number_of_images):\r\n",
    "    dataset_gen = get_image_data(SOURCE_DIR_FFHQ, type='int', grayscale=False, max_number_of_images=number_of_images)\r\n",
    "    results = []\r\n",
    "    distance = [distance] if type(distance) is not list else distance\r\n",
    "    angle = [angle] if type(angle) is not list else angle\r\n",
    "    for np_img in dataset_gen:\r\n",
    "        np_all_img = all_colorspaces_from_rgb(np_img, type='int')\r\n",
    "        greycoprop = greycoprops_from_image(np_all_img, distance, angle, prop=prop)[color,0,0]\r\n",
    "        results.append(greycoprop)\r\n",
    "    return results"
   ],
   "outputs": [],
   "metadata": {}
  },
  {
   "cell_type": "code",
   "execution_count": null,
   "source": [
    "def delete_max_outliers(np_array: np.ndarray, percentage=0.90)-> np.ndarray:\r\n",
    "    np_result = np.sort(np_array)[::-1]\r\n",
    "    trim_threshold = int(percentage*np_result.size)\r\n",
    "    np_result = np_result[:trim_threshold]\r\n",
    "    np.random.shuffle(np_result)\r\n",
    "    return np_result"
   ],
   "outputs": [],
   "metadata": {}
  },
  {
   "cell_type": "code",
   "execution_count": null,
   "source": [
    "# calculate greycoprops properties for both real and fake dataset\r\n",
    "real = df_metrics[:rows_to_analyze].apply(lambda x: get_greycoprops_from_dataset(ffhq_gen, x['Distance'], x['Angle'], x['Color_number'], x['Property'], number_of_images), axis=1)\r\n",
    "fake = df_metrics[:rows_to_analyze].apply(lambda x: get_greycoprops_from_dataset(style_gen, x['Distance'], x['Angle'], x['Color_number'], x['Property'], number_of_images), axis=1)"
   ],
   "outputs": [],
   "metadata": {}
  },
  {
   "cell_type": "code",
   "execution_count": null,
   "source": [
    "x = range(int(number_of_images))\r\n",
    "fig, axs = plt.subplots(nrows=2, ncols=2, figsize=(15,7), sharey=True)\r\n",
    "fig.suptitle(\"Greycoprops from datasets as plot\")\r\n",
    "for i in range(rows_to_analyze):\r\n",
    "    axs[int(i/2), i%2].scatter(x,delete_max_outliers(real.values[i] / max(real.values[i]), percentage=1.0))\r\n",
    "    axs[int(i/2), i%2].scatter(x,delete_max_outliers(fake.values[i] / max(fake.values[i]), percentage=1.0))\r\n",
    "    axs[int(i/2), i%2].legend(['real', 'fake'])\r\n",
    "    row = df_metrics.loc[real.keys()[i]]\r\n",
    "    axs[int(i/2), i%2].set_title(f\"Property: {row['Property']}, Distance: {row['Distance']}, Angle: {row['Angle']}, Color: {row['Color']}\")\r\n",
    "# plt.savefig(save_path)"
   ],
   "outputs": [],
   "metadata": {}
  },
  {
   "cell_type": "markdown",
   "source": [
    "## Kolmogorov-Smirnoff test"
   ],
   "metadata": {}
  },
  {
   "cell_type": "code",
   "execution_count": null,
   "source": [
    "save_path = os.path.join(base_save_path, \"greycoprops+kstest.csv\")"
   ],
   "outputs": [],
   "metadata": {}
  },
  {
   "cell_type": "code",
   "execution_count": null,
   "source": [
    "# conduct Kormognov-Smirnoff\r\n",
    "np_results = np.empty((rows_to_analyze, 2))\r\n",
    "for i in range(rows_to_analyze):\r\n",
    "    single_ks_test =  ks_2samp(real.iloc[i], fake.iloc[i])\r\n",
    "    metrics_row = df_metrics.loc[real.keys()[i]]\r\n",
    "    np_results[i] = single_ks_test"
   ],
   "outputs": [],
   "metadata": {}
  },
  {
   "cell_type": "code",
   "execution_count": null,
   "source": [
    "# add to datagram with results and \r\n",
    "df_results = df_metrics.iloc[:rows_to_analyze]\r\n",
    "df_results.insert(len(df_metrics.columns), \"Statistics\",np_results[:,0])\r\n",
    "df_results.insert(len(df_metrics.columns), \"pValue\",np_results[:,1])\r\n",
    "# df_results.to_csv(save_path)\r\n",
    "df_results"
   ],
   "outputs": [],
   "metadata": {}
  }
 ],
 "metadata": {
  "kernelspec": {
   "name": "python3",
   "display_name": "Python 3.7.9 64-bit ('TF_gpu': conda)"
  },
  "language_info": {
   "codemirror_mode": {
    "name": "ipython",
    "version": 3
   },
   "file_extension": ".py",
   "mimetype": "text/x-python",
   "name": "python",
   "nbconvert_exporter": "python",
   "pygments_lexer": "ipython3",
   "version": "3.7.9"
  },
  "interpreter": {
   "hash": "0991d9f816f3ae08431cbfe77283594d685f9351f97c7a8199c52bebed5a8c9f"
  }
 },
 "nbformat": 4,
 "nbformat_minor": 5
}