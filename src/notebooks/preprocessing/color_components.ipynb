{
 "metadata": {
  "language_info": {
   "codemirror_mode": {
    "name": "ipython",
    "version": 3
   },
   "file_extension": ".py",
   "mimetype": "text/x-python",
   "name": "python",
   "nbconvert_exporter": "python",
   "pygments_lexer": "ipython3",
   "version": "3.7.9"
  },
  "orig_nbformat": 2,
  "kernelspec": {
   "name": "python3",
   "display_name": "Python 3.7.9 64-bit ('TF_gpu': conda)"
  },
  "interpreter": {
   "hash": "0991d9f816f3ae08431cbfe77283594d685f9351f97c7a8199c52bebed5a8c9f"
  }
 },
 "nbformat": 4,
 "nbformat_minor": 2,
 "cells": [
  {
   "cell_type": "code",
   "execution_count": null,
   "source": [
    "import os\r\n",
    "import sys\r\n",
    "import typing as t\r\n",
    "from PIL import Image\r\n",
    "\r\n",
    "import numpy as np\r\n",
    "np.seterr(divide='ignore', invalid='ignore')\r\n",
    "import matplotlib.pyplot as plt\r\n",
    "plt.rcParams.update({'figure.max_open_warning': 0})\r\n",
    "\r\n",
    "# add src to path\r\n",
    "sys.path.append('../..')\r\n",
    "from utils.db_helper import get_image_data\r\n",
    "from utils.color_space_operations import all_colorspaces_from_rgb, calculate_difference_image, get_difference_img_gen, float_to_int_img_conversion"
   ],
   "outputs": [],
   "metadata": {}
  },
  {
   "cell_type": "code",
   "execution_count": null,
   "source": [
    "SOURCE_DIR_STYLE = R\"F:\\master-thesis-databases\\classification_db\\fake\"\r\n",
    "SOURCE_DIR_FFHQ = R\"F:\\master-thesis-databases\\classification_db\\real\"\r\n",
    "base_save_path = os.path.join(\"..\", \"..\", \"..\", \"exp\", \"Histograms\")\r\n"
   ],
   "outputs": [],
   "metadata": {}
  },
  {
   "cell_type": "code",
   "execution_count": null,
   "source": [
    "def calculate_avg_histogram(dataset_gen: t.Generator[np.ndarray, None, None], bins=256, hist_range=(0,1), channels=3):\r\n",
    "    number_of_images = 0\r\n",
    "    np_avg_hist = np.zeros((bins,channels), dtype=np.float64)\r\n",
    "    for np_img in dataset_gen:\r\n",
    "        for colorspace in range(channels):\r\n",
    "            hist, _ = np.histogram(np_img[:,:,colorspace],                                               density=True, bins=bins, range=hist_range)\r\n",
    "            np_avg_hist[:,colorspace] += hist\r\n",
    "        number_of_images += 1\r\n",
    "        if np_avg_hist.max() > 0.95*np.finfo(np_avg_hist.dtype).max:\r\n",
    "            raise ValueError(\"Dataset to large\")\r\n",
    "            break\r\n",
    "\r\n",
    "    return np_avg_hist / number_of_images "
   ],
   "outputs": [],
   "metadata": {}
  },
  {
   "cell_type": "markdown",
   "source": [
    "## Color componenets histograms"
   ],
   "metadata": {}
  },
  {
   "cell_type": "code",
   "execution_count": null,
   "source": [
    "def get_all_colorspaces_gen(dataset_gen):\r\n",
    "    return (all_colorspaces_from_rgb(np_img) for np_img in dataset_gen)"
   ],
   "outputs": [],
   "metadata": {}
  },
  {
   "cell_type": "code",
   "execution_count": null,
   "source": [
    "color_componenets = (\"R\", \"G\", \"B\", \"H\", \"S\", \"V\", \"Y\", \"Cb\", \"Cr\")\r\n",
    "save_path = os.path.join(base_save_path, \"Color_components_avg_histograms_sharey.png\")\r\n",
    "categories = ['real', 'fake']\r\n",
    "\r\n"
   ],
   "outputs": [],
   "metadata": {}
  },
  {
   "cell_type": "code",
   "execution_count": null,
   "source": [
    "ffhq_gen = get_image_data(SOURCE_DIR_FFHQ, type='float', grayscale=False, max_number_of_images=100)\r\n",
    "style_gen = get_image_data(SOURCE_DIR_STYLE, type='float', grayscale=False, max_number_of_images=100)\r\n",
    "real_hist = calculate_avg_histogram(get_all_colorspaces_gen(ffhq_gen), channels=9)\r\n",
    "fake_hist = calculate_avg_histogram(get_all_colorspaces_gen(style_gen), channels=9)"
   ],
   "outputs": [],
   "metadata": {}
  },
  {
   "cell_type": "code",
   "execution_count": null,
   "source": [
    "fig, axs = plt.subplots(ncols=3, nrows=3, sharey=True, figsize=(15,7))\r\n",
    "fig.suptitle(\"Average histograms of each color component\")\r\n",
    "plt.subplots_adjust(hspace=0.5)\r\n",
    "for i in range(9):\r\n",
    "    axs[int(i/3),i%3].plot(np.linspace(0,1,num=256), real_hist[:,i])\r\n",
    "    axs[int(i/3),i%3].plot(np.linspace(0,1,num=256), fake_hist[:,i])\r\n",
    "    axs[int(i/3),i%3].legend(['real', 'fake'])\r\n",
    "    axs[int(i/3),i%3].set_title(color_componenets[i])\r\n",
    "#plt.savefig(save_path)\r\n",
    "plt.show()   \r\n",
    "\r\n"
   ],
   "outputs": [],
   "metadata": {}
  },
  {
   "cell_type": "markdown",
   "source": [
    "## Color Componenets for difference images"
   ],
   "metadata": {}
  },
  {
   "cell_type": "code",
   "execution_count": null,
   "source": [
    "color_components = (\"R\", \"G\", \"B\", \"H\", \"S\", \"V\", \"Y\", \"Cb\", \"Cr\")\r\n",
    "save_path = os.path.join(base_save_path, \"Color_components_diff_avg_histograms_sharey.png\")\r\n",
    "categories = ['real', 'fake']\r\n",
    "kernel = \"diff\""
   ],
   "outputs": [],
   "metadata": {}
  },
  {
   "cell_type": "code",
   "execution_count": null,
   "source": [
    "ffhq_gen = get_image_data(SOURCE_DIR_FFHQ, type='float', grayscale=False, max_number_of_images=100)\r\n",
    "style_gen = get_image_data(SOURCE_DIR_STYLE, type='float', grayscale=False, max_number_of_images=100)\r\n",
    "real_hist = calculate_avg_histogram(get_difference_img_gen(ffhq_gen, kernel=kernel), channels=9, hist_range=(0,255))\r\n",
    "fake_hist = calculate_avg_histogram(get_difference_img_gen(style_gen, kernel=kernel), channels=9, hist_range=(0,255))"
   ],
   "outputs": [],
   "metadata": {}
  },
  {
   "cell_type": "code",
   "execution_count": null,
   "source": [
    "fig, axs = plt.subplots(ncols=3, nrows=3, sharey=True, figsize=(15,7))\r\n",
    "fig.suptitle(\"Average histograms of each color component in difference image\")\r\n",
    "plt.subplots_adjust(hspace=0.5)\r\n",
    "for i in range(len(color_components)):\r\n",
    "    axs[int(i/3),i%3].plot(np.linspace(0,1,num=256), real_hist[:,i])\r\n",
    "    axs[int(i/3),i%3].plot(np.linspace(0,1,num=256), fake_hist[:,i])\r\n",
    "    axs[int(i/3),i%3].legend(['real', 'fake'])\r\n",
    "    axs[int(i/3),i%3].set_title(color_componenets[i])\r\n",
    "# plt.savefig(save_path)\r\n",
    "plt.show()  "
   ],
   "outputs": [],
   "metadata": {}
  },
  {
   "cell_type": "code",
   "execution_count": null,
   "source": [],
   "outputs": [],
   "metadata": {}
  }
 ]
}