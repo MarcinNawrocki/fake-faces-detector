{
 "metadata": {
  "language_info": {
   "codemirror_mode": {
    "name": "ipython",
    "version": 3
   },
   "file_extension": ".py",
   "mimetype": "text/x-python",
   "name": "python",
   "nbconvert_exporter": "python",
   "pygments_lexer": "ipython3",
   "version": "3.7.9"
  },
  "orig_nbformat": 2,
  "kernelspec": {
   "name": "python379jvsc74a57bd00991d9f816f3ae08431cbfe77283594d685f9351f97c7a8199c52bebed5a8c9f",
   "display_name": "Python 3.7.9 64-bit ('TF_gpu': conda)"
  }
 },
 "nbformat": 4,
 "nbformat_minor": 2,
 "cells": [
  {
   "cell_type": "code",
   "execution_count": null,
   "metadata": {},
   "outputs": [],
   "source": [
    "import os\n",
    "import sys\n",
    "import typing as t\n",
    "from PIL import Image\n",
    "\n",
    "import numpy as np\n",
    "np.seterr(divide='ignore', invalid='ignore')\n",
    "\n",
    "import matplotlib.pyplot as plt\n",
    "plt.rcParams.update({'figure.max_open_warning': 0})\n",
    "import skimage.color\n",
    "\n",
    "# add src to path\n",
    "sys.path.append('../..')\n",
    "from utils.db_helper import get_image_data"
   ]
  },
  {
   "cell_type": "code",
   "execution_count": null,
   "metadata": {},
   "outputs": [],
   "source": [
    "SOURCE_DIR_STYLE = R\"F:\\master-thesis-databases\\classification_db\\fake\"\n",
    "SOURCE_DIR_FFHQ = R\"F:\\master-thesis-databases\\classification_db\\real\"\n",
    "base_save_path = os.path.join(\"..\", \"..\", \"..\", \"exp\", \"Histograms\")\n"
   ]
  },
  {
   "cell_type": "code",
   "execution_count": null,
   "metadata": {},
   "outputs": [],
   "source": [
    "def all_colorspaces_from_rgb(np_rgb_img: np.ndarray)-> np.ndarray:\n",
    "    \"\"\"R,G,B,H,S,V,Y,Cb,Cr\"\"\"\n",
    "    if np_rgb_img.shape[2] < 3 or len(np_rgb_img.shape) != 3:\n",
    "        raise ValueError(\"Bad shape of input image\")\n",
    "    np_img_hsv = skimage.color.rgb2hsv(np_rgb_img)\n",
    "    np_img_ycbcr = skimage.color.rgb2ycbcr(np_rgb_img) / 255\n",
    "    # (x,y,9) shape insted of (x,y,3)\n",
    "    new_shape = list(np_rgb_img.shape[:2])+[9]\n",
    "    np_img_all_colors = np.empty(new_shape)\n",
    "    np_img_all_colors[:,:,:3] = np_rgb_img\n",
    "    np_img_all_colors[:,:,3:6] = np_img_hsv\n",
    "    np_img_all_colors[:,:,6:] = np_img_ycbcr\n",
    "    return np_img_all_colors"
   ]
  },
  {
   "cell_type": "code",
   "execution_count": null,
   "metadata": {},
   "outputs": [],
   "source": [
    "def draw_color_components_histogram(src_path: str, bins=256, hist_range=(0,1)):\n",
    "    dataset_gen = get_image_data(src_path, type='float', grayscale=False, max_number_of_images=2000)\n",
    "    number_of_images = 0\n",
    "    number_of_colorspaces = 9\n",
    "    np_avg_hist = np.zeros((bins,number_of_colorspaces), dtype=np.float64)\n",
    "    for np_img in dataset_gen:\n",
    "        np_all_colorspaces = all_colorspaces_from_rgb(np_img)\n",
    "        for colorspace in range(number_of_colorspaces):\n",
    "            hist, _ = np.histogram(np_all_colorspaces[:,:,colorspace],                                               density=True, bins=bins, range=hist_range)\n",
    "            np_avg_hist[:,colorspace] += hist\n",
    "        number_of_images += 1\n",
    "        if np_avg_hist.max() > 0.95*np.finfo(np_avg_hist.dtype).max:\n",
    "            raise ValueError(\"Dataset to large\")\n",
    "            break\n",
    "\n",
    "    return np_avg_hist / number_of_images "
   ]
  },
  {
   "cell_type": "code",
   "execution_count": null,
   "metadata": {},
   "outputs": [],
   "source": [
    "color_componenets = (\"R\", \"G\", \"B\", \"H\", \"S\", \"V\", \"Y\", \"Cb\", \"Cr\")\n",
    "save_path = os.path.join(base_save_path, \"Color_components_avg_histograms_sharey.png\")\n",
    "categories = ['real', 'fake']\n"
   ]
  },
  {
   "cell_type": "code",
   "execution_count": null,
   "metadata": {},
   "outputs": [],
   "source": [
    "real_hist, bins = draw_color_components_histogram(SOURCE_DIR_FFHQ)\n",
    "fake_hist, bins = draw_color_components_histogram(SOURCE_DIR_STYLE)"
   ]
  },
  {
   "cell_type": "code",
   "execution_count": null,
   "metadata": {},
   "outputs": [],
   "source": [
    "fig, axs = plt.subplots(ncols=3, nrows=3, sharey=True, figsize=(15,7))\n",
    "fig.suptitle(\"Average histograms of each color component\")\n",
    "plt.subplots_adjust(hspace=0.5)\n",
    "for i in range(9):\n",
    "    axs[int(i/3),i%3].plot(np.linspace(0,1,num=256), real_hist[:,i])\n",
    "    axs[int(i/3),i%3].plot(np.linspace(0,1,num=256), fake_hist[:,i])\n",
    "    axs[int(i/3),i%3].legend(['real', 'fake'])\n",
    "    axs[int(i/3),i%3].set_title(color_componenets[i])\n",
    "plt.savefig(save_path)\n",
    "    \n",
    "\n"
   ]
  }
 ]
}