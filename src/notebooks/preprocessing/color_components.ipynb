{
 "metadata": {
  "language_info": {
   "codemirror_mode": {
    "name": "ipython",
    "version": 3
   },
   "file_extension": ".py",
   "mimetype": "text/x-python",
   "name": "python",
   "nbconvert_exporter": "python",
   "pygments_lexer": "ipython3",
   "version": "3.7.9"
  },
  "orig_nbformat": 2,
  "kernelspec": {
   "name": "python3",
   "display_name": "Python 3.7.9 64-bit ('TF_gpu': conda)"
  },
  "interpreter": {
   "hash": "0991d9f816f3ae08431cbfe77283594d685f9351f97c7a8199c52bebed5a8c9f"
  }
 },
 "nbformat": 4,
 "nbformat_minor": 2,
 "cells": [
  {
   "cell_type": "code",
   "execution_count": null,
   "metadata": {},
   "outputs": [],
   "source": [
    "import os\n",
    "import sys\n",
    "import typing as t\n",
    "from PIL import Image\n",
    "\n",
    "import numpy as np\n",
    "np.seterr(divide='ignore', invalid='ignore')\n",
    "import matplotlib.pyplot as plt\n",
    "plt.rcParams.update({'figure.max_open_warning': 0})\n",
    "import skimage.color\n",
    "\n",
    "# add src to path\n",
    "sys.path.append('../..')\n",
    "from utils.db_helper import get_image_data\n",
    "from utils.color_space_operations import all_colorspaces_from_rgb, calculate_difference_image, get_difference_img_gen, float_to_int_img_conversion"
   ]
  },
  {
   "cell_type": "code",
   "execution_count": null,
   "metadata": {},
   "outputs": [],
   "source": [
    "SOURCE_DIR_STYLE = R\"F:\\master-thesis-databases\\classification_db\\fake\"\n",
    "SOURCE_DIR_FFHQ = R\"F:\\master-thesis-databases\\classification_db\\real\"\n",
    "base_save_path = os.path.join(\"..\", \"..\", \"..\", \"exp\", \"Histograms\")\n"
   ]
  },
  {
   "cell_type": "code",
   "execution_count": null,
   "metadata": {},
   "outputs": [],
   "source": [
    "def calculate_avg_histogram(dataset_gen: t.Generator[np.ndarray, None, None], bins=256, hist_range=(0,1), channels=3):\n",
    "    number_of_images = 0\n",
    "    np_avg_hist = np.zeros((bins,channels), dtype=np.float64)\n",
    "    for np_img in dataset_gen:\n",
    "        for colorspace in range(channels):\n",
    "            hist, _ = np.histogram(np_img[:,:,colorspace],                                               density=True, bins=bins, range=hist_range)\n",
    "            np_avg_hist[:,colorspace] += hist\n",
    "        number_of_images += 1\n",
    "        if np_avg_hist.max() > 0.95*np.finfo(np_avg_hist.dtype).max:\n",
    "            raise ValueError(\"Dataset to large\")\n",
    "            break\n",
    "\n",
    "    return np_avg_hist / number_of_images "
   ]
  },
  {
   "source": [
    "## Color componenets histograms"
   ],
   "cell_type": "markdown",
   "metadata": {}
  },
  {
   "cell_type": "code",
   "execution_count": null,
   "metadata": {},
   "outputs": [],
   "source": [
    "def get_all_colorspaces_gen(dataset_gen):\n",
    "    return (all_colorspaces_from_rgb(np_img) for np_img in dataset_gen)"
   ]
  },
  {
   "cell_type": "code",
   "execution_count": null,
   "metadata": {},
   "outputs": [],
   "source": [
    "color_componenets = (\"R\", \"G\", \"B\", \"H\", \"S\", \"V\", \"Y\", \"Cb\", \"Cr\")\n",
    "save_path = os.path.join(base_save_path, \"Color_components_avg_histograms_sharey.png\")\n",
    "categories = ['real', 'fake']\n"
   ]
  },
  {
   "cell_type": "code",
   "execution_count": null,
   "metadata": {},
   "outputs": [],
   "source": [
    "ffhq_gen = get_image_data(SOURCE_DIR_FFHQ, type='float', grayscale=False, max_number_of_images=100)\n",
    "style_gen = get_image_data(SOURCE_DIR_STYLE, type='float', grayscale=False, max_number_of_images=100)\n",
    "real_hist = calculate_avg_histogram(get_all_colorspaces_gen(ffhq_gen), channels=9)\n",
    "fake_hist = calculate_avg_histogram(get_all_colorspaces_gen(style_gen), channels=9)"
   ]
  },
  {
   "cell_type": "code",
   "execution_count": null,
   "metadata": {},
   "outputs": [],
   "source": [
    "fig, axs = plt.subplots(ncols=3, nrows=3, sharey=True, figsize=(15,7))\n",
    "fig.suptitle(\"Average histograms of each color component\")\n",
    "plt.subplots_adjust(hspace=0.5)\n",
    "for i in range(9):\n",
    "    axs[int(i/3),i%3].plot(np.linspace(0,1,num=256), real_hist[:,i])\n",
    "    axs[int(i/3),i%3].plot(np.linspace(0,1,num=256), fake_hist[:,i])\n",
    "    axs[int(i/3),i%3].legend(['real', 'fake'])\n",
    "    axs[int(i/3),i%3].set_title(color_componenets[i])\n",
    "#plt.savefig(save_path)\n",
    "plt.show()   \n",
    "\n"
   ]
  },
  {
   "source": [
    "## Color Componenets for difference images"
   ],
   "cell_type": "markdown",
   "metadata": {}
  },
  {
   "cell_type": "code",
   "execution_count": null,
   "metadata": {},
   "outputs": [],
   "source": [
    "color_componenets = (\"R\", \"G\", \"B\", \"H\", \"S\", \"V\", \"Y\", \"Cb\", \"Cr\")\n",
    "save_path = os.path.join(base_save_path, \"Color_components_diff_avg_histograms_sharey.png\")\n",
    "categories = ['real', 'fake']"
   ]
  },
  {
   "cell_type": "code",
   "execution_count": null,
   "metadata": {},
   "outputs": [],
   "source": [
    "ffhq_gen = get_image_data(SOURCE_DIR_FFHQ, type='float', grayscale=False, max_number_of_images=100)\n",
    "style_gen = get_image_data(SOURCE_DIR_STYLE, type='float', grayscale=False, max_number_of_images=100)\n",
    "real_hist = calculate_avg_histogram(get_difference_img_gen(ffhq_gen), channels=9, hist_range=(0,255))\n",
    "fake_hist = calculate_avg_histogram(get_difference_img_gen(style_gen), channels=9, hist_range=(0,255))"
   ]
  },
  {
   "cell_type": "code",
   "execution_count": null,
   "metadata": {},
   "outputs": [],
   "source": [
    "fig, axs = plt.subplots(ncols=3, nrows=3, sharey=True, figsize=(15,7))\n",
    "fig.suptitle(\"Average histograms of each color component in difference image\")\n",
    "plt.subplots_adjust(hspace=0.5)\n",
    "for i in range(9):\n",
    "    axs[int(i/3),i%3].plot(np.linspace(0,1,num=256), real_hist[:,i])\n",
    "    axs[int(i/3),i%3].plot(np.linspace(0,1,num=256), fake_hist[:,i])\n",
    "    axs[int(i/3),i%3].legend(['real', 'fake'])\n",
    "    axs[int(i/3),i%3].set_title(color_componenets[i])\n",
    "# plt.savefig(save_path)\n",
    "plt.show()  "
   ]
  },
  {
   "cell_type": "code",
   "execution_count": null,
   "metadata": {},
   "outputs": [],
   "source": []
  }
 ]
}