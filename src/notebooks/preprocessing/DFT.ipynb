{
 "cells": [
  {
   "cell_type": "code",
   "execution_count": null,
   "metadata": {},
   "outputs": [],
   "source": [
    "import os\n",
    "import sys \n",
    "import typing as t\n",
    "from PIL import Image\n",
    "\n",
    "import numpy as np\n",
    "import matplotlib.pyplot as plt\n",
    "\n",
    "# add src to path\n",
    "sys.path.append('../..')\n",
    "from utils.db_helper import get_image_data"
   ]
  },
  {
   "cell_type": "code",
   "execution_count": null,
   "metadata": {},
   "outputs": [],
   "source": [
    "GRAYSCALE=True\n",
    "base_save_path = os.path.join(\"..\", \"..\", \"..\", \"exp\", \"DFT\")"
   ]
  },
  {
   "cell_type": "code",
   "execution_count": null,
   "metadata": {
    "collapsed": false,
    "jupyter": {
     "outputs_hidden": false
    },
    "pycharm": {
     "name": "#%%\n"
    }
   },
   "outputs": [],
   "source": [
    "SOURCE_DIR_V1 = \"C:/database/StyleGanv1\"\n",
    "SOURCE_DIR_V2 = \"C:/database/StyleGanv2\"\n",
    "SOURCE_DIR_FFHQ = \"C:/database/FFHQ\"\n"
   ]
  },
  {
   "cell_type": "code",
   "execution_count": null,
   "metadata": {},
   "outputs": [],
   "source": [
    "def dft_from_single_channel(np_channel: np.ndarray)-> np.ndarray:\n",
    "        np_fft = np.fft.fft2(np_channel)\n",
    "        np_fft = np.fft.fftshift(np_fft)\n",
    "        np_fft = np.log(np.abs(np_fft)+1e-3)\n",
    "        #normalize\n",
    "        fft_min = np.percentile(np_fft,5)\n",
    "        fft_max = np.percentile(np_fft,95)\n",
    "        np_fft = (np_fft - fft_min)/(fft_max - fft_min)\n",
    "        np_fft[np_fft<0] = 0\n",
    "        np_fft[np_fft>1] = 1\n",
    "        return np_fft"
   ]
  },
  {
   "cell_type": "code",
   "execution_count": null,
   "metadata": {},
   "outputs": [],
   "source": [
    "def dft_from_image(np_img: np.ndarray)-> np.ndarray:\n",
    "    np_fft = np.empty(np_img.shape)\n",
    "    if len(np_img.shape) == 3:\n",
    "        for i in range(np_img.shape[-1]):\n",
    "            np_fft[:,:,i] = dft_from_single_channel(np_img[:,:,i])\n",
    "    elif len(np_img.shape) == 2:\n",
    "        np_fft = dft_from_single_channel(np_img)\n",
    "    else:\n",
    "        raise ValueError('Bad shape of the image')\n",
    "    return np_fft\n"
   ]
  },
  {
   "cell_type": "code",
   "execution_count": null,
   "metadata": {},
   "outputs": [],
   "source": [
    "def dft_from_dataset(src_path: str, grayscale=False)-> np.ndarray:\n",
    "    print(\"Loading dataset...\")\n",
    "    dataset_gen = get_image_data(src_path, grayscale=grayscale)\n",
    "    final_type = np.float64\n",
    "    print(\"Processing database...\")\n",
    "    np_dft_dataset = np.zeros(next(dataset_gen).shape, dtype=final_type)\n",
    "    number_of_images = 0\n",
    "    for np_image in dataset_gen:\n",
    "        np_tmp_dft = dft_from_image(np_image)\n",
    "        np_dft_dataset += np_tmp_dft\n",
    "        number_of_images +=1\n",
    "        if np_dft_dataset.max() > 0.95*np.finfo(final_type).max:\n",
    "            raise ValueError(\"Dataset to large, datatype overflow\")\n",
    "            break\n",
    "    return np_dft_dataset / number_of_images \n"
   ]
  },
  {
   "cell_type": "code",
   "execution_count": null,
   "metadata": {},
   "outputs": [],
   "source": [
    "np_dft_ffhq = dft_from_dataset(SOURCE_DIR_FFHQ, grayscale=GRAYSCALE)\n",
    "np_dft_style1 = dft_from_dataset(SOURCE_DIR_V1, grayscale=GRAYSCALE)\n",
    "np_dft_style2 = dft_from_dataset(SOURCE_DIR_V2, grayscale=GRAYSCALE)"
   ]
  },
  {
   "cell_type": "code",
   "execution_count": null,
   "metadata": {},
   "outputs": [],
   "source": [
    "datasets = {\n",
    "    'ffhq': np_dft_ffhq,\n",
    "    'StyleGanv1': np_dft_style1,\n",
    "    'StyleGanv2': np_dft_style2\n",
    "}\n",
    "\n",
    "if GRAYSCALE:\n",
    "    color_channels = {\n",
    "    \"0\": 'Gray',\n",
    "    }\n",
    "else:\n",
    "    color_channels = {\n",
    "        \"0\": 'R',\n",
    "        \"1\": 'G',\n",
    "        '2': 'B'\n",
    "    }"
   ]
  },
  {
   "source": [
    "# DFT from images"
   ],
   "cell_type": "markdown",
   "metadata": {}
  },
  {
   "cell_type": "code",
   "execution_count": null,
   "metadata": {},
   "outputs": [],
   "source": [
    "fig, axs = plt.subplots(nrows=len(datasets), ncols=len(color_channels), figsize=(15,15))\n",
    "fig.suptitle(\"2D-DFT for different dataset\")\n",
    "row=0\n",
    "for name, dataset in datasets.items():\n",
    "    if len(color_channels) > 1:\n",
    "        for col in len(color_channels):\n",
    "            axs[row,col].imshow(dataset[:,:,col], cmap='gray')\n",
    "            axs[row,col].set_title(f\"{name}_{color_channels[str(col)]}\")\n",
    "    else:\n",
    "            axs[row].imshow(dataset[:,:], cmap='gray')\n",
    "            axs[row].set_title(f\"{name}\")\n",
    "    row+=1\n",
    "directory = 'Grayscale' if GRAYSCALE else 'RGB'\n",
    "filename=\"DFT_comaparision.png\"\n",
    "save_path = os.path.join(base_save_path, directory, filename)\n",
    "#print(save_path)\n",
    "fig.savefig(save_path)\n"
   ]
  },
  {
   "source": [
    "# Histograms from DFT"
   ],
   "cell_type": "markdown",
   "metadata": {}
  },
  {
   "cell_type": "code",
   "execution_count": null,
   "metadata": {},
   "outputs": [],
   "source": [
    "fig, axs = plt.subplots(nrows=len(datasets), ncols=len(color_channels), sharey=True, figsize=(15,15))\n",
    "fig.suptitle(\"Average histograms from 2D-DFT images\")\n",
    "row=0\n",
    "for name, dataset in datasets.items():\n",
    "    if len(color_channels) > 1:\n",
    "        for col in len(color_channels):\n",
    "            hist, bins = np.histogram(dataset[:,:,col], density=True, bins=100)\n",
    "            axs[row,col].plot(list(bins[:-1]), hist)\n",
    "            axs[row,col].set_title(f\"{name}_{color_channels[str(col)]}\")\n",
    "    else:\n",
    "        hist, bins = np.histogram(dataset[:,:], density=True, bins=100)\n",
    "        axs[row].plot(list(bins[:-1]), hist)\n",
    "        axs[row].set_title(f\"{name}\")\n",
    "    row+=1\n",
    "directory = 'Grayscale' if GRAYSCALE else 'RGB'\n",
    "filename=\"DFT_histogram_comaparision.png\"\n",
    "save_path = os.path.join(base_save_path, directory, filename)\n",
    "#print(save_path)\n",
    "fig.savefig(save_path)"
   ]
  }
 ],
 "metadata": {
  "kernelspec": {
   "display_name": "TF_gpu",
   "language": "python",
   "name": "tf_gpu"
  },
  "language_info": {
   "codemirror_mode": {
    "name": "ipython",
    "version": 3
   },
   "file_extension": ".py",
   "mimetype": "text/x-python",
   "name": "python",
   "nbconvert_exporter": "python",
   "pygments_lexer": "ipython3",
   "version": "3.7.9-final"
  }
 },
 "nbformat": 4,
 "nbformat_minor": 4
}