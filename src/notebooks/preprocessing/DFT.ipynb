{
 "cells": [
  {
   "cell_type": "code",
   "execution_count": 11,
   "metadata": {},
   "outputs": [],
   "source": [
    "import os\n",
    "import sys \n",
    "import typing as t\n",
    "from PIL import Image\n",
    "\n",
    "import numpy as np\n",
    "import matplotlib.pyplot as plt\n",
    "\n",
    "# add src to path\n",
    "sys.path.append('..')\n",
    "from utils.db_helper import get_image_data"
   ]
  },
  {
   "cell_type": "code",
   "execution_count": 4,
   "metadata": {
    "collapsed": false,
    "jupyter": {
     "outputs_hidden": false
    },
    "pycharm": {
     "name": "#%%\n"
    }
   },
   "outputs": [],
   "source": [
    "SOURCE_DIR_V1 = \"C:/database/StyleGanv1\"\n",
    "SOURCE_DIR_V2 = \"C:/database/StyleGanv2\"\n",
    "SOURCE_DIR_FFHQ = \"C:/database/FFHQ\"\n",
    "\n"
   ]
  },
  {
   "cell_type": "code",
   "execution_count": 5,
   "metadata": {},
   "outputs": [],
   "source": [
    "def dft_from_single_channel(np_channel: np.ndarray)-> np.ndarray:\n",
    "        np_fft = np.fft.fft2(np_channel)\n",
    "        np_fft = np.fft.fftshift(np_fft)\n",
    "        np_fft = np.log(np.abs(np_fft)+1e-3)\n",
    "        #normalize\n",
    "        fft_min = np.percentile(np_fft,5)\n",
    "        fft_max = np.percentile(np_fft,95)\n",
    "        np_fft = (np_fft - fft_min)/(fft_max - fft_min)\n",
    "        np_fft[np_fft<0] = 0\n",
    "        np_fft[np_fft>1] = 1\n",
    "        return np_fft"
   ]
  },
  {
   "cell_type": "code",
   "execution_count": 6,
   "metadata": {},
   "outputs": [],
   "source": [
    "def dft_from_image(np_img: np.ndarray)-> np.ndarray:\n",
    "    np_fft = np.empty(np_img.shape)\n",
    "    if len(np_img.shape) == 3:\n",
    "        for i in range(np_img.shape[-1]):\n",
    "            np_fft[:,:,i] = dft_from_single_channel(np_img[:,:,i])\n",
    "    elif len(np_img.shape) == 2:\n",
    "        np_fft = dft_from_single_channel(np_img)\n",
    "    else:\n",
    "        raise ValueError('Bad shape of the image')\n",
    "    return np_fft\n"
   ]
  },
  {
   "cell_type": "code",
   "execution_count": 7,
   "metadata": {},
   "outputs": [],
   "source": [
    "def dft_from_dataset(src_path: str)-> np.ndarray:\n",
    "    print(\"Loading dataset...\")\n",
    "    dataset_gen = get_image_data(src_path)\n",
    "    print(\"Processing database...\")\n",
    "    np_fft_dataset = np.zeros(next(dataset_gen).shape, dtype=np.float32)\n",
    "    number_of_images = 0\n",
    "    for np_image in dataset_gen:\n",
    "        np_tmp_fft = dft_from_image(np_image)\n",
    "        np_fft_dataset += np_tmp_fft\n",
    "        number_of_images +=1\n",
    "    return np_fft_dataset / number_of_images\n",
    "        \n",
    "        \n"
   ]
  },
  {
   "cell_type": "code",
   "execution_count": 13,
   "metadata": {},
   "outputs": [],
   "source": [
    "stylev1_datagen = get_image_data(SOURCE_DIR_V1)\n",
    "stylev2_datagen = get_image_data(SOURCE_DIR_V2)\n",
    "ffhq_datagen = get_image_data(SOURCE_DIR_FFHQ)"
   ]
  },
  {
   "cell_type": "code",
   "execution_count": 14,
   "metadata": {},
   "outputs": [
    {
     "ename": "NameError",
     "evalue": "name 'random' is not defined",
     "output_type": "error",
     "traceback": [
      "\u001b[1;31m---------------------------------------------------------------------------\u001b[0m",
      "\u001b[1;31mNameError\u001b[0m                                 Traceback (most recent call last)",
      "\u001b[1;32m<ipython-input-14-17ceaf6d1e32>\u001b[0m in \u001b[0;36m<module>\u001b[1;34m\u001b[0m\n\u001b[1;32m----> 1\u001b[1;33m \u001b[0mv1_image\u001b[0m \u001b[1;33m=\u001b[0m \u001b[0mnext\u001b[0m\u001b[1;33m(\u001b[0m\u001b[0mstylev1_datagen\u001b[0m\u001b[1;33m)\u001b[0m\u001b[1;33m\u001b[0m\u001b[1;33m\u001b[0m\u001b[0m\n\u001b[0m\u001b[0;32m      2\u001b[0m \u001b[0mv2_image\u001b[0m \u001b[1;33m=\u001b[0m \u001b[0mnext\u001b[0m\u001b[1;33m(\u001b[0m\u001b[0mstylev2_datagen\u001b[0m\u001b[1;33m)\u001b[0m\u001b[1;33m\u001b[0m\u001b[1;33m\u001b[0m\u001b[0m\n\u001b[0;32m      3\u001b[0m \u001b[0mffhq_image\u001b[0m \u001b[1;33m=\u001b[0m \u001b[0mnext\u001b[0m\u001b[1;33m(\u001b[0m\u001b[0mffhq_datagen\u001b[0m\u001b[1;33m)\u001b[0m\u001b[1;33m\u001b[0m\u001b[1;33m\u001b[0m\u001b[0m\n\u001b[0;32m      4\u001b[0m \u001b[1;33m\u001b[0m\u001b[0m\n\u001b[0;32m      5\u001b[0m \u001b[1;33m\u001b[0m\u001b[0m\n",
      "\u001b[1;32m~\\developer\\Studia\\fake-faces-detector\\src\\utils\\db_helper.py\u001b[0m in \u001b[0;36mget_image_data\u001b[1;34m(src_path, random_shuffle)\u001b[0m\n\u001b[0;32m     30\u001b[0m \u001b[1;32mdef\u001b[0m \u001b[0mget_image_data\u001b[0m\u001b[1;33m(\u001b[0m\u001b[0msrc_path\u001b[0m\u001b[1;33m:\u001b[0m \u001b[0mstr\u001b[0m\u001b[1;33m,\u001b[0m \u001b[0mrandom_shuffle\u001b[0m\u001b[1;33m=\u001b[0m\u001b[1;32mTrue\u001b[0m\u001b[1;33m)\u001b[0m\u001b[1;33m->\u001b[0m \u001b[0mt\u001b[0m\u001b[1;33m.\u001b[0m\u001b[0mGenerator\u001b[0m\u001b[1;33m[\u001b[0m\u001b[0mnp\u001b[0m\u001b[1;33m.\u001b[0m\u001b[0mndarray\u001b[0m\u001b[1;33m,\u001b[0m \u001b[1;32mNone\u001b[0m\u001b[1;33m,\u001b[0m \u001b[1;32mNone\u001b[0m\u001b[1;33m]\u001b[0m\u001b[1;33m:\u001b[0m\u001b[1;33m\u001b[0m\u001b[1;33m\u001b[0m\u001b[0m\n\u001b[0;32m     31\u001b[0m     \u001b[0mimages_paths\u001b[0m \u001b[1;33m=\u001b[0m \u001b[0mget_files_paths_recursive\u001b[0m\u001b[1;33m(\u001b[0m\u001b[0msrc_path\u001b[0m\u001b[1;33m)\u001b[0m\u001b[1;33m\u001b[0m\u001b[1;33m\u001b[0m\u001b[0m\n\u001b[1;32m---> 32\u001b[1;33m     \u001b[1;32mif\u001b[0m \u001b[0mrandom_shuffle\u001b[0m\u001b[1;33m:\u001b[0m\u001b[1;33m\u001b[0m\u001b[1;33m\u001b[0m\u001b[0m\n\u001b[0m\u001b[0;32m     33\u001b[0m         \u001b[0mrandom\u001b[0m\u001b[1;33m.\u001b[0m\u001b[0mshuffle\u001b[0m\u001b[1;33m(\u001b[0m\u001b[0mimages_paths\u001b[0m\u001b[1;33m)\u001b[0m\u001b[1;33m\u001b[0m\u001b[1;33m\u001b[0m\u001b[0m\n\u001b[0;32m     34\u001b[0m     \u001b[0mprint\u001b[0m\u001b[1;33m(\u001b[0m\u001b[1;34mf\"len: {len(images_paths)}\"\u001b[0m\u001b[1;33m)\u001b[0m\u001b[1;33m\u001b[0m\u001b[1;33m\u001b[0m\u001b[0m\n",
      "\u001b[1;31mNameError\u001b[0m: name 'random' is not defined"
     ]
    }
   ],
   "source": [
    "v1_image = next(stylev1_datagen)\n",
    "v2_image = next(stylev2_datagen)\n",
    "ffhq_image = next(ffhq_datagen)\n",
    "\n",
    "\n",
    "fig, axs = plt.subplots(nrows=2, ncols=3, figsize=(15,15))\n",
    "axs[0,0].set_title('StyleGanV1')\n",
    "axs[0,0].imshow(v1_image)\n",
    "\n",
    "axs[1,0].set_title('DFT_StyleGanV1')\n",
    "axs[1,0].imshow(dft_from_image(v1_image))\n",
    "\n",
    "axs[0,1].set_title('StyleGanV2')\n",
    "axs[0,1].imshow(v2_image)\n",
    "\n",
    "axs[1,1].set_title('DFT_StyleGanV2')\n",
    "axs[1,1].imshow(dft_from_image(v2_image))\n",
    "\n",
    "axs[0,2].set_title('FFHQ')\n",
    "axs[0,2].imshow(ffhq_image)\n",
    "\n",
    "axs[1,2].set_title('DFT_FFHQ')\n",
    "axs[1,2].imshow(dft_from_image(ffhq_image))\n",
    "plt.subplots_adjust(wspace=0.15, hspace=0.01)\n"
   ]
  },
  {
   "cell_type": "code",
   "execution_count": 21,
   "metadata": {},
   "outputs": [
    {
     "data": {
      "text/plain": [
       "numpy.ndarray"
      ]
     },
     "execution_count": 21,
     "metadata": {},
     "output_type": "execute_result"
    }
   ],
   "source": [
    "type(ax[0])"
   ]
  },
  {
   "cell_type": "code",
   "execution_count": null,
   "metadata": {},
   "outputs": [],
   "source": []
  }
 ],
 "metadata": {
  "kernelspec": {
   "display_name": "TF_gpu",
   "language": "python",
   "name": "tf_gpu"
  },
  "language_info": {
   "codemirror_mode": {
    "name": "ipython",
    "version": 3
   },
   "file_extension": ".py",
   "mimetype": "text/x-python",
   "name": "python",
   "nbconvert_exporter": "python",
   "pygments_lexer": "ipython3",
   "version": "3.7.9"
  }
 },
 "nbformat": 4,
 "nbformat_minor": 4
}
