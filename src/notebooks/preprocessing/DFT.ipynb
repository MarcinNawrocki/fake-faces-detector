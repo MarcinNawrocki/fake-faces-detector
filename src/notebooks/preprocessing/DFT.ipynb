{
 "cells": [
  {
   "cell_type": "code",
   "execution_count": 6,
   "metadata": {},
   "outputs": [],
   "source": [
    "import os\n",
    "from PIL import Image\n",
    "import sys \n",
    "\n",
    "import numpy as np\n",
    "import matplotlib.pyplot as plt\n",
    "import cv2\n",
    "\n",
    "sys.path.append('..')\n",
    "from utils.db_helper import get_files_paths_recursive"
   ]
  },
  {
   "cell_type": "code",
   "execution_count": 8,
   "metadata": {
    "collapsed": false,
    "jupyter": {
     "outputs_hidden": false
    },
    "pycharm": {
     "name": "#%%\n"
    }
   },
   "outputs": [],
   "source": [
    "SOURCE_DIR = \"C:/database/StyleGanv1\"\n"
   ]
  },
  {
   "cell_type": "code",
   "execution_count": 80,
   "metadata": {},
   "outputs": [],
   "source": [
    "def get_data(src_path: str)-> np.ndarray:\n",
    "    images_paths = get_files_paths_recursive(src_path)\n",
    "    images = []\n",
    "    \n",
    "    for image_path in images_paths:\n",
    "        tmp_image = Image.open(image_path)\n",
    "        np_image = np.array(tmp_image).astype(np.float32) / 255\n",
    "        images.append(np_image)\n",
    "        tmp_image.close()\n",
    "    return np.array(images)\n"
   ]
  },
  {
   "cell_type": "code",
   "execution_count": 98,
   "metadata": {},
   "outputs": [],
   "source": [
    "def dft_from_single_channel(np_channel: np.ndarray)-> np.ndarray:\n",
    "        np_fft = np.fft.fft2(np_channel)\n",
    "        np_fft = np.fft.fftshift(np_fft)\n",
    "        np_fft = np.log(np.abs(np_fft)+1e-3)\n",
    "        #normalize\n",
    "        fft_min = np.percentile(np_fft,5)\n",
    "        fft_max = np.percentile(np_fft,95)\n",
    "        np_fft = (np_fft - fft_min)/(fft_max - fft_min)\n",
    "        np_fft = (np_fft-0.5)*2\n",
    "        np_fft[np_fft<-1] = -1\n",
    "        np_fft[np_fft>1] = 1\n",
    "        return np_fft"
   ]
  },
  {
   "cell_type": "code",
   "execution_count": 100,
   "metadata": {},
   "outputs": [],
   "source": [
    "def dft_from_image(np_img: np.ndarray)-> np.ndarray:\n",
    "    np_fft = np.empty(np_img.shape)\n",
    "    if len(np_img.shape) == 3:\n",
    "        for i in range(np_img.shape[-1]):\n",
    "            np_fft[:,:,i] = dft_from_single_channel(np_img[:,:,i])\n",
    "    elif len(np_img.shape) == 2:\n",
    "        np_fft = dft_from_single_channel(np_img)\n",
    "    else:\n",
    "        raise ValueError('Bad shape of the image')\n",
    "    return np_fft\n"
   ]
  },
  {
   "cell_type": "code",
   "execution_count": 101,
   "metadata": {},
   "outputs": [],
   "source": [
    "def dft_from_dataset(src_path: str)-> np.ndarray:\n",
    "    print(\"Loading dataset...\")\n",
    "    np_images = get_data(src_path)\n",
    "    fft = []\n",
    "    print(\"Processing database...\")\n",
    "    for x in np_images:\n",
    "        fft.append(dft_from_image(x))\n",
    "    np_fft = np.array(fft)"
   ]
  },
  {
   "cell_type": "code",
   "execution_count": null,
   "metadata": {},
   "outputs": [],
   "source": []
  }
 ],
 "metadata": {
  "kernelspec": {
   "display_name": "TF_gpu",
   "language": "python",
   "name": "tf_gpu"
  },
  "language_info": {
   "codemirror_mode": {
    "name": "ipython",
    "version": 3
   },
   "file_extension": ".py",
   "mimetype": "text/x-python",
   "name": "python",
   "nbconvert_exporter": "python",
   "pygments_lexer": "ipython3",
   "version": "3.7.9"
  }
 },
 "nbformat": 4,
 "nbformat_minor": 4
}
