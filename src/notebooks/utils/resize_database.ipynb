{
 "cells": [
  {
   "cell_type": "code",
   "execution_count": 18,
   "metadata": {
    "collapsed": true
   },
   "outputs": [],
   "source": [
    "import os\n",
    "from glob import glob\n",
    "from PIL import Image"
   ]
  },
  {
   "cell_type": "code",
   "execution_count": 24,
   "outputs": [],
   "source": [
    "SOURCE_PATH = \"F:\\masterh-thesis-databases\\StyleGanv2\"\n",
    "RESULT_PATH = \"C:\\database\\StyleGanv2\"\n",
    "SIZE = (256,256)\n",
    "IMAGE_EXTENSION = \"*.png\""
   ],
   "metadata": {
    "collapsed": false,
    "pycharm": {
     "name": "#%%\n"
    }
   }
  },
  {
   "cell_type": "code",
   "execution_count": 21,
   "outputs": [],
   "source": [
    "# construct images paths\n",
    "images = [image for x in os.walk(SOURCE_PATH) for image in glob(os.path.join(x[0], IMAGE_EXTENSION))]"
   ],
   "metadata": {
    "collapsed": false,
    "pycharm": {
     "name": "#%%\n"
    }
   }
  },
  {
   "cell_type": "code",
   "execution_count": 22,
   "outputs": [],
   "source": [
    "if not os.path.exists(RESULT_PATH):\n",
    "    os.makedirs(RESULT_PATH)\n"
   ],
   "metadata": {
    "collapsed": false,
    "pycharm": {
     "name": "#%%\n"
    }
   }
  },
  {
   "cell_type": "code",
   "execution_count": 26,
   "outputs": [
    {
     "name": "stdout",
     "output_type": "stream",
     "text": [
      "Image number 0\n",
      "Image number 100\n",
      "Image number 200\n",
      "Image number 300\n",
      "Image number 400\n",
      "Image number 500\n",
      "Image number 600\n",
      "Image number 700\n",
      "Image number 800\n",
      "Image number 900\n",
      "Image number 1000\n",
      "Image number 1100\n",
      "Image number 1200\n",
      "Image number 1300\n",
      "Image number 1400\n",
      "Image number 1500\n",
      "Image number 1600\n",
      "Image number 1700\n",
      "Image number 1800\n",
      "Image number 1900\n",
      "Image number 2000\n",
      "Image number 2100\n",
      "Image number 2200\n",
      "Image number 2300\n",
      "Image number 2400\n",
      "Image number 2500\n",
      "Image number 2600\n",
      "Image number 2700\n",
      "Image number 2800\n",
      "Image number 2900\n",
      "Image number 3000\n",
      "Image number 3100\n",
      "Image number 3200\n",
      "Image number 3300\n",
      "Image number 3400\n",
      "Image number 3500\n",
      "Image number 3600\n",
      "Image number 3700\n",
      "Image number 3800\n",
      "Image number 3900\n",
      "Image number 4000\n",
      "Image number 4100\n",
      "Image number 4200\n",
      "Image number 4300\n",
      "Image number 4400\n",
      "Image number 4500\n",
      "Image number 4600\n",
      "Image number 4700\n",
      "Image number 4800\n",
      "Image number 4900\n",
      "Image number 5000\n",
      "Image number 5100\n",
      "Image number 5200\n",
      "Image number 5300\n",
      "Image number 5400\n",
      "Image number 5500\n",
      "Image number 5600\n",
      "Image number 5700\n",
      "Image number 5800\n",
      "Image number 5900\n",
      "Image number 6000\n",
      "Image number 6100\n",
      "Image number 6200\n",
      "Image number 6300\n",
      "Image number 6400\n",
      "Image number 6500\n",
      "Image number 6600\n",
      "Image number 6700\n",
      "Image number 6800\n",
      "Image number 6900\n",
      "Image number 7000\n",
      "Image number 7100\n",
      "Image number 7200\n",
      "Image number 7300\n",
      "Image number 7400\n",
      "Image number 7500\n",
      "Image number 7600\n",
      "Image number 7700\n",
      "Image number 7800\n",
      "Image number 7900\n",
      "Image number 8000\n",
      "Image number 8100\n",
      "Image number 8200\n",
      "Image number 8300\n",
      "Image number 8400\n",
      "Image number 8500\n",
      "Image number 8600\n",
      "Image number 8700\n",
      "Image number 8800\n",
      "Image number 8900\n",
      "Image number 9000\n",
      "Image number 9100\n",
      "Image number 9200\n",
      "Image number 9300\n",
      "Image number 9400\n",
      "Image number 9500\n",
      "Image number 9600\n",
      "Image number 9700\n",
      "Image number 9800\n",
      "Image number 9900\n",
      "Image number 10000\n",
      "Image number 10100\n",
      "Image number 10200\n",
      "Image number 10300\n",
      "Image number 10400\n",
      "Image number 10500\n",
      "Image number 10600\n",
      "Image number 10700\n",
      "Image number 10800\n",
      "Image number 10900\n",
      "Image number 11000\n",
      "Image number 11100\n",
      "Image number 11200\n",
      "Image number 11300\n",
      "Image number 11400\n",
      "Image number 11500\n",
      "Image number 11600\n",
      "Image number 11700\n",
      "Image number 11800\n",
      "Image number 11900\n",
      "Image number 12000\n",
      "Image number 12100\n",
      "Image number 12200\n",
      "Image number 12300\n",
      "Image number 12400\n",
      "Image number 12500\n",
      "Image number 12600\n",
      "Image number 12700\n",
      "Image number 12800\n",
      "Image number 12900\n",
      "Image number 13000\n",
      "Image number 13100\n",
      "Image number 13200\n",
      "Image number 13300\n",
      "Image number 13400\n",
      "Image number 13500\n",
      "Image number 13600\n",
      "Image number 13700\n",
      "Image number 13800\n",
      "Image number 13900\n",
      "Image number 14000\n",
      "Image number 14100\n",
      "Image number 14200\n",
      "Image number 14300\n",
      "Image number 14400\n",
      "Image number 14500\n",
      "Image number 14600\n",
      "Image number 14700\n",
      "Image number 14800\n",
      "Image number 14900\n",
      "Image number 15000\n",
      "Image number 15100\n",
      "Image number 15200\n",
      "Image number 15300\n",
      "Image number 15400\n",
      "Image number 15500\n",
      "Image number 15600\n",
      "Image number 15700\n",
      "Image number 15800\n",
      "Image number 15900\n",
      "Image number 16000\n",
      "Image number 16100\n",
      "Image number 16200\n",
      "Image number 16300\n",
      "Image number 16400\n",
      "Image number 16500\n",
      "Image number 16600\n",
      "Image number 16700\n",
      "Image number 16800\n",
      "Image number 16900\n",
      "Image number 17000\n",
      "Image number 17100\n",
      "Image number 17200\n",
      "Image number 17300\n",
      "Image number 17400\n",
      "Image number 17500\n",
      "Image number 17600\n",
      "Image number 17700\n",
      "Image number 17800\n",
      "Image number 17900\n",
      "Image number 18000\n",
      "Image number 18100\n",
      "Image number 18200\n",
      "Image number 18300\n",
      "Image number 18400\n",
      "Image number 18500\n",
      "Image number 18600\n",
      "Image number 18700\n",
      "Image number 18800\n",
      "Image number 18900\n",
      "Image number 19000\n",
      "Image number 19100\n",
      "Image number 19200\n",
      "Image number 19300\n",
      "Image number 19400\n",
      "Image number 19500\n",
      "Image number 19600\n"
     ]
    }
   ],
   "source": [
    "i = 0\n",
    "for image_path in images:\n",
    "    if i%100 == 0:\n",
    "        print(f\"Image number {i}\")\n",
    "    i += 1\n",
    "    image = Image.open(image_path)\n",
    "    resized_image = image.resize(SIZE)\n",
    "    new_image_path = os.path.join(RESULT_PATH, os.path.basename(image_path))\n",
    "    resized_image.save(new_image_path)"
   ],
   "metadata": {
    "collapsed": false,
    "pycharm": {
     "name": "#%%\n"
    }
   }
  },
  {
   "cell_type": "code",
   "execution_count": 27,
   "outputs": [
    {
     "name": "stdout",
     "output_type": "stream",
     "text": [
      "x\n"
     ]
    }
   ],
   "source": [],
   "metadata": {
    "collapsed": false,
    "pycharm": {
     "name": "#%%\n"
    }
   }
  },
  {
   "cell_type": "code",
   "execution_count": null,
   "outputs": [],
   "source": [],
   "metadata": {
    "collapsed": false,
    "pycharm": {
     "name": "#%%\n"
    }
   }
  }
 ],
 "metadata": {
  "kernelspec": {
   "name": "tf_gpu",
   "language": "python",
   "display_name": "TF_gpu"
  },
  "language_info": {
   "codemirror_mode": {
    "name": "ipython",
    "version": 2
   },
   "file_extension": ".py",
   "mimetype": "text/x-python",
   "name": "python",
   "nbconvert_exporter": "python",
   "pygments_lexer": "ipython2",
   "version": "2.7.6"
  }
 },
 "nbformat": 4,
 "nbformat_minor": 0
}