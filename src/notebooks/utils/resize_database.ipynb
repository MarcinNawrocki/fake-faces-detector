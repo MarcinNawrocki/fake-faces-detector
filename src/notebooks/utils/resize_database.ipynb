{
 "cells": [
  {
   "cell_type": "code",
   "execution_count": null,
   "metadata": {},
   "outputs": [],
   "source": [
    "import os\n",
    "import typing as t\n",
    "from glob import glob\n",
    "from PIL import Image\n"
   ]
  },
  {
   "cell_type": "code",
   "execution_count": null,
   "metadata": {
    "collapsed": false,
    "jupyter": {
     "outputs_hidden": false
    },
    "pycharm": {
     "name": "#%%\n"
    }
   },
   "outputs": [],
   "source": [
    "SOURCE_PATH = os.path.join('F:', os.sep, 'master-thesis-databases', 'FFHQ')\n",
    "RESULT_PATH = os.path.join('C:', os.sep, 'database', 'FFHQ')\n",
    "SIZE = (256,256)\n",
    "IMAGE_EXTENSION = \"*.png\""
   ]
  },
  {
   "cell_type": "code",
   "execution_count": null,
   "metadata": {
    "collapsed": false,
    "jupyter": {
     "outputs_hidden": false
    },
    "pycharm": {
     "name": "#%%\n"
    }
   },
   "outputs": [],
   "source": [
    "# construct images paths\n",
    "def get_files_paths_recursive(dir_path: str, extension=\"*.png\")-> t.List[str]:\n",
    "    images = [image for x in os.walk(dir_path) for image in glob(os.path.join(x[0], extension))]\n",
    "    return images"
   ]
  },
  {
   "cell_type": "code",
   "execution_count": null,
   "metadata": {
    "collapsed": false,
    "jupyter": {
     "outputs_hidden": false
    },
    "pycharm": {
     "name": "#%%\n"
    }
   },
   "outputs": [],
   "source": [
    "def copy_files_and_resize(source_dir: str, result_dir: str, size=(256,256)):\n",
    "    if not os.path.exists(RESULT_PATH):\n",
    "        os.makedirs(RESULT_PATH)\n",
    "    images = get_files_paths_recursive(SOURCE_PATH)\n",
    "    print(f\"Number of images: {len(images)}\")\n",
    "    i = 0\n",
    "    for image_path in images:\n",
    "        if i%100 == 0:\n",
    "            print(f\"Image number {i}\")\n",
    "        i += 1\n",
    "        image = Image.open(image_path)\n",
    "        resized_image = image.resize(SIZE)\n",
    "        new_image_path = os.path.join(RESULT_PATH, os.path.basename(image_path))\n",
    "        resized_image.save(new_image_path)\n"
   ]
  },
  {
   "cell_type": "code",
   "execution_count": null,
   "metadata": {},
   "outputs": [],
   "source": [
    "copy_files_and_resize(SOURCE_PATH, RESULT_PATH, SIZE)"
   ]
  },
  {
   "cell_type": "code",
   "execution_count": null,
   "metadata": {},
   "outputs": [],
   "source": []
  }
 ],
 "metadata": {
  "kernelspec": {
   "display_name": "TF_gpu",
   "language": "python",
   "name": "tf_gpu"
  },
  "language_info": {
   "codemirror_mode": {
    "name": "ipython",
    "version": 3
   },
   "file_extension": ".py",
   "mimetype": "text/x-python",
   "name": "python",
   "nbconvert_exporter": "python",
   "pygments_lexer": "ipython3",
   "version": "3.7.9"
  }
 },
 "nbformat": 4,
 "nbformat_minor": 4
}
