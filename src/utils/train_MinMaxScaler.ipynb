{
 "cells": [
  {
   "cell_type": "code",
   "execution_count": null,
   "metadata": {},
   "outputs": [],
   "source": [
    "import os\n",
    "from PIL import Image\n",
    "\n",
    "import numpy as np\n",
    "import joblib\n",
    "\n",
    "from sklearn.preprocessing import MinMaxScaler\n",
    "\n",
    "from db_helper import get_files_paths_recursive\n",
    "from modelling_functions import scalar_from_single_img"
   ]
  },
  {
   "cell_type": "code",
   "execution_count": null,
   "metadata": {},
   "outputs": [],
   "source": [
    "path = os.path.join(\"C:/\", \"classification_db\", \"train\")\n",
    "base_save_path = os.path.join(\"../../exp/models/Scaler\")\n",
    "if not os.path.exists(base_save_path):\n",
    "    raise ValueError(\"Bad path specified\")"
   ]
  },
  {
   "cell_type": "code",
   "execution_count": null,
   "metadata": {},
   "outputs": [],
   "source": [
    "img_paths = get_files_paths_recursive(path)"
   ]
  },
  {
   "cell_type": "code",
   "execution_count": null,
   "metadata": {},
   "outputs": [],
   "source": [
    "scalars = []\n",
    "for img_path in img_paths:\n",
    "    # load image\n",
    "    pil_image = Image.open(img_path)\n",
    "    np_image = np.array(pil_image).astype((np.uint8))\n",
    "\n",
    "    np_scalars_single = scalar_from_single_img(np_image)\n",
    "\n",
    "    scalars.append(np_scalars_single)"
   ]
  },
  {
   "cell_type": "code",
   "execution_count": null,
   "metadata": {},
   "outputs": [],
   "source": [
    "np_scalars = np.array(scalars)"
   ]
  },
  {
   "cell_type": "code",
   "execution_count": null,
   "metadata": {},
   "outputs": [],
   "source": [
    "scaler = MinMaxScaler()\n",
    "scaler.fit(np_scalars)\n"
   ]
  },
  {
   "cell_type": "code",
   "execution_count": null,
   "metadata": {},
   "outputs": [],
   "source": [
    "scaler_filename = os.path.join(base_save_path, \"scaler.save\")\n",
    "joblib.dump(scaler, scaler_filename) \n"
   ]
  }
 ],
 "metadata": {
  "interpreter": {
   "hash": "0991d9f816f3ae08431cbfe77283594d685f9351f97c7a8199c52bebed5a8c9f"
  },
  "kernelspec": {
   "display_name": "Python 3.7.9 64-bit ('TF_gpu': conda)",
   "name": "python3"
  },
  "language_info": {
   "codemirror_mode": {
    "name": "ipython",
    "version": 3
   },
   "file_extension": ".py",
   "mimetype": "text/x-python",
   "name": "python",
   "nbconvert_exporter": "python",
   "pygments_lexer": "ipython3",
   "version": "3.7.9"
  },
  "orig_nbformat": 4
 },
 "nbformat": 4,
 "nbformat_minor": 2
}
