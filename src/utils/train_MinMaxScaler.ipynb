{
 "cells": [
  {
   "cell_type": "code",
   "execution_count": 8,
   "source": [
    "import os\r\n",
    "from PIL import Image\r\n",
    "\r\n",
    "import numpy as np\r\n",
    "import joblib\r\n",
    "\r\n",
    "from sklearn.preprocessing import MinMaxScaler\r\n",
    "\r\n",
    "from db_helper import get_files_paths_recursive\r\n",
    "from modelling_functions import scalar_from_single_img"
   ],
   "outputs": [],
   "metadata": {}
  },
  {
   "cell_type": "code",
   "execution_count": 19,
   "source": [
    "path = os.path.join(\"C:/\", \"classification_db\", \"train\")\r\n",
    "base_save_path = os.path.join(\"../../exp/models/Scaler\")\r\n",
    "if not os.path.exists(base_save_path):\r\n",
    "    raise ValueError(\"Bad path specified\")"
   ],
   "outputs": [],
   "metadata": {}
  },
  {
   "cell_type": "code",
   "execution_count": 4,
   "source": [
    "img_paths = get_files_paths_recursive(path)"
   ],
   "outputs": [],
   "metadata": {}
  },
  {
   "cell_type": "code",
   "execution_count": 7,
   "source": [
    "scalars = []\r\n",
    "for img_path in img_paths:\r\n",
    "    # load image\r\n",
    "    pil_image = Image.open(img_path)\r\n",
    "    np_image = np.array(pil_image).astype((np.uint8))\r\n",
    "\r\n",
    "    np_scalars_single = scalar_from_single_img(np_image)\r\n",
    "\r\n",
    "    scalars.append(np_scalars_single)"
   ],
   "outputs": [],
   "metadata": {}
  },
  {
   "cell_type": "code",
   "execution_count": 9,
   "source": [
    "np_scalars = np.array(scalars)"
   ],
   "outputs": [],
   "metadata": {}
  },
  {
   "cell_type": "code",
   "execution_count": 10,
   "source": [
    "scaler = MinMaxScaler()\r\n",
    "scaler.fit(np_scalars)\r\n"
   ],
   "outputs": [
    {
     "output_type": "execute_result",
     "data": {
      "text/plain": [
       "MinMaxScaler()"
      ]
     },
     "metadata": {},
     "execution_count": 10
    }
   ],
   "metadata": {}
  },
  {
   "cell_type": "code",
   "execution_count": 20,
   "source": [
    "scaler_filename = os.path.join(base_save_path, \"scaler.save\")\r\n",
    "joblib.dump(scaler, scaler_filename) \r\n"
   ],
   "outputs": [
    {
     "output_type": "execute_result",
     "data": {
      "text/plain": [
       "['../../exp/models/Scaler\\\\scaler.save']"
      ]
     },
     "metadata": {},
     "execution_count": 20
    }
   ],
   "metadata": {}
  }
 ],
 "metadata": {
  "orig_nbformat": 4,
  "language_info": {
   "name": "python",
   "version": "3.7.9",
   "mimetype": "text/x-python",
   "codemirror_mode": {
    "name": "ipython",
    "version": 3
   },
   "pygments_lexer": "ipython3",
   "nbconvert_exporter": "python",
   "file_extension": ".py"
  },
  "kernelspec": {
   "name": "python3",
   "display_name": "Python 3.7.9 64-bit ('TF_gpu': conda)"
  },
  "interpreter": {
   "hash": "0991d9f816f3ae08431cbfe77283594d685f9351f97c7a8199c52bebed5a8c9f"
  }
 },
 "nbformat": 4,
 "nbformat_minor": 2
}