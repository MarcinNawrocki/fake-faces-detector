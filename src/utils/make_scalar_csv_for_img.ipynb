{
 "cells": [
  {
   "cell_type": "code",
   "execution_count": 1,
   "source": [
    "import os\r\n",
    "from PIL import Image\r\n",
    "\r\n",
    "import pandas as pd\r\n",
    "import numpy as np\r\n",
    "import matplotlib.pyplot as plt\r\n",
    "\r\n",
    "from db_helper import get_files_paths_recursive\r\n",
    "from modelling_functions import getAdditionalScalars, scalar_from_single_img"
   ],
   "outputs": [],
   "metadata": {}
  },
  {
   "cell_type": "code",
   "execution_count": 2,
   "source": [
    "categories_and_paths = {0: R\"C:\\small_db/fake\", \r\n",
    "                        1 :R\"C:\\small_db/real\"}"
   ],
   "outputs": [],
   "metadata": {}
  },
  {
   "cell_type": "code",
   "execution_count": 11,
   "source": [
    "path = os.path.join(\"C:/\", \"small_db\")\r\n",
    "new_ext = \".csv\""
   ],
   "outputs": [],
   "metadata": {}
  },
  {
   "cell_type": "code",
   "execution_count": 20,
   "source": [
    "img_paths = get_files_paths_recursive(path)"
   ],
   "outputs": [],
   "metadata": {}
  },
  {
   "cell_type": "code",
   "execution_count": null,
   "source": [],
   "outputs": [],
   "metadata": {}
  },
  {
   "cell_type": "code",
   "execution_count": 28,
   "source": [
    "for img_path in img_paths[:3]:\r\n",
    "    pre, ext = os.path.splitext(img_path)\r\n",
    "    new_img_path = pre + new_ext\r\n",
    "\r\n",
    "    # load image\r\n",
    "    pil_image = Image.open(img_path)\r\n",
    "    np_image = np.array(pil_image).astype((np.uint8))\r\n",
    "\r\n",
    "    np_scalars = scalar_from_single_img(np_image)\r\n",
    "\r\n",
    "    print(new_img_path)\r\n",
    "    scalars = pd.Series(np_scalars)\r\n",
    "    scalars.to_csv(new_img_path,header=None)\r\n"
   ],
   "outputs": [
    {
     "output_type": "stream",
     "name": "stdout",
     "text": [
      "C:/small_db\\fake\\1.csv\n",
      "C:/small_db\\fake\\10.csv\n",
      "C:/small_db\\fake\\100.csv\n"
     ]
    }
   ],
   "metadata": {}
  },
  {
   "cell_type": "code",
   "execution_count": 30,
   "source": [
    "x = pd.read_csv(R\"C:/small_db\\fake\\1.csv\", index_col=0, header=None, squeeze=True)"
   ],
   "outputs": [],
   "metadata": {}
  },
  {
   "cell_type": "code",
   "execution_count": 33,
   "source": [
    "np.array(x).shape"
   ],
   "outputs": [
    {
     "output_type": "execute_result",
     "data": {
      "text/plain": [
       "(18,)"
      ]
     },
     "metadata": {},
     "execution_count": 33
    }
   ],
   "metadata": {}
  },
  {
   "cell_type": "code",
   "execution_count": null,
   "source": [],
   "outputs": [],
   "metadata": {}
  }
 ],
 "metadata": {
  "orig_nbformat": 4,
  "language_info": {
   "name": "python",
   "version": "3.7.9",
   "mimetype": "text/x-python",
   "codemirror_mode": {
    "name": "ipython",
    "version": 3
   },
   "pygments_lexer": "ipython3",
   "nbconvert_exporter": "python",
   "file_extension": ".py"
  },
  "kernelspec": {
   "name": "python3",
   "display_name": "Python 3.7.9 64-bit ('TF_gpu': conda)"
  },
  "interpreter": {
   "hash": "0991d9f816f3ae08431cbfe77283594d685f9351f97c7a8199c52bebed5a8c9f"
  }
 },
 "nbformat": 4,
 "nbformat_minor": 2
}