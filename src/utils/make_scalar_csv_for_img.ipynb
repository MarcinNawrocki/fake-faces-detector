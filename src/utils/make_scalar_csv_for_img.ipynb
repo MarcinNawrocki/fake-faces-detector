{
 "cells": [
  {
   "cell_type": "code",
   "execution_count": null,
   "metadata": {},
   "outputs": [],
   "source": [
    "import os\n",
    "from PIL import Image\n",
    "\n",
    "import pandas as pd\n",
    "import numpy as np\n",
    "import matplotlib.pyplot as plt\n",
    "\n",
    "from db_helper import get_files_paths_recursive\n",
    "from modelling_functions import getAdditionalScalars, scalar_from_single_img"
   ]
  },
  {
   "cell_type": "code",
   "execution_count": null,
   "metadata": {},
   "outputs": [],
   "source": [
    "path = os.path.join(\"C:/\", \"classification_db\")\n",
    "new_ext = \".csv\""
   ]
  },
  {
   "cell_type": "code",
   "execution_count": null,
   "metadata": {},
   "outputs": [],
   "source": [
    "img_paths = get_files_paths_recursive(path)"
   ]
  },
  {
   "cell_type": "code",
   "execution_count": null,
   "metadata": {},
   "outputs": [],
   "source": [
    "len(img_paths)"
   ]
  },
  {
   "cell_type": "code",
   "execution_count": null,
   "metadata": {},
   "outputs": [],
   "source": [
    "i=0\n",
    "for img_path in img_paths:\n",
    "    i+=1\n",
    "    if i%500 == 0:\n",
    "        print(f\"Processed images: {i}\")\n",
    "\n",
    "    pre, ext = os.path.splitext(img_path)\n",
    "    new_img_path = pre + new_ext\n",
    "\n",
    "    # load image\n",
    "    pil_image = Image.open(img_path)\n",
    "    np_image = np.array(pil_image).astype((np.uint8))\n",
    "\n",
    "    np_scalars = scalar_from_single_img(np_image)\n",
    "\n",
    "    scalars = pd.Series(np_scalars)\n",
    "    scalars.to_csv(new_img_path,header=None)\n"
   ]
  },
  {
   "cell_type": "code",
   "execution_count": null,
   "metadata": {},
   "outputs": [],
   "source": [
    "x = pd.read_csv(R\"C:/small_db\\fake\\1.csv\", index_col=0, header=None, squeeze=True)"
   ]
  },
  {
   "cell_type": "code",
   "execution_count": null,
   "metadata": {},
   "outputs": [],
   "source": [
    "np.array(x).shape"
   ]
  },
  {
   "cell_type": "code",
   "execution_count": null,
   "metadata": {},
   "outputs": [],
   "source": []
  }
 ],
 "metadata": {
  "interpreter": {
   "hash": "0991d9f816f3ae08431cbfe77283594d685f9351f97c7a8199c52bebed5a8c9f"
  },
  "kernelspec": {
   "display_name": "Python 3.7.9 64-bit ('TF_gpu': conda)",
   "name": "python3"
  },
  "language_info": {
   "codemirror_mode": {
    "name": "ipython",
    "version": 3
   },
   "file_extension": ".py",
   "mimetype": "text/x-python",
   "name": "python",
   "nbconvert_exporter": "python",
   "pygments_lexer": "ipython3",
   "version": "3.7.9"
  },
  "orig_nbformat": 4
 },
 "nbformat": 4,
 "nbformat_minor": 2
}
