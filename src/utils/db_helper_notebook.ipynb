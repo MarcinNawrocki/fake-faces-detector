{
 "cells": [
  {
   "cell_type": "code",
   "execution_count": null,
   "metadata": {},
   "outputs": [],
   "source": [
    "import os\n",
    "import typing as t\n",
    "from glob import glob\n",
    "from PIL import Image\n",
    "from shutil import copyfile\n"
   ]
  },
  {
   "cell_type": "code",
   "execution_count": null,
   "metadata": {
    "collapsed": false,
    "jupyter": {
     "outputs_hidden": false
    },
    "pycharm": {
     "name": "#%%\n"
    }
   },
   "outputs": [],
   "source": [
    "STYLEV1_PATH = os.path.join('C:', os.sep, 'database', 'StyleGanv1')\n",
    "STYLEV2_PATH = os.path.join('C:', os.sep, 'database', 'StyleGanv2')\n",
    "RESULT_PATH = os.path.join('C:', os.sep, 'classification_database', 'fake')\n",
    "#SIZE = (256,256)\n",
    "IMAGE_EXTENSION = \"*.png\""
   ]
  },
  {
   "cell_type": "code",
   "execution_count": null,
   "metadata": {
    "collapsed": false,
    "jupyter": {
     "outputs_hidden": false
    },
    "pycharm": {
     "name": "#%%\n"
    }
   },
   "outputs": [],
   "source": [
    "# construct images paths\n",
    "def get_files_paths_recursive(dir_path: str, extension=\"*.png\")-> t.List[str]:\n",
    "    images = [image for x in os.walk(dir_path) for image in glob(os.path.join(x[0], extension))]\n",
    "    return images"
   ]
  },
  {
   "cell_type": "code",
   "execution_count": 7,
   "metadata": {
    "collapsed": false,
    "jupyter": {
     "outputs_hidden": false
    },
    "pycharm": {
     "name": "#%%\n"
    }
   },
   "outputs": [],
   "source": [
    "def copy_files_and_resize(source_dir: str, result_dir: str, size=(256,256)):\n",
    "    if not os.path.exists(result_dir):\n",
    "        os.makedirs(result_dir)\n",
    "    images = get_files_paths_recursive(source_dir)\n",
    "    print(f\"Number of images: {len(images)}\")\n",
    "    i = 0\n",
    "    for image_path in images:\n",
    "        if i%100 == 0:\n",
    "            print(f\"Image number {i}\")\n",
    "        i += 1\n",
    "        image = Image.open(image_path)\n",
    "        resized_image = image.resize(size)\n",
    "        new_image_path = os.path.join(result_dir, os.path.basename(image_path))\n",
    "        resized_image.save(new_image_path)\n"
   ]
  },
  {
   "cell_type": "code",
   "execution_count": null,
   "metadata": {},
   "outputs": [],
   "source": [
    "def construct_db_from_dirs(source_dirs: t.List[str], result_dir: str, extension=\".png\"):\n",
    "    if not os.path.exists(result_dir):\n",
    "        os.makedirs(result_dir)\n",
    "    images = []\n",
    "    for source_dir in source_dirs:\n",
    "        tmp_imgs = []\n",
    "        tmp_imgs = get_files_paths_recursive(source_dir)\n",
    "        images += tmp_imgs\n",
    "    i=0\n",
    "    print(len(images))\n",
    "    for image_path in images:\n",
    "        if i%100 == 0:\n",
    "            print(f\"Image number {i}\")\n",
    "        i += 1\n",
    "        new_image_path = os.path.join(result_dir, (str(i)+extension))\n",
    "        copyfile(image_path, new_image_path)\n",
    "\n"
   ]
  },
  {
   "cell_type": "code",
   "execution_count": null,
   "metadata": {},
   "outputs": [],
   "source": [
    "src_path = R\"F:\\master-thesis-databases\\fake20k_final\"\n",
    "result_path = R\"C:\\Users\\Marcin\\Dysk Google\\masterDB\\fake\"\n",
    "copy_files_and_resize(src_path, result_path, size=(299,299))"
   ]
  }
 ],
 "metadata": {
  "kernelspec": {
   "name": "python379jvsc74a57bd00991d9f816f3ae08431cbfe77283594d685f9351f97c7a8199c52bebed5a8c9f",
   "display_name": "Python 3.7.9 64-bit ('TF_gpu': conda)"
  },
  "language_info": {
   "codemirror_mode": {
    "name": "ipython",
    "version": 3
   },
   "file_extension": ".py",
   "mimetype": "text/x-python",
   "name": "python",
   "nbconvert_exporter": "python",
   "pygments_lexer": "ipython3",
   "version": "3.7.9"
  }
 },
 "nbformat": 4,
 "nbformat_minor": 4
}